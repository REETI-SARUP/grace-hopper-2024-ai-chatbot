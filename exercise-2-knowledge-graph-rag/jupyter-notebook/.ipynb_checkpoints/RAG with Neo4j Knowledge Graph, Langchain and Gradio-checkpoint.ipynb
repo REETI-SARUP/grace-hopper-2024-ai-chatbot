{
 "cells": [
  {
   "cell_type": "code",
   "execution_count": 27,
   "id": "a9e11268-87f2-4461-a3a7-95a3a7a2cdea",
   "metadata": {
    "scrolled": true
   },
   "outputs": [
    {
     "name": "stdout",
     "output_type": "stream",
     "text": [
      "Requirement already satisfied: langchain_huggingface in /Users/rsarup/.pyenv/versions/3.11.7/lib/python3.11/site-packages (0.0.3)\n",
      "Requirement already satisfied: neo4j in /Users/rsarup/.pyenv/versions/3.11.7/lib/python3.11/site-packages (5.23.0)\n",
      "Requirement already satisfied: langchain_experimental in /Users/rsarup/.pyenv/versions/3.11.7/lib/python3.11/site-packages (0.0.64)\n",
      "Requirement already satisfied: langchain_core in /Users/rsarup/.pyenv/versions/3.11.7/lib/python3.11/site-packages (0.2.27)\n",
      "Requirement already satisfied: langchain_chroma in /Users/rsarup/.pyenv/versions/3.11.7/lib/python3.11/site-packages (0.1.4)\n",
      "Requirement already satisfied: yfiles_jupyter_graphs==1.2.1 in /Users/rsarup/.pyenv/versions/3.11.7/lib/python3.11/site-packages (1.2.1)\n",
      "Requirement already satisfied: ipywidgets==7.7.2 in /Users/rsarup/.pyenv/versions/3.11.7/lib/python3.11/site-packages (7.7.2)\n",
      "Requirement already satisfied: jupyterlab_widgets==1.0.2 in /Users/rsarup/.pyenv/versions/3.11.7/lib/python3.11/site-packages (1.0.2)\n",
      "Requirement already satisfied: ipykernel>=4.5.1 in /Users/rsarup/.pyenv/versions/3.11.7/lib/python3.11/site-packages (from ipywidgets==7.7.2) (6.29.2)\n",
      "Requirement already satisfied: ipython-genutils~=0.2.0 in /Users/rsarup/.pyenv/versions/3.11.7/lib/python3.11/site-packages (from ipywidgets==7.7.2) (0.2.0)\n",
      "Requirement already satisfied: traitlets>=4.3.1 in /Users/rsarup/.pyenv/versions/3.11.7/lib/python3.11/site-packages (from ipywidgets==7.7.2) (5.14.1)\n",
      "Requirement already satisfied: widgetsnbextension~=3.6.0 in /Users/rsarup/.pyenv/versions/3.11.7/lib/python3.11/site-packages (from ipywidgets==7.7.2) (3.6.9)\n",
      "Requirement already satisfied: ipython>=4.0.0 in /Users/rsarup/.pyenv/versions/3.11.7/lib/python3.11/site-packages (from ipywidgets==7.7.2) (8.21.0)\n",
      "Requirement already satisfied: huggingface-hub>=0.23.0 in /Users/rsarup/.pyenv/versions/3.11.7/lib/python3.11/site-packages (from langchain_huggingface) (0.23.4)\n",
      "Requirement already satisfied: sentence-transformers>=2.6.0 in /Users/rsarup/.pyenv/versions/3.11.7/lib/python3.11/site-packages (from langchain_huggingface) (3.0.1)\n",
      "Requirement already satisfied: tokenizers>=0.19.1 in /Users/rsarup/.pyenv/versions/3.11.7/lib/python3.11/site-packages (from langchain_huggingface) (0.19.1)\n",
      "Requirement already satisfied: transformers>=4.39.0 in /Users/rsarup/.pyenv/versions/3.11.7/lib/python3.11/site-packages (from langchain_huggingface) (4.42.3)\n",
      "Requirement already satisfied: pytz in /Users/rsarup/.pyenv/versions/3.11.7/lib/python3.11/site-packages (from neo4j) (2024.1)\n",
      "Requirement already satisfied: langchain-community<0.3.0,>=0.2.10 in /Users/rsarup/.pyenv/versions/3.11.7/lib/python3.11/site-packages (from langchain_experimental) (0.2.11)\n",
      "Requirement already satisfied: PyYAML>=5.3 in /Users/rsarup/.pyenv/versions/3.11.7/lib/python3.11/site-packages (from langchain_core) (6.0.1)\n",
      "Requirement already satisfied: jsonpatch<2.0,>=1.33 in /Users/rsarup/.pyenv/versions/3.11.7/lib/python3.11/site-packages (from langchain_core) (1.33)\n",
      "Requirement already satisfied: langsmith<0.2.0,>=0.1.75 in /Users/rsarup/.pyenv/versions/3.11.7/lib/python3.11/site-packages (from langchain_core) (0.1.96)\n",
      "Requirement already satisfied: packaging<25,>=23.2 in /Users/rsarup/.pyenv/versions/3.11.7/lib/python3.11/site-packages (from langchain_core) (23.2)\n",
      "Requirement already satisfied: pydantic<3,>=1 in /Users/rsarup/.pyenv/versions/3.11.7/lib/python3.11/site-packages (from langchain_core) (2.6.1)\n",
      "Requirement already satisfied: tenacity!=8.4.0,<9.0.0,>=8.1.0 in /Users/rsarup/.pyenv/versions/3.11.7/lib/python3.11/site-packages (from langchain_core) (8.2.3)\n",
      "Requirement already satisfied: typing-extensions>=4.7 in /Users/rsarup/.pyenv/versions/3.11.7/lib/python3.11/site-packages (from langchain_core) (4.9.0)\n",
      "Requirement already satisfied: chromadb!=0.5.4,!=0.5.5,<0.6.0,>=0.4.0 in /Users/rsarup/.pyenv/versions/3.11.7/lib/python3.11/site-packages (from langchain_chroma) (0.4.22)\n",
      "Requirement already satisfied: fastapi<1,>=0.95.2 in /Users/rsarup/.pyenv/versions/3.11.7/lib/python3.11/site-packages (from langchain_chroma) (0.109.2)\n",
      "Requirement already satisfied: numpy<2,>=1 in /Users/rsarup/.pyenv/versions/3.11.7/lib/python3.11/site-packages (from langchain_chroma) (1.26.4)\n",
      "Requirement already satisfied: build>=1.0.3 in /Users/rsarup/.pyenv/versions/3.11.7/lib/python3.11/site-packages (from chromadb!=0.5.4,!=0.5.5,<0.6.0,>=0.4.0->langchain_chroma) (1.0.3)\n",
      "Requirement already satisfied: requests>=2.28 in /Users/rsarup/.pyenv/versions/3.11.7/lib/python3.11/site-packages (from chromadb!=0.5.4,!=0.5.5,<0.6.0,>=0.4.0->langchain_chroma) (2.32.3)\n",
      "Requirement already satisfied: chroma-hnswlib==0.7.3 in /Users/rsarup/.pyenv/versions/3.11.7/lib/python3.11/site-packages (from chromadb!=0.5.4,!=0.5.5,<0.6.0,>=0.4.0->langchain_chroma) (0.7.3)\n",
      "Requirement already satisfied: uvicorn>=0.18.3 in /Users/rsarup/.pyenv/versions/3.11.7/lib/python3.11/site-packages (from uvicorn[standard]>=0.18.3->chromadb!=0.5.4,!=0.5.5,<0.6.0,>=0.4.0->langchain_chroma) (0.27.1)\n",
      "Requirement already satisfied: posthog>=2.4.0 in /Users/rsarup/.pyenv/versions/3.11.7/lib/python3.11/site-packages (from chromadb!=0.5.4,!=0.5.5,<0.6.0,>=0.4.0->langchain_chroma) (3.4.1)\n",
      "Requirement already satisfied: pulsar-client>=3.1.0 in /Users/rsarup/.pyenv/versions/3.11.7/lib/python3.11/site-packages (from chromadb!=0.5.4,!=0.5.5,<0.6.0,>=0.4.0->langchain_chroma) (3.4.0)\n",
      "Requirement already satisfied: onnxruntime>=1.14.1 in /Users/rsarup/.pyenv/versions/3.11.7/lib/python3.11/site-packages (from chromadb!=0.5.4,!=0.5.5,<0.6.0,>=0.4.0->langchain_chroma) (1.17.0)\n",
      "Requirement already satisfied: opentelemetry-api>=1.2.0 in /Users/rsarup/.pyenv/versions/3.11.7/lib/python3.11/site-packages (from chromadb!=0.5.4,!=0.5.5,<0.6.0,>=0.4.0->langchain_chroma) (1.22.0)\n",
      "Requirement already satisfied: opentelemetry-exporter-otlp-proto-grpc>=1.2.0 in /Users/rsarup/.pyenv/versions/3.11.7/lib/python3.11/site-packages (from chromadb!=0.5.4,!=0.5.5,<0.6.0,>=0.4.0->langchain_chroma) (1.22.0)\n",
      "Requirement already satisfied: opentelemetry-instrumentation-fastapi>=0.41b0 in /Users/rsarup/.pyenv/versions/3.11.7/lib/python3.11/site-packages (from chromadb!=0.5.4,!=0.5.5,<0.6.0,>=0.4.0->langchain_chroma) (0.43b0)\n",
      "Requirement already satisfied: opentelemetry-sdk>=1.2.0 in /Users/rsarup/.pyenv/versions/3.11.7/lib/python3.11/site-packages (from chromadb!=0.5.4,!=0.5.5,<0.6.0,>=0.4.0->langchain_chroma) (1.22.0)\n",
      "Requirement already satisfied: pypika>=0.48.9 in /Users/rsarup/.pyenv/versions/3.11.7/lib/python3.11/site-packages (from chromadb!=0.5.4,!=0.5.5,<0.6.0,>=0.4.0->langchain_chroma) (0.48.9)\n",
      "Requirement already satisfied: tqdm>=4.65.0 in /Users/rsarup/.pyenv/versions/3.11.7/lib/python3.11/site-packages (from chromadb!=0.5.4,!=0.5.5,<0.6.0,>=0.4.0->langchain_chroma) (4.66.5)\n",
      "Requirement already satisfied: overrides>=7.3.1 in /Users/rsarup/.pyenv/versions/3.11.7/lib/python3.11/site-packages (from chromadb!=0.5.4,!=0.5.5,<0.6.0,>=0.4.0->langchain_chroma) (7.7.0)\n",
      "Requirement already satisfied: importlib-resources in /Users/rsarup/.pyenv/versions/3.11.7/lib/python3.11/site-packages (from chromadb!=0.5.4,!=0.5.5,<0.6.0,>=0.4.0->langchain_chroma) (6.1.1)\n",
      "Requirement already satisfied: grpcio>=1.58.0 in /Users/rsarup/.pyenv/versions/3.11.7/lib/python3.11/site-packages (from chromadb!=0.5.4,!=0.5.5,<0.6.0,>=0.4.0->langchain_chroma) (1.60.1)\n",
      "Requirement already satisfied: bcrypt>=4.0.1 in /Users/rsarup/.pyenv/versions/3.11.7/lib/python3.11/site-packages (from chromadb!=0.5.4,!=0.5.5,<0.6.0,>=0.4.0->langchain_chroma) (4.1.2)\n",
      "Requirement already satisfied: typer>=0.9.0 in /Users/rsarup/.pyenv/versions/3.11.7/lib/python3.11/site-packages (from chromadb!=0.5.4,!=0.5.5,<0.6.0,>=0.4.0->langchain_chroma) (0.12.3)\n",
      "Requirement already satisfied: kubernetes>=28.1.0 in /Users/rsarup/.pyenv/versions/3.11.7/lib/python3.11/site-packages (from chromadb!=0.5.4,!=0.5.5,<0.6.0,>=0.4.0->langchain_chroma) (29.0.0)\n",
      "Requirement already satisfied: mmh3>=4.0.1 in /Users/rsarup/.pyenv/versions/3.11.7/lib/python3.11/site-packages (from chromadb!=0.5.4,!=0.5.5,<0.6.0,>=0.4.0->langchain_chroma) (4.1.0)\n",
      "Requirement already satisfied: starlette<0.37.0,>=0.36.3 in /Users/rsarup/.pyenv/versions/3.11.7/lib/python3.11/site-packages (from fastapi<1,>=0.95.2->langchain_chroma) (0.36.3)\n",
      "Requirement already satisfied: filelock in /Users/rsarup/.pyenv/versions/3.11.7/lib/python3.11/site-packages (from huggingface-hub>=0.23.0->langchain_huggingface) (3.13.1)\n",
      "Requirement already satisfied: fsspec>=2023.5.0 in /Users/rsarup/.pyenv/versions/3.11.7/lib/python3.11/site-packages (from huggingface-hub>=0.23.0->langchain_huggingface) (2024.2.0)\n",
      "Requirement already satisfied: appnope in /Users/rsarup/.pyenv/versions/3.11.7/lib/python3.11/site-packages (from ipykernel>=4.5.1->ipywidgets==7.7.2) (0.1.4)\n",
      "Requirement already satisfied: comm>=0.1.1 in /Users/rsarup/.pyenv/versions/3.11.7/lib/python3.11/site-packages (from ipykernel>=4.5.1->ipywidgets==7.7.2) (0.2.1)\n",
      "Requirement already satisfied: debugpy>=1.6.5 in /Users/rsarup/.pyenv/versions/3.11.7/lib/python3.11/site-packages (from ipykernel>=4.5.1->ipywidgets==7.7.2) (1.8.1)\n",
      "Requirement already satisfied: jupyter-client>=6.1.12 in /Users/rsarup/.pyenv/versions/3.11.7/lib/python3.11/site-packages (from ipykernel>=4.5.1->ipywidgets==7.7.2) (8.6.0)\n",
      "Requirement already satisfied: jupyter-core!=5.0.*,>=4.12 in /Users/rsarup/.pyenv/versions/3.11.7/lib/python3.11/site-packages (from ipykernel>=4.5.1->ipywidgets==7.7.2) (5.7.1)\n",
      "Requirement already satisfied: matplotlib-inline>=0.1 in /Users/rsarup/.pyenv/versions/3.11.7/lib/python3.11/site-packages (from ipykernel>=4.5.1->ipywidgets==7.7.2) (0.1.6)\n",
      "Requirement already satisfied: nest-asyncio in /Users/rsarup/.pyenv/versions/3.11.7/lib/python3.11/site-packages (from ipykernel>=4.5.1->ipywidgets==7.7.2) (1.6.0)\n",
      "Requirement already satisfied: psutil in /Users/rsarup/.pyenv/versions/3.11.7/lib/python3.11/site-packages (from ipykernel>=4.5.1->ipywidgets==7.7.2) (5.9.8)\n",
      "Requirement already satisfied: pyzmq>=24 in /Users/rsarup/.pyenv/versions/3.11.7/lib/python3.11/site-packages (from ipykernel>=4.5.1->ipywidgets==7.7.2) (25.1.2)\n",
      "Requirement already satisfied: tornado>=6.1 in /Users/rsarup/.pyenv/versions/3.11.7/lib/python3.11/site-packages (from ipykernel>=4.5.1->ipywidgets==7.7.2) (6.4)\n",
      "Requirement already satisfied: decorator in /Users/rsarup/.pyenv/versions/3.11.7/lib/python3.11/site-packages (from ipython>=4.0.0->ipywidgets==7.7.2) (5.1.1)\n",
      "Requirement already satisfied: jedi>=0.16 in /Users/rsarup/.pyenv/versions/3.11.7/lib/python3.11/site-packages (from ipython>=4.0.0->ipywidgets==7.7.2) (0.19.1)\n",
      "Requirement already satisfied: prompt-toolkit<3.1.0,>=3.0.41 in /Users/rsarup/.pyenv/versions/3.11.7/lib/python3.11/site-packages (from ipython>=4.0.0->ipywidgets==7.7.2) (3.0.43)\n",
      "Requirement already satisfied: pygments>=2.4.0 in /Users/rsarup/.pyenv/versions/3.11.7/lib/python3.11/site-packages (from ipython>=4.0.0->ipywidgets==7.7.2) (2.17.2)\n",
      "Requirement already satisfied: stack-data in /Users/rsarup/.pyenv/versions/3.11.7/lib/python3.11/site-packages (from ipython>=4.0.0->ipywidgets==7.7.2) (0.6.3)\n",
      "Requirement already satisfied: pexpect>4.3 in /Users/rsarup/.pyenv/versions/3.11.7/lib/python3.11/site-packages (from ipython>=4.0.0->ipywidgets==7.7.2) (4.9.0)\n",
      "Requirement already satisfied: jsonpointer>=1.9 in /Users/rsarup/.pyenv/versions/3.11.7/lib/python3.11/site-packages (from jsonpatch<2.0,>=1.33->langchain_core) (2.4)\n",
      "Requirement already satisfied: SQLAlchemy<3,>=1.4 in /Users/rsarup/.pyenv/versions/3.11.7/lib/python3.11/site-packages (from langchain-community<0.3.0,>=0.2.10->langchain_experimental) (2.0.27)\n",
      "Requirement already satisfied: aiohttp<4.0.0,>=3.8.3 in /Users/rsarup/.pyenv/versions/3.11.7/lib/python3.11/site-packages (from langchain-community<0.3.0,>=0.2.10->langchain_experimental) (3.9.3)\n",
      "Requirement already satisfied: dataclasses-json<0.7,>=0.5.7 in /Users/rsarup/.pyenv/versions/3.11.7/lib/python3.11/site-packages (from langchain-community<0.3.0,>=0.2.10->langchain_experimental) (0.6.4)\n",
      "Requirement already satisfied: langchain<0.3.0,>=0.2.12 in /Users/rsarup/.pyenv/versions/3.11.7/lib/python3.11/site-packages (from langchain-community<0.3.0,>=0.2.10->langchain_experimental) (0.2.12)\n",
      "Requirement already satisfied: orjson<4.0.0,>=3.9.14 in /Users/rsarup/.pyenv/versions/3.11.7/lib/python3.11/site-packages (from langsmith<0.2.0,>=0.1.75->langchain_core) (3.10.6)\n",
      "Requirement already satisfied: annotated-types>=0.4.0 in /Users/rsarup/.pyenv/versions/3.11.7/lib/python3.11/site-packages (from pydantic<3,>=1->langchain_core) (0.6.0)\n",
      "Requirement already satisfied: pydantic-core==2.16.2 in /Users/rsarup/.pyenv/versions/3.11.7/lib/python3.11/site-packages (from pydantic<3,>=1->langchain_core) (2.16.2)\n",
      "Requirement already satisfied: torch>=1.11.0 in /Users/rsarup/.pyenv/versions/3.11.7/lib/python3.11/site-packages (from sentence-transformers>=2.6.0->langchain_huggingface) (2.4.0)\n",
      "Requirement already satisfied: scikit-learn in /Users/rsarup/.pyenv/versions/3.11.7/lib/python3.11/site-packages (from sentence-transformers>=2.6.0->langchain_huggingface) (1.5.0)\n",
      "Requirement already satisfied: scipy in /Users/rsarup/.pyenv/versions/3.11.7/lib/python3.11/site-packages (from sentence-transformers>=2.6.0->langchain_huggingface) (1.12.0)\n",
      "Requirement already satisfied: Pillow in /Users/rsarup/.pyenv/versions/3.11.7/lib/python3.11/site-packages (from sentence-transformers>=2.6.0->langchain_huggingface) (10.3.0)\n",
      "Requirement already satisfied: regex!=2019.12.17 in /Users/rsarup/.pyenv/versions/3.11.7/lib/python3.11/site-packages (from transformers>=4.39.0->langchain_huggingface) (2024.5.15)\n",
      "Requirement already satisfied: safetensors>=0.4.1 in /Users/rsarup/.pyenv/versions/3.11.7/lib/python3.11/site-packages (from transformers>=4.39.0->langchain_huggingface) (0.4.3)\n",
      "Requirement already satisfied: notebook>=4.4.1 in /Users/rsarup/.pyenv/versions/3.11.7/lib/python3.11/site-packages (from widgetsnbextension~=3.6.0->ipywidgets==7.7.2) (7.1.0)\n",
      "Requirement already satisfied: aiosignal>=1.1.2 in /Users/rsarup/.pyenv/versions/3.11.7/lib/python3.11/site-packages (from aiohttp<4.0.0,>=3.8.3->langchain-community<0.3.0,>=0.2.10->langchain_experimental) (1.3.1)\n",
      "Requirement already satisfied: attrs>=17.3.0 in /Users/rsarup/.pyenv/versions/3.11.7/lib/python3.11/site-packages (from aiohttp<4.0.0,>=3.8.3->langchain-community<0.3.0,>=0.2.10->langchain_experimental) (23.2.0)\n",
      "Requirement already satisfied: frozenlist>=1.1.1 in /Users/rsarup/.pyenv/versions/3.11.7/lib/python3.11/site-packages (from aiohttp<4.0.0,>=3.8.3->langchain-community<0.3.0,>=0.2.10->langchain_experimental) (1.4.1)\n",
      "Requirement already satisfied: multidict<7.0,>=4.5 in /Users/rsarup/.pyenv/versions/3.11.7/lib/python3.11/site-packages (from aiohttp<4.0.0,>=3.8.3->langchain-community<0.3.0,>=0.2.10->langchain_experimental) (6.0.5)\n",
      "Requirement already satisfied: yarl<2.0,>=1.0 in /Users/rsarup/.pyenv/versions/3.11.7/lib/python3.11/site-packages (from aiohttp<4.0.0,>=3.8.3->langchain-community<0.3.0,>=0.2.10->langchain_experimental) (1.9.4)\n",
      "Requirement already satisfied: pyproject_hooks in /Users/rsarup/.pyenv/versions/3.11.7/lib/python3.11/site-packages (from build>=1.0.3->chromadb!=0.5.4,!=0.5.5,<0.6.0,>=0.4.0->langchain_chroma) (1.0.0)\n",
      "Requirement already satisfied: marshmallow<4.0.0,>=3.18.0 in /Users/rsarup/.pyenv/versions/3.11.7/lib/python3.11/site-packages (from dataclasses-json<0.7,>=0.5.7->langchain-community<0.3.0,>=0.2.10->langchain_experimental) (3.20.2)\n",
      "Requirement already satisfied: typing-inspect<1,>=0.4.0 in /Users/rsarup/.pyenv/versions/3.11.7/lib/python3.11/site-packages (from dataclasses-json<0.7,>=0.5.7->langchain-community<0.3.0,>=0.2.10->langchain_experimental) (0.9.0)\n",
      "Requirement already satisfied: parso<0.9.0,>=0.8.3 in /Users/rsarup/.pyenv/versions/3.11.7/lib/python3.11/site-packages (from jedi>=0.16->ipython>=4.0.0->ipywidgets==7.7.2) (0.8.3)\n",
      "Requirement already satisfied: python-dateutil>=2.8.2 in /Users/rsarup/.pyenv/versions/3.11.7/lib/python3.11/site-packages (from jupyter-client>=6.1.12->ipykernel>=4.5.1->ipywidgets==7.7.2) (2.8.2)\n",
      "Requirement already satisfied: platformdirs>=2.5 in /Users/rsarup/.pyenv/versions/3.11.7/lib/python3.11/site-packages (from jupyter-core!=5.0.*,>=4.12->ipykernel>=4.5.1->ipywidgets==7.7.2) (4.2.0)\n",
      "Requirement already satisfied: certifi>=14.05.14 in /Users/rsarup/.pyenv/versions/3.11.7/lib/python3.11/site-packages (from kubernetes>=28.1.0->chromadb!=0.5.4,!=0.5.5,<0.6.0,>=0.4.0->langchain_chroma) (2024.2.2)\n",
      "Requirement already satisfied: six>=1.9.0 in /Users/rsarup/.pyenv/versions/3.11.7/lib/python3.11/site-packages (from kubernetes>=28.1.0->chromadb!=0.5.4,!=0.5.5,<0.6.0,>=0.4.0->langchain_chroma) (1.16.0)\n",
      "Requirement already satisfied: google-auth>=1.0.1 in /Users/rsarup/.pyenv/versions/3.11.7/lib/python3.11/site-packages (from kubernetes>=28.1.0->chromadb!=0.5.4,!=0.5.5,<0.6.0,>=0.4.0->langchain_chroma) (2.27.0)\n",
      "Requirement already satisfied: websocket-client!=0.40.0,!=0.41.*,!=0.42.*,>=0.32.0 in /Users/rsarup/.pyenv/versions/3.11.7/lib/python3.11/site-packages (from kubernetes>=28.1.0->chromadb!=0.5.4,!=0.5.5,<0.6.0,>=0.4.0->langchain_chroma) (1.7.0)\n",
      "Requirement already satisfied: requests-oauthlib in /Users/rsarup/.pyenv/versions/3.11.7/lib/python3.11/site-packages (from kubernetes>=28.1.0->chromadb!=0.5.4,!=0.5.5,<0.6.0,>=0.4.0->langchain_chroma) (1.3.1)\n",
      "Requirement already satisfied: oauthlib>=3.2.2 in /Users/rsarup/.pyenv/versions/3.11.7/lib/python3.11/site-packages (from kubernetes>=28.1.0->chromadb!=0.5.4,!=0.5.5,<0.6.0,>=0.4.0->langchain_chroma) (3.2.2)\n",
      "Requirement already satisfied: urllib3>=1.24.2 in /Users/rsarup/.pyenv/versions/3.11.7/lib/python3.11/site-packages (from kubernetes>=28.1.0->chromadb!=0.5.4,!=0.5.5,<0.6.0,>=0.4.0->langchain_chroma) (2.2.0)\n",
      "Requirement already satisfied: langchain-text-splitters<0.3.0,>=0.2.0 in /Users/rsarup/.pyenv/versions/3.11.7/lib/python3.11/site-packages (from langchain<0.3.0,>=0.2.12->langchain-community<0.3.0,>=0.2.10->langchain_experimental) (0.2.2)\n",
      "Requirement already satisfied: jupyter-server<3,>=2.4.0 in /Users/rsarup/.pyenv/versions/3.11.7/lib/python3.11/site-packages (from notebook>=4.4.1->widgetsnbextension~=3.6.0->ipywidgets==7.7.2) (2.12.5)\n",
      "Requirement already satisfied: jupyterlab-server<3,>=2.22.1 in /Users/rsarup/.pyenv/versions/3.11.7/lib/python3.11/site-packages (from notebook>=4.4.1->widgetsnbextension~=3.6.0->ipywidgets==7.7.2) (2.25.2)\n",
      "Requirement already satisfied: jupyterlab<4.2,>=4.1.1 in /Users/rsarup/.pyenv/versions/3.11.7/lib/python3.11/site-packages (from notebook>=4.4.1->widgetsnbextension~=3.6.0->ipywidgets==7.7.2) (4.1.1)\n",
      "Requirement already satisfied: notebook-shim<0.3,>=0.2 in /Users/rsarup/.pyenv/versions/3.11.7/lib/python3.11/site-packages (from notebook>=4.4.1->widgetsnbextension~=3.6.0->ipywidgets==7.7.2) (0.2.3)\n",
      "Requirement already satisfied: coloredlogs in /Users/rsarup/.pyenv/versions/3.11.7/lib/python3.11/site-packages (from onnxruntime>=1.14.1->chromadb!=0.5.4,!=0.5.5,<0.6.0,>=0.4.0->langchain_chroma) (15.0.1)\n",
      "Requirement already satisfied: flatbuffers in /Users/rsarup/.pyenv/versions/3.11.7/lib/python3.11/site-packages (from onnxruntime>=1.14.1->chromadb!=0.5.4,!=0.5.5,<0.6.0,>=0.4.0->langchain_chroma) (24.3.25)\n",
      "Requirement already satisfied: protobuf in /Users/rsarup/.pyenv/versions/3.11.7/lib/python3.11/site-packages (from onnxruntime>=1.14.1->chromadb!=0.5.4,!=0.5.5,<0.6.0,>=0.4.0->langchain_chroma) (4.25.2)\n",
      "Requirement already satisfied: sympy in /Users/rsarup/.pyenv/versions/3.11.7/lib/python3.11/site-packages (from onnxruntime>=1.14.1->chromadb!=0.5.4,!=0.5.5,<0.6.0,>=0.4.0->langchain_chroma) (1.12)\n",
      "Requirement already satisfied: deprecated>=1.2.6 in /Users/rsarup/.pyenv/versions/3.11.7/lib/python3.11/site-packages (from opentelemetry-api>=1.2.0->chromadb!=0.5.4,!=0.5.5,<0.6.0,>=0.4.0->langchain_chroma) (1.2.14)\n",
      "Requirement already satisfied: importlib-metadata<7.0,>=6.0 in /Users/rsarup/.pyenv/versions/3.11.7/lib/python3.11/site-packages (from opentelemetry-api>=1.2.0->chromadb!=0.5.4,!=0.5.5,<0.6.0,>=0.4.0->langchain_chroma) (6.11.0)\n",
      "Requirement already satisfied: backoff<3.0.0,>=1.10.0 in /Users/rsarup/.pyenv/versions/3.11.7/lib/python3.11/site-packages (from opentelemetry-exporter-otlp-proto-grpc>=1.2.0->chromadb!=0.5.4,!=0.5.5,<0.6.0,>=0.4.0->langchain_chroma) (2.2.1)\n",
      "Requirement already satisfied: googleapis-common-protos~=1.52 in /Users/rsarup/.pyenv/versions/3.11.7/lib/python3.11/site-packages (from opentelemetry-exporter-otlp-proto-grpc>=1.2.0->chromadb!=0.5.4,!=0.5.5,<0.6.0,>=0.4.0->langchain_chroma) (1.62.0)\n",
      "Requirement already satisfied: opentelemetry-exporter-otlp-proto-common==1.22.0 in /Users/rsarup/.pyenv/versions/3.11.7/lib/python3.11/site-packages (from opentelemetry-exporter-otlp-proto-grpc>=1.2.0->chromadb!=0.5.4,!=0.5.5,<0.6.0,>=0.4.0->langchain_chroma) (1.22.0)\n",
      "Requirement already satisfied: opentelemetry-proto==1.22.0 in /Users/rsarup/.pyenv/versions/3.11.7/lib/python3.11/site-packages (from opentelemetry-exporter-otlp-proto-grpc>=1.2.0->chromadb!=0.5.4,!=0.5.5,<0.6.0,>=0.4.0->langchain_chroma) (1.22.0)\n",
      "Requirement already satisfied: opentelemetry-instrumentation-asgi==0.43b0 in /Users/rsarup/.pyenv/versions/3.11.7/lib/python3.11/site-packages (from opentelemetry-instrumentation-fastapi>=0.41b0->chromadb!=0.5.4,!=0.5.5,<0.6.0,>=0.4.0->langchain_chroma) (0.43b0)\n",
      "Requirement already satisfied: opentelemetry-instrumentation==0.43b0 in /Users/rsarup/.pyenv/versions/3.11.7/lib/python3.11/site-packages (from opentelemetry-instrumentation-fastapi>=0.41b0->chromadb!=0.5.4,!=0.5.5,<0.6.0,>=0.4.0->langchain_chroma) (0.43b0)\n",
      "Requirement already satisfied: opentelemetry-semantic-conventions==0.43b0 in /Users/rsarup/.pyenv/versions/3.11.7/lib/python3.11/site-packages (from opentelemetry-instrumentation-fastapi>=0.41b0->chromadb!=0.5.4,!=0.5.5,<0.6.0,>=0.4.0->langchain_chroma) (0.43b0)\n",
      "Requirement already satisfied: opentelemetry-util-http==0.43b0 in /Users/rsarup/.pyenv/versions/3.11.7/lib/python3.11/site-packages (from opentelemetry-instrumentation-fastapi>=0.41b0->chromadb!=0.5.4,!=0.5.5,<0.6.0,>=0.4.0->langchain_chroma) (0.43b0)\n",
      "Requirement already satisfied: setuptools>=16.0 in /Users/rsarup/.pyenv/versions/3.11.7/lib/python3.11/site-packages (from opentelemetry-instrumentation==0.43b0->opentelemetry-instrumentation-fastapi>=0.41b0->chromadb!=0.5.4,!=0.5.5,<0.6.0,>=0.4.0->langchain_chroma) (65.5.0)\n",
      "Requirement already satisfied: wrapt<2.0.0,>=1.0.0 in /Users/rsarup/.pyenv/versions/3.11.7/lib/python3.11/site-packages (from opentelemetry-instrumentation==0.43b0->opentelemetry-instrumentation-fastapi>=0.41b0->chromadb!=0.5.4,!=0.5.5,<0.6.0,>=0.4.0->langchain_chroma) (1.16.0)\n",
      "Requirement already satisfied: asgiref~=3.0 in /Users/rsarup/.pyenv/versions/3.11.7/lib/python3.11/site-packages (from opentelemetry-instrumentation-asgi==0.43b0->opentelemetry-instrumentation-fastapi>=0.41b0->chromadb!=0.5.4,!=0.5.5,<0.6.0,>=0.4.0->langchain_chroma) (3.7.2)\n",
      "Requirement already satisfied: ptyprocess>=0.5 in /Users/rsarup/.pyenv/versions/3.11.7/lib/python3.11/site-packages (from pexpect>4.3->ipython>=4.0.0->ipywidgets==7.7.2) (0.7.0)\n",
      "Requirement already satisfied: monotonic>=1.5 in /Users/rsarup/.pyenv/versions/3.11.7/lib/python3.11/site-packages (from posthog>=2.4.0->chromadb!=0.5.4,!=0.5.5,<0.6.0,>=0.4.0->langchain_chroma) (1.6)\n",
      "Requirement already satisfied: wcwidth in /Users/rsarup/.pyenv/versions/3.11.7/lib/python3.11/site-packages (from prompt-toolkit<3.1.0,>=3.0.41->ipython>=4.0.0->ipywidgets==7.7.2) (0.2.13)\n",
      "Requirement already satisfied: charset-normalizer<4,>=2 in /Users/rsarup/.pyenv/versions/3.11.7/lib/python3.11/site-packages (from requests>=2.28->chromadb!=0.5.4,!=0.5.5,<0.6.0,>=0.4.0->langchain_chroma) (3.3.2)\n",
      "Requirement already satisfied: idna<4,>=2.5 in /Users/rsarup/.pyenv/versions/3.11.7/lib/python3.11/site-packages (from requests>=2.28->chromadb!=0.5.4,!=0.5.5,<0.6.0,>=0.4.0->langchain_chroma) (3.6)\n",
      "Requirement already satisfied: anyio<5,>=3.4.0 in /Users/rsarup/.pyenv/versions/3.11.7/lib/python3.11/site-packages (from starlette<0.37.0,>=0.36.3->fastapi<1,>=0.95.2->langchain_chroma) (4.2.0)\n",
      "Requirement already satisfied: networkx in /Users/rsarup/.pyenv/versions/3.11.7/lib/python3.11/site-packages (from torch>=1.11.0->sentence-transformers>=2.6.0->langchain_huggingface) (3.3)\n",
      "Requirement already satisfied: jinja2 in /Users/rsarup/.pyenv/versions/3.11.7/lib/python3.11/site-packages (from torch>=1.11.0->sentence-transformers>=2.6.0->langchain_huggingface) (3.1.3)\n",
      "Requirement already satisfied: click>=8.0.0 in /Users/rsarup/.pyenv/versions/3.11.7/lib/python3.11/site-packages (from typer>=0.9.0->chromadb!=0.5.4,!=0.5.5,<0.6.0,>=0.4.0->langchain_chroma) (8.1.7)\n",
      "Requirement already satisfied: shellingham>=1.3.0 in /Users/rsarup/.pyenv/versions/3.11.7/lib/python3.11/site-packages (from typer>=0.9.0->chromadb!=0.5.4,!=0.5.5,<0.6.0,>=0.4.0->langchain_chroma) (1.5.4)\n",
      "Requirement already satisfied: rich>=10.11.0 in /Users/rsarup/.pyenv/versions/3.11.7/lib/python3.11/site-packages (from typer>=0.9.0->chromadb!=0.5.4,!=0.5.5,<0.6.0,>=0.4.0->langchain_chroma) (13.7.1)\n",
      "Requirement already satisfied: h11>=0.8 in /Users/rsarup/.pyenv/versions/3.11.7/lib/python3.11/site-packages (from uvicorn>=0.18.3->uvicorn[standard]>=0.18.3->chromadb!=0.5.4,!=0.5.5,<0.6.0,>=0.4.0->langchain_chroma) (0.14.0)\n",
      "Requirement already satisfied: httptools>=0.5.0 in /Users/rsarup/.pyenv/versions/3.11.7/lib/python3.11/site-packages (from uvicorn[standard]>=0.18.3->chromadb!=0.5.4,!=0.5.5,<0.6.0,>=0.4.0->langchain_chroma) (0.6.1)\n",
      "Requirement already satisfied: python-dotenv>=0.13 in /Users/rsarup/.pyenv/versions/3.11.7/lib/python3.11/site-packages (from uvicorn[standard]>=0.18.3->chromadb!=0.5.4,!=0.5.5,<0.6.0,>=0.4.0->langchain_chroma) (1.0.1)\n",
      "Requirement already satisfied: uvloop!=0.15.0,!=0.15.1,>=0.14.0 in /Users/rsarup/.pyenv/versions/3.11.7/lib/python3.11/site-packages (from uvicorn[standard]>=0.18.3->chromadb!=0.5.4,!=0.5.5,<0.6.0,>=0.4.0->langchain_chroma) (0.19.0)\n",
      "Requirement already satisfied: watchfiles>=0.13 in /Users/rsarup/.pyenv/versions/3.11.7/lib/python3.11/site-packages (from uvicorn[standard]>=0.18.3->chromadb!=0.5.4,!=0.5.5,<0.6.0,>=0.4.0->langchain_chroma) (0.21.0)\n",
      "Requirement already satisfied: websockets>=10.4 in /Users/rsarup/.pyenv/versions/3.11.7/lib/python3.11/site-packages (from uvicorn[standard]>=0.18.3->chromadb!=0.5.4,!=0.5.5,<0.6.0,>=0.4.0->langchain_chroma) (12.0)\n",
      "Requirement already satisfied: joblib>=1.2.0 in /Users/rsarup/.pyenv/versions/3.11.7/lib/python3.11/site-packages (from scikit-learn->sentence-transformers>=2.6.0->langchain_huggingface) (1.4.2)\n",
      "Requirement already satisfied: threadpoolctl>=3.1.0 in /Users/rsarup/.pyenv/versions/3.11.7/lib/python3.11/site-packages (from scikit-learn->sentence-transformers>=2.6.0->langchain_huggingface) (3.5.0)\n",
      "Requirement already satisfied: executing>=1.2.0 in /Users/rsarup/.pyenv/versions/3.11.7/lib/python3.11/site-packages (from stack-data->ipython>=4.0.0->ipywidgets==7.7.2) (2.0.1)\n",
      "Requirement already satisfied: asttokens>=2.1.0 in /Users/rsarup/.pyenv/versions/3.11.7/lib/python3.11/site-packages (from stack-data->ipython>=4.0.0->ipywidgets==7.7.2) (2.4.1)\n",
      "Requirement already satisfied: pure-eval in /Users/rsarup/.pyenv/versions/3.11.7/lib/python3.11/site-packages (from stack-data->ipython>=4.0.0->ipywidgets==7.7.2) (0.2.2)\n",
      "Requirement already satisfied: sniffio>=1.1 in /Users/rsarup/.pyenv/versions/3.11.7/lib/python3.11/site-packages (from anyio<5,>=3.4.0->starlette<0.37.0,>=0.36.3->fastapi<1,>=0.95.2->langchain_chroma) (1.3.0)\n",
      "Requirement already satisfied: cachetools<6.0,>=2.0.0 in /Users/rsarup/.pyenv/versions/3.11.7/lib/python3.11/site-packages (from google-auth>=1.0.1->kubernetes>=28.1.0->chromadb!=0.5.4,!=0.5.5,<0.6.0,>=0.4.0->langchain_chroma) (5.3.2)\n",
      "Requirement already satisfied: pyasn1-modules>=0.2.1 in /Users/rsarup/.pyenv/versions/3.11.7/lib/python3.11/site-packages (from google-auth>=1.0.1->kubernetes>=28.1.0->chromadb!=0.5.4,!=0.5.5,<0.6.0,>=0.4.0->langchain_chroma) (0.3.0)\n",
      "Requirement already satisfied: rsa<5,>=3.1.4 in /Users/rsarup/.pyenv/versions/3.11.7/lib/python3.11/site-packages (from google-auth>=1.0.1->kubernetes>=28.1.0->chromadb!=0.5.4,!=0.5.5,<0.6.0,>=0.4.0->langchain_chroma) (4.9)\n",
      "Requirement already satisfied: zipp>=0.5 in /Users/rsarup/.pyenv/versions/3.11.7/lib/python3.11/site-packages (from importlib-metadata<7.0,>=6.0->opentelemetry-api>=1.2.0->chromadb!=0.5.4,!=0.5.5,<0.6.0,>=0.4.0->langchain_chroma) (3.17.0)\n",
      "Requirement already satisfied: argon2-cffi in /Users/rsarup/.pyenv/versions/3.11.7/lib/python3.11/site-packages (from jupyter-server<3,>=2.4.0->notebook>=4.4.1->widgetsnbextension~=3.6.0->ipywidgets==7.7.2) (23.1.0)\n",
      "Requirement already satisfied: jupyter-events>=0.9.0 in /Users/rsarup/.pyenv/versions/3.11.7/lib/python3.11/site-packages (from jupyter-server<3,>=2.4.0->notebook>=4.4.1->widgetsnbextension~=3.6.0->ipywidgets==7.7.2) (0.9.0)\n",
      "Requirement already satisfied: jupyter-server-terminals in /Users/rsarup/.pyenv/versions/3.11.7/lib/python3.11/site-packages (from jupyter-server<3,>=2.4.0->notebook>=4.4.1->widgetsnbextension~=3.6.0->ipywidgets==7.7.2) (0.5.2)\n",
      "Requirement already satisfied: nbconvert>=6.4.4 in /Users/rsarup/.pyenv/versions/3.11.7/lib/python3.11/site-packages (from jupyter-server<3,>=2.4.0->notebook>=4.4.1->widgetsnbextension~=3.6.0->ipywidgets==7.7.2) (7.16.0)\n",
      "Requirement already satisfied: nbformat>=5.3.0 in /Users/rsarup/.pyenv/versions/3.11.7/lib/python3.11/site-packages (from jupyter-server<3,>=2.4.0->notebook>=4.4.1->widgetsnbextension~=3.6.0->ipywidgets==7.7.2) (5.9.2)\n",
      "Requirement already satisfied: prometheus-client in /Users/rsarup/.pyenv/versions/3.11.7/lib/python3.11/site-packages (from jupyter-server<3,>=2.4.0->notebook>=4.4.1->widgetsnbextension~=3.6.0->ipywidgets==7.7.2) (0.19.0)\n",
      "Requirement already satisfied: send2trash>=1.8.2 in /Users/rsarup/.pyenv/versions/3.11.7/lib/python3.11/site-packages (from jupyter-server<3,>=2.4.0->notebook>=4.4.1->widgetsnbextension~=3.6.0->ipywidgets==7.7.2) (1.8.2)\n",
      "Requirement already satisfied: terminado>=0.8.3 in /Users/rsarup/.pyenv/versions/3.11.7/lib/python3.11/site-packages (from jupyter-server<3,>=2.4.0->notebook>=4.4.1->widgetsnbextension~=3.6.0->ipywidgets==7.7.2) (0.18.0)\n",
      "Requirement already satisfied: async-lru>=1.0.0 in /Users/rsarup/.pyenv/versions/3.11.7/lib/python3.11/site-packages (from jupyterlab<4.2,>=4.1.1->notebook>=4.4.1->widgetsnbextension~=3.6.0->ipywidgets==7.7.2) (2.0.4)\n",
      "Requirement already satisfied: httpx>=0.25.0 in /Users/rsarup/.pyenv/versions/3.11.7/lib/python3.11/site-packages (from jupyterlab<4.2,>=4.1.1->notebook>=4.4.1->widgetsnbextension~=3.6.0->ipywidgets==7.7.2) (0.27.0)\n",
      "Requirement already satisfied: jupyter-lsp>=2.0.0 in /Users/rsarup/.pyenv/versions/3.11.7/lib/python3.11/site-packages (from jupyterlab<4.2,>=4.1.1->notebook>=4.4.1->widgetsnbextension~=3.6.0->ipywidgets==7.7.2) (2.2.2)\n",
      "Requirement already satisfied: MarkupSafe>=2.0 in /Users/rsarup/.pyenv/versions/3.11.7/lib/python3.11/site-packages (from jinja2->torch>=1.11.0->sentence-transformers>=2.6.0->langchain_huggingface) (2.1.5)\n",
      "Requirement already satisfied: babel>=2.10 in /Users/rsarup/.pyenv/versions/3.11.7/lib/python3.11/site-packages (from jupyterlab-server<3,>=2.22.1->notebook>=4.4.1->widgetsnbextension~=3.6.0->ipywidgets==7.7.2) (2.14.0)\n",
      "Requirement already satisfied: json5>=0.9.0 in /Users/rsarup/.pyenv/versions/3.11.7/lib/python3.11/site-packages (from jupyterlab-server<3,>=2.22.1->notebook>=4.4.1->widgetsnbextension~=3.6.0->ipywidgets==7.7.2) (0.9.14)\n",
      "Requirement already satisfied: jsonschema>=4.18.0 in /Users/rsarup/.pyenv/versions/3.11.7/lib/python3.11/site-packages (from jupyterlab-server<3,>=2.22.1->notebook>=4.4.1->widgetsnbextension~=3.6.0->ipywidgets==7.7.2) (4.21.1)\n",
      "Requirement already satisfied: markdown-it-py>=2.2.0 in /Users/rsarup/.pyenv/versions/3.11.7/lib/python3.11/site-packages (from rich>=10.11.0->typer>=0.9.0->chromadb!=0.5.4,!=0.5.5,<0.6.0,>=0.4.0->langchain_chroma) (3.0.0)\n",
      "Requirement already satisfied: mypy-extensions>=0.3.0 in /Users/rsarup/.pyenv/versions/3.11.7/lib/python3.11/site-packages (from typing-inspect<1,>=0.4.0->dataclasses-json<0.7,>=0.5.7->langchain-community<0.3.0,>=0.2.10->langchain_experimental) (1.0.0)\n",
      "Requirement already satisfied: humanfriendly>=9.1 in /Users/rsarup/.pyenv/versions/3.11.7/lib/python3.11/site-packages (from coloredlogs->onnxruntime>=1.14.1->chromadb!=0.5.4,!=0.5.5,<0.6.0,>=0.4.0->langchain_chroma) (10.0)\n",
      "Requirement already satisfied: mpmath>=0.19 in /Users/rsarup/.pyenv/versions/3.11.7/lib/python3.11/site-packages (from sympy->onnxruntime>=1.14.1->chromadb!=0.5.4,!=0.5.5,<0.6.0,>=0.4.0->langchain_chroma) (1.3.0)\n",
      "Requirement already satisfied: httpcore==1.* in /Users/rsarup/.pyenv/versions/3.11.7/lib/python3.11/site-packages (from httpx>=0.25.0->jupyterlab<4.2,>=4.1.1->notebook>=4.4.1->widgetsnbextension~=3.6.0->ipywidgets==7.7.2) (1.0.2)\n",
      "Requirement already satisfied: jsonschema-specifications>=2023.03.6 in /Users/rsarup/.pyenv/versions/3.11.7/lib/python3.11/site-packages (from jsonschema>=4.18.0->jupyterlab-server<3,>=2.22.1->notebook>=4.4.1->widgetsnbextension~=3.6.0->ipywidgets==7.7.2) (2023.12.1)\n",
      "Requirement already satisfied: referencing>=0.28.4 in /Users/rsarup/.pyenv/versions/3.11.7/lib/python3.11/site-packages (from jsonschema>=4.18.0->jupyterlab-server<3,>=2.22.1->notebook>=4.4.1->widgetsnbextension~=3.6.0->ipywidgets==7.7.2) (0.33.0)\n",
      "Requirement already satisfied: rpds-py>=0.7.1 in /Users/rsarup/.pyenv/versions/3.11.7/lib/python3.11/site-packages (from jsonschema>=4.18.0->jupyterlab-server<3,>=2.22.1->notebook>=4.4.1->widgetsnbextension~=3.6.0->ipywidgets==7.7.2) (0.18.0)\n",
      "Requirement already satisfied: python-json-logger>=2.0.4 in /Users/rsarup/.pyenv/versions/3.11.7/lib/python3.11/site-packages (from jupyter-events>=0.9.0->jupyter-server<3,>=2.4.0->notebook>=4.4.1->widgetsnbextension~=3.6.0->ipywidgets==7.7.2) (2.0.7)\n",
      "Requirement already satisfied: rfc3339-validator in /Users/rsarup/.pyenv/versions/3.11.7/lib/python3.11/site-packages (from jupyter-events>=0.9.0->jupyter-server<3,>=2.4.0->notebook>=4.4.1->widgetsnbextension~=3.6.0->ipywidgets==7.7.2) (0.1.4)\n",
      "Requirement already satisfied: rfc3986-validator>=0.1.1 in /Users/rsarup/.pyenv/versions/3.11.7/lib/python3.11/site-packages (from jupyter-events>=0.9.0->jupyter-server<3,>=2.4.0->notebook>=4.4.1->widgetsnbextension~=3.6.0->ipywidgets==7.7.2) (0.1.1)\n",
      "Requirement already satisfied: mdurl~=0.1 in /Users/rsarup/.pyenv/versions/3.11.7/lib/python3.11/site-packages (from markdown-it-py>=2.2.0->rich>=10.11.0->typer>=0.9.0->chromadb!=0.5.4,!=0.5.5,<0.6.0,>=0.4.0->langchain_chroma) (0.1.2)\n",
      "Requirement already satisfied: beautifulsoup4 in /Users/rsarup/.pyenv/versions/3.11.7/lib/python3.11/site-packages (from nbconvert>=6.4.4->jupyter-server<3,>=2.4.0->notebook>=4.4.1->widgetsnbextension~=3.6.0->ipywidgets==7.7.2) (4.12.3)\n",
      "Requirement already satisfied: bleach!=5.0.0 in /Users/rsarup/.pyenv/versions/3.11.7/lib/python3.11/site-packages (from nbconvert>=6.4.4->jupyter-server<3,>=2.4.0->notebook>=4.4.1->widgetsnbextension~=3.6.0->ipywidgets==7.7.2) (6.1.0)\n",
      "Requirement already satisfied: defusedxml in /Users/rsarup/.pyenv/versions/3.11.7/lib/python3.11/site-packages (from nbconvert>=6.4.4->jupyter-server<3,>=2.4.0->notebook>=4.4.1->widgetsnbextension~=3.6.0->ipywidgets==7.7.2) (0.7.1)\n",
      "Requirement already satisfied: jupyterlab-pygments in /Users/rsarup/.pyenv/versions/3.11.7/lib/python3.11/site-packages (from nbconvert>=6.4.4->jupyter-server<3,>=2.4.0->notebook>=4.4.1->widgetsnbextension~=3.6.0->ipywidgets==7.7.2) (0.3.0)\n",
      "Requirement already satisfied: mistune<4,>=2.0.3 in /Users/rsarup/.pyenv/versions/3.11.7/lib/python3.11/site-packages (from nbconvert>=6.4.4->jupyter-server<3,>=2.4.0->notebook>=4.4.1->widgetsnbextension~=3.6.0->ipywidgets==7.7.2) (3.0.2)\n",
      "Requirement already satisfied: nbclient>=0.5.0 in /Users/rsarup/.pyenv/versions/3.11.7/lib/python3.11/site-packages (from nbconvert>=6.4.4->jupyter-server<3,>=2.4.0->notebook>=4.4.1->widgetsnbextension~=3.6.0->ipywidgets==7.7.2) (0.9.0)\n",
      "Requirement already satisfied: pandocfilters>=1.4.1 in /Users/rsarup/.pyenv/versions/3.11.7/lib/python3.11/site-packages (from nbconvert>=6.4.4->jupyter-server<3,>=2.4.0->notebook>=4.4.1->widgetsnbextension~=3.6.0->ipywidgets==7.7.2) (1.5.1)\n",
      "Requirement already satisfied: tinycss2 in /Users/rsarup/.pyenv/versions/3.11.7/lib/python3.11/site-packages (from nbconvert>=6.4.4->jupyter-server<3,>=2.4.0->notebook>=4.4.1->widgetsnbextension~=3.6.0->ipywidgets==7.7.2) (1.2.1)\n",
      "Requirement already satisfied: fastjsonschema in /Users/rsarup/.pyenv/versions/3.11.7/lib/python3.11/site-packages (from nbformat>=5.3.0->jupyter-server<3,>=2.4.0->notebook>=4.4.1->widgetsnbextension~=3.6.0->ipywidgets==7.7.2) (2.19.1)\n",
      "Requirement already satisfied: pyasn1<0.6.0,>=0.4.6 in /Users/rsarup/.pyenv/versions/3.11.7/lib/python3.11/site-packages (from pyasn1-modules>=0.2.1->google-auth>=1.0.1->kubernetes>=28.1.0->chromadb!=0.5.4,!=0.5.5,<0.6.0,>=0.4.0->langchain_chroma) (0.5.1)\n",
      "Requirement already satisfied: argon2-cffi-bindings in /Users/rsarup/.pyenv/versions/3.11.7/lib/python3.11/site-packages (from argon2-cffi->jupyter-server<3,>=2.4.0->notebook>=4.4.1->widgetsnbextension~=3.6.0->ipywidgets==7.7.2) (21.2.0)\n",
      "Requirement already satisfied: webencodings in /Users/rsarup/.pyenv/versions/3.11.7/lib/python3.11/site-packages (from bleach!=5.0.0->nbconvert>=6.4.4->jupyter-server<3,>=2.4.0->notebook>=4.4.1->widgetsnbextension~=3.6.0->ipywidgets==7.7.2) (0.5.1)\n",
      "Requirement already satisfied: fqdn in /Users/rsarup/.pyenv/versions/3.11.7/lib/python3.11/site-packages (from jsonschema[format-nongpl]>=4.18.0->jupyter-events>=0.9.0->jupyter-server<3,>=2.4.0->notebook>=4.4.1->widgetsnbextension~=3.6.0->ipywidgets==7.7.2) (1.5.1)\n",
      "Requirement already satisfied: isoduration in /Users/rsarup/.pyenv/versions/3.11.7/lib/python3.11/site-packages (from jsonschema[format-nongpl]>=4.18.0->jupyter-events>=0.9.0->jupyter-server<3,>=2.4.0->notebook>=4.4.1->widgetsnbextension~=3.6.0->ipywidgets==7.7.2) (20.11.0)\n",
      "Requirement already satisfied: uri-template in /Users/rsarup/.pyenv/versions/3.11.7/lib/python3.11/site-packages (from jsonschema[format-nongpl]>=4.18.0->jupyter-events>=0.9.0->jupyter-server<3,>=2.4.0->notebook>=4.4.1->widgetsnbextension~=3.6.0->ipywidgets==7.7.2) (1.3.0)\n",
      "Requirement already satisfied: webcolors>=1.11 in /Users/rsarup/.pyenv/versions/3.11.7/lib/python3.11/site-packages (from jsonschema[format-nongpl]>=4.18.0->jupyter-events>=0.9.0->jupyter-server<3,>=2.4.0->notebook>=4.4.1->widgetsnbextension~=3.6.0->ipywidgets==7.7.2) (1.13)\n",
      "Requirement already satisfied: cffi>=1.0.1 in /Users/rsarup/.pyenv/versions/3.11.7/lib/python3.11/site-packages (from argon2-cffi-bindings->argon2-cffi->jupyter-server<3,>=2.4.0->notebook>=4.4.1->widgetsnbextension~=3.6.0->ipywidgets==7.7.2) (1.16.0)\n",
      "Requirement already satisfied: soupsieve>1.2 in /Users/rsarup/.pyenv/versions/3.11.7/lib/python3.11/site-packages (from beautifulsoup4->nbconvert>=6.4.4->jupyter-server<3,>=2.4.0->notebook>=4.4.1->widgetsnbextension~=3.6.0->ipywidgets==7.7.2) (2.5)\n",
      "Requirement already satisfied: pycparser in /Users/rsarup/.pyenv/versions/3.11.7/lib/python3.11/site-packages (from cffi>=1.0.1->argon2-cffi-bindings->argon2-cffi->jupyter-server<3,>=2.4.0->notebook>=4.4.1->widgetsnbextension~=3.6.0->ipywidgets==7.7.2) (2.21)\n",
      "Requirement already satisfied: arrow>=0.15.0 in /Users/rsarup/.pyenv/versions/3.11.7/lib/python3.11/site-packages (from isoduration->jsonschema[format-nongpl]>=4.18.0->jupyter-events>=0.9.0->jupyter-server<3,>=2.4.0->notebook>=4.4.1->widgetsnbextension~=3.6.0->ipywidgets==7.7.2) (1.3.0)\n",
      "Requirement already satisfied: types-python-dateutil>=2.8.10 in /Users/rsarup/.pyenv/versions/3.11.7/lib/python3.11/site-packages (from arrow>=0.15.0->isoduration->jsonschema[format-nongpl]>=4.18.0->jupyter-events>=0.9.0->jupyter-server<3,>=2.4.0->notebook>=4.4.1->widgetsnbextension~=3.6.0->ipywidgets==7.7.2) (2.8.19.20240106)\n"
     ]
    }
   ],
   "source": [
    "!pip3 install langchain_huggingface neo4j langchain_experimental langchain_core langchain_chroma yfiles_jupyter_graphs==1.2.1 ipywidgets==7.7.2 jupyterlab_widgets==1.0.2\n"
   ]
  },
  {
   "cell_type": "code",
   "execution_count": 28,
   "id": "bf419bea-0031-4498-9e1a-3f9048c6a0b4",
   "metadata": {},
   "outputs": [],
   "source": [
    "from langchain_community.graphs import Neo4jGraph\n",
    "from langchain.docstore.document import Document\n",
    "from langchain_community.chat_models import ChatOllama\n",
    "from langchain_experimental.graph_transformers import LLMGraphTransformer\n",
    "from langchain.text_splitter import RecursiveCharacterTextSplitter\n",
    "from langchain_community.vectorstores import Neo4jVector\n",
    "from langchain.chains import RetrievalQA\n",
    "from langchain_ollama import OllamaEmbeddings\n",
    "from langchain_core.prompts import PromptTemplate\n",
    "import gradio as gr\n",
    "import os\n",
    "from IPython.display import display\n"
   ]
  },
  {
   "cell_type": "code",
   "execution_count": 25,
   "id": "903a3c4c-9cb5-4de5-b5da-00e5c87d7ba8",
   "metadata": {},
   "outputs": [],
   "source": [
    "# Refer to the Neo4j Desktop Installation & Setup Steps in the Readme. \n",
    "os.environ[\"NEO4J_URI\"] = \"bolt://localhost:7687\"\n",
    "os.environ[\"NEO4J_USERNAME\"] = \"neo4j\"\n",
    "os.environ[\"NEO4J_PASSWORD\"] = \"Password\" # replace with the password value here\n"
   ]
  },
  {
   "cell_type": "code",
   "execution_count": 26,
   "id": "33f12d8d-dab0-4e8c-a3ce-87787e3b37ed",
   "metadata": {
    "scrolled": true
   },
   "outputs": [],
   "source": [
    "# Neo4j database wrapper for performing the graph operations.\n",
    "# Read more about it here: https://api.python.langchain.com/en/latest/graphs/langchain_community.graphs.neo4j_graph.Neo4jGraph.html\n",
    "graph = Neo4jGraph()\n"
   ]
  },
  {
   "cell_type": "code",
   "execution_count": 5,
   "id": "1e09a0ee-93a9-409a-b626-8fb959afae2d",
   "metadata": {},
   "outputs": [
    {
     "name": "stdout",
     "output_type": "stream",
     "text": [
      "Chunk 1:\n",
      "page_content='\"\"\"The Lumina Story Lumina is a rapidly growing startup focused on delivering sustainable, high-quality products to its customers across various regions. With a strong emphasis on efficient operations, supplier relationships, and customer satisfaction, Lumina has carved out a niche in the competitive market. Anna, a logistics manager at Lumina, plays a crucial role in overseeing the company’s supply chain. She collaborates closely with suppliers like EcoSupplies and GreenTech to ensure that Lumina’s'\n",
      "\n",
      "Chunk 2:\n",
      "page_content='to ensure that Lumina’s products are consistently in stock and delivered on time. Lumina maintains contracts with several suppliers, each playing a distinct role in the company’s operations. EcoSupplies is Lumina’s top supplier, known for its reliability and timely deliveries. Lumina’s contract with EcoSupplies is valued at $500,000 per year, making it the highest among all suppliers. In contrast, GreenTech frequently experiences delays due to adverse weather conditions, prompting Anna to renegotiate their'\n",
      "\n",
      "Chunk 3:\n",
      "page_content='to renegotiate their contract with stricter penalties for late deliveries. Lumina operates five warehouses strategically located across different regions. The North Warehouse stands out as the most efficient in stocking and delivering products, with minimal stockouts and delays. However, the South Warehouse often struggles with stockouts, particularly for products like EcoBag and GreenBottle, largely due to supply chain disruptions caused by weather. Weather plays a significant role in Lumina’s operations.'\n",
      "\n",
      "Chunk 4:\n",
      "page_content='in Lumina’s operations. For instance, the Midwest Warehouse frequently faces delays due to snowstorms, which impacts delivery times to stores in that region. To mitigate this, Anna has started stockpiling products in the Midwest before the winter season begins. Lumina’s stores are located in various urban and suburban areas. The Downtown Store consistently ranks highest in customer satisfaction, with a rating of 4.9 out of 5. This store is managed by Carlos, who excels at maintaining optimal inventory'\n",
      "\n",
      "Chunk 5:\n",
      "page_content='optimal inventory levels and ensuring popular products like EcoBag are always available. Sales at Lumina peak during the holiday season, especially in the West Coast Region. Products like SolarLantern and EcoBag are top sellers during this period. To prepare for the holiday rush, Anna prioritizes stocking these products in the West Coast warehouses. Major holidays like Christmas and Thanksgiving have a significant influence on Lumina’s sales trends. During these holidays, sales double, particularly in'\n",
      "\n",
      "Chunk 6:\n",
      "page_content='double, particularly in high-foot-traffic areas like the Downtown Store. The SolarLantern sees the highest sales during these periods, making it a key product for Lumina. Carlos’s excellent management extends beyond the Downtown Store; he also oversees the Central Warehouse, which, under his leadership, has maintained a 98% in-stock rate, even during peak seasons. However, not all warehouses are as efficient. The East Coast Warehouse often faces disruptions due to hurricanes, which impact both product'\n",
      "\n",
      "Chunk 7:\n",
      "page_content='impact both product availability and delivery times. To address this, Lumina has started shifting some inventory to the North Warehouse during hurricane season. The location of a store significantly impacts its performance. The Uptown Store, located in a busy urban area, consistently outperforms other stores in sales and inventory turnover. This has led Lumina to consider opening new stores in similar high-traffic locations. In strategic planning, Lumina has identified the Southeast Region as a'\n",
      "\n",
      "Chunk 8:\n",
      "page_content='Southeast Region as a high-potential area for opening new stores. Based on customer purchase patterns, the company plans to launch a new store in Atlanta next year, focusing on sustainable products like GreenBottle and EcoBag, which are in high demand. Lumina’s strategic plans also include renegotiating contracts with GreenTech, focusing on improving delivery times and ensuring product availability. The new contract will include stricter penalties for delays, as well as incentives for on-time deliveries.'\n",
      "\n",
      "Chunk 9:\n",
      "page_content='for on-time deliveries. Finally, Anna has begun analyzing the impact of various external factors, such as economic events and holidays, on overall sales trends. This analysis has revealed that Lumina should prioritize stocking products like SolarLantern and EcoBag during the holiday season, as these are the top sellers.\"\"\"'\n",
      "\n"
     ]
    }
   ],
   "source": [
    "# Specify the path to your text file\n",
    "file_path = \"../Lumina.txt\"\n",
    "\n",
    "try:\n",
    "    # Read the text from the file\n",
    "    with open(file_path, \"r\", encoding='utf-8') as file:\n",
    "        text = file.read()\n",
    "\n",
    "    # Initialize RecursiveCharacterTextSplitter with desired parameters\n",
    "    # Read more about it here: https://sj-langchain.readthedocs.io/en/latest/text_splitter/langchain.text_splitter.RecursiveCharacterTextSplitter.html \n",
    "    # RecursiveCharacterTextSplitter recursively breaks down text into smaller chunks for easier processing and retrieval.\n",
    "    # This is the recommended text splitter for generic text. \n",
    "    # It is parameterized by a list of characters, the default list is [\"\\n\\n\", \"\\n\", \" \", \"\"]. It tries to split on them in order until the chunks are small enough. \n",
    "    # This has the effect of trying to keep all paragraphs (and then sentences, and then words) together as long as possible, as those would generically seem to be the strongest semantically related pieces of text.\n",
    "    # Adjust chunk_size and chunk_overlap according to your needs.\n",
    "    # The chunk size should be at least as large as the average length of your queries.\n",
    "    # The chunk overlap should be smaller than the chunk size to maintain context.\n",
    "    \n",
    "    text_splitter = RecursiveCharacterTextSplitter(\n",
    "        chunk_size=512,  # Adjust chunk size as needed\n",
    "        chunk_overlap=24  # Adjust overlap to maintain context\n",
    "    )\n",
    "\n",
    "    # Convert the formatted text into a list of Document objects\n",
    "    texts = []\n",
    "\n",
    "    # Docstores are classes to store and load Documents.\n",
    "    # The Docstore is a simplified version of the Document Loader.\n",
    "    # https://python.langchain.com/v0.2/api_reference/community/docstore.html\n",
    "    document = Document(page_content=text)\n",
    "    texts.append(document)\n",
    "\n",
    "    # Split the text into chunks\n",
    "    documents = text_splitter.split_documents(texts)\n",
    "    # Print the split chunks\n",
    "    for i, chunk in enumerate(documents):\n",
    "        print(f\"Chunk {i+1}:\\n{chunk}\\n\")\n",
    "\n",
    "# Print an error message if the file is not found.\n",
    "except FileNotFoundError:\n",
    "    print(f\"Error: File '{file_path}' not found.\")\n",
    "    "
   ]
  },
  {
   "cell_type": "code",
   "execution_count": 6,
   "id": "f731a6a2-7b02-493a-b022-e2c4914c3f41",
   "metadata": {},
   "outputs": [],
   "source": [
    "# Instantiating our model object with relevant params for Chat Completion. \n",
    "# Running LLaMA3.1-8b LLM locally using Ollama.\n",
    "# https://api.python.langchain.com/en/latest/chat_models/langchain_community.chat_models.ollama.ChatOllama.html\n",
    "llm = ChatOllama(\n",
    "    model=\"llama3.1:8b\", # LLM Model running locally using Ollama\n",
    "    temperature=0.1, # Temperature parameter for LLM model, ranges from 0 to 1, controls the randomness of the output.\n",
    ")\n"
   ]
  },
  {
   "cell_type": "code",
   "execution_count": 7,
   "id": "0ede8863-ec6a-40bd-ab91-fd7ef74bfd43",
   "metadata": {},
   "outputs": [],
   "source": [
    "# LLMGraphTransformer converts textual documents into graph-based documents using LLM.\n",
    "# https://api.python.langchain.com/en/latest/graph_transformers/langchain_experimental.graph_transformers.llm.LLMGraphTransformer.html\n",
    "llm_transformer = LLMGraphTransformer(\n",
    "    llm=llm,\n",
    "    allowed_nodes=[\"Company\", \"Person\", \"Product\", \"Supplier\", \"Warehouse\", \"Store\", \"Shipment\", \"Customer\", \"External Factor\", \"Supply Chain\", \"Location\", \"Weather Condition\", \"Holiday\", \"Region\", \"Sales Trend\"], # Specifies which node types are allowed in the graph. Defaults to an empty list, allowing all node types.\n",
    "    allowed_relationships=[\"WORKS_FOR\", \"CREATES\", \"SUPPLIES\", \"STOCKS\", \"DELIVERS_TO\", \"LOCATED_AT\", \"AFFECTED_BY\", \"AFFECTS\", \"MANAGES\", \"CONTAINS\", \"HAS_CONTRACT_WITH\", \"HAS_INVENTORY\", \"INFLUENCES\" ], # Specifies which relationship types are allowed in the graph. Defaults to an empty list, allowing all relationship types.\n",
    ")\n"
   ]
  },
  {
   "cell_type": "code",
   "execution_count": 8,
   "id": "9c40b0bb-246f-4985-8ae0-2edf9ab972e0",
   "metadata": {},
   "outputs": [
    {
     "name": "stdout",
     "output_type": "stream",
     "text": [
      "graph documents [GraphDocument(nodes=[Node(id='GreenTech', type='Supplier'), Node(id='Lumina', type='Company'), Node(id='Anna', type='Person'), Node(id='EcoSupplies', type='Supplier')], relationships=[Relationship(source=Node(id='Lumina', type='Company'), target=Node(id='EcoSupplies', type='Supplier'), type='SUPPLIES'), Relationship(source=Node(id='Lumina', type='Company'), target=Node(id='GreenTech', type='Supplier'), type='SUPPLIES'), Relationship(source=Node(id='Anna', type='Person'), target=Node(id='Lumina', type='Company'), type='WORKS_FOR')], source=Document(page_content='\"\"\"The Lumina Story Lumina is a rapidly growing startup focused on delivering sustainable, high-quality products to its customers across various regions. With a strong emphasis on efficient operations, supplier relationships, and customer satisfaction, Lumina has carved out a niche in the competitive market. Anna, a logistics manager at Lumina, plays a crucial role in overseeing the company’s supply chain. She collaborates closely with suppliers like EcoSupplies and GreenTech to ensure that Lumina’s')), GraphDocument(nodes=[Node(id='Anna', type='Person'), Node(id='GreenTech', type='Supplier'), Node(id='Lumina', type='Company'), Node(id='EcoSupplies', type='Supplier')], relationships=[Relationship(source=Node(id='Lumina', type='Company'), target=Node(id='EcoSupplies', type='Supplier'), type='SUPPLIES'), Relationship(source=Node(id='EcoSupplies', type='Supplier'), target=Node(id='Lumina', type='Company'), type='DELIVERS_TO')], source=Document(page_content='to ensure that Lumina’s products are consistently in stock and delivered on time. Lumina maintains contracts with several suppliers, each playing a distinct role in the company’s operations. EcoSupplies is Lumina’s top supplier, known for its reliability and timely deliveries. Lumina’s contract with EcoSupplies is valued at $500,000 per year, making it the highest among all suppliers. In contrast, GreenTech frequently experiences delays due to adverse weather conditions, prompting Anna to renegotiate their')), GraphDocument(nodes=[Node(id='five warehouses', type='Warehouse'), Node(id='Lumina', type='Company'), Node(id='South Warehouse', type='Warehouse'), Node(id='weather', type='Weather Condition'), Node(id=\"Lumina's operations\", type='Supply Chain'), Node(id='North Warehouse', type='Warehouse'), Node(id='products', type='Product'), Node(id='different regions', type='Region'), Node(id='EcoBag and GreenBottle', type='Product')], relationships=[Relationship(source=Node(id='Lumina', type='Company'), target=Node(id='different regions', type='Region'), type='LOCATED_AT'), Relationship(source=Node(id='North Warehouse', type='Warehouse'), target=Node(id='products', type='Product'), type='STOCKS'), Relationship(source=Node(id='weather', type='Weather Condition'), target=Node(id=\"Lumina's operations\", type='Supply Chain'), type='AFFECTED_BY')], source=Document(page_content='to renegotiate their contract with stricter penalties for late deliveries. Lumina operates five warehouses strategically located across different regions. The North Warehouse stands out as the most efficient in stocking and delivering products, with minimal stockouts and delays. However, the South Warehouse often struggles with stockouts, particularly for products like EcoBag and GreenBottle, largely due to supply chain disruptions caused by weather. Weather plays a significant role in Lumina’s operations.')), GraphDocument(nodes=[Node(id='Anna', type='Person'), Node(id='snowstorms', type='Weather Condition'), Node(id='Lumina', type='Company'), Node(id='stores in that region', type='Region'), Node(id='Midwest Warehouse', type='Warehouse'), Node(id='Downtown Store', type='Store'), Node(id='Carlos', type='Person'), Node(id='products stockpiling', type='Supply Chain')], relationships=[Relationship(source=Node(id='Lumina', type='Company'), target=Node(id='Midwest Warehouse', type='Warehouse'), type='LOCATED_AT'), Relationship(source=Node(id='Midwest Warehouse', type='Warehouse'), target=Node(id='snowstorms', type='Weather Condition'), type='AFFECTED_BY'), Relationship(source=Node(id='Midwest Warehouse', type='Warehouse'), target=Node(id='stores in that region', type='Region'), type='DELIVERS_TO'), Relationship(source=Node(id='Anna', type='Person'), target=Node(id='products stockpiling', type='Supply Chain'), type='MANAGES'), Relationship(source=Node(id='Lumina', type='Company'), target=Node(id='Downtown Store', type='Store'), type='LOCATED_AT'), Relationship(source=Node(id='Carlos', type='Person'), target=Node(id='Downtown Store', type='Store'), type='MANAGES')], source=Document(page_content='in Lumina’s operations. For instance, the Midwest Warehouse frequently faces delays due to snowstorms, which impacts delivery times to stores in that region. To mitigate this, Anna has started stockpiling products in the Midwest before the winter season begins. Lumina’s stores are located in various urban and suburban areas. The Downtown Store consistently ranks highest in customer satisfaction, with a rating of 4.9 out of 5. This store is managed by Carlos, who excels at maintaining optimal inventory')), GraphDocument(nodes=[Node(id='SolarLantern', type='Product'), Node(id='Anna', type='Person'), Node(id='West Coast Region', type='Region'), Node(id='EcoBag', type='Product'), Node(id='West Coast Warehouse', type='Warehouse'), Node(id='Christmas', type='Holiday'), Node(id='Lumina', type='Company'), Node(id=\"Lumina's sales trends\", type='Sales Trend'), Node(id='Thanksgiving', type='Holiday')], relationships=[Relationship(source=Node(id='EcoBag', type='Product'), target=Node(id='West Coast Warehouse', type='Warehouse'), type='STOCKS'), Relationship(source=Node(id='SolarLantern', type='Product'), target=Node(id='West Coast Warehouse', type='Warehouse'), type='STOCKS'), Relationship(source=Node(id='Anna', type='Person'), target=Node(id='Lumina', type='Company'), type='MANAGES'), Relationship(source=Node(id='EcoBag', type='Product'), target=Node(id='West Coast Region', type='Region'), type='DELIVERS_TO'), Relationship(source=Node(id='SolarLantern', type='Product'), target=Node(id='West Coast Region', type='Region'), type='DELIVERS_TO'), Relationship(source=Node(id='Christmas', type='Holiday'), target=Node(id=\"Lumina's sales trends\", type='Sales Trend'), type='AFFECTS'), Relationship(source=Node(id='Thanksgiving', type='Holiday'), target=Node(id=\"Lumina's sales trends\", type='Sales Trend'), type='AFFECTS')], source=Document(page_content='optimal inventory levels and ensuring popular products like EcoBag are always available. Sales at Lumina peak during the holiday season, especially in the West Coast Region. Products like SolarLantern and EcoBag are top sellers during this period. To prepare for the holiday rush, Anna prioritizes stocking these products in the West Coast warehouses. Major holidays like Christmas and Thanksgiving have a significant influence on Lumina’s sales trends. During these holidays, sales double, particularly in')), GraphDocument(nodes=[Node(id='SolarLantern', type='Product'), Node(id='East Coast Region', type='Region'), Node(id='double', type='Product'), Node(id='Lumina', type='Company'), Node(id='hurricanes', type='External Factor'), Node(id='Downtown Store', type='Store'), Node(id='Central Warehouse', type='Warehouse'), Node(id='Carlos', type='Person')], relationships=[Relationship(source=Node(id='double', type='Product'), target=Node(id='Downtown Store', type='Store'), type='LOCATED_AT'), Relationship(source=Node(id='Carlos', type='Person'), target=Node(id='Central Warehouse', type='Warehouse'), type='MANAGES'), Relationship(source=Node(id='Central Warehouse', type='Warehouse'), target=Node(id='East Coast Region', type='Region'), type='LOCATED_AT'), Relationship(source=Node(id='Central Warehouse', type='Warehouse'), target=Node(id='hurricanes', type='External Factor'), type='AFFECTED_BY')], source=Document(page_content='double, particularly in high-foot-traffic areas like the Downtown Store. The SolarLantern sees the highest sales during these periods, making it a key product for Lumina. Carlos’s excellent management extends beyond the Downtown Store; he also oversees the Central Warehouse, which, under his leadership, has maintained a 98% in-stock rate, even during peak seasons. However, not all warehouses are as efficient. The East Coast Warehouse often faces disruptions due to hurricanes, which impact both product')), GraphDocument(nodes=[Node(id='Lumina', type='Company'), Node(id='Uptown Store', type='Store'), Node(id='Southeast Region', type='Region'), Node(id='North Warehouse', type='Warehouse'), Node(id='busy urban area', type='Location')], relationships=[Relationship(source=Node(id='Lumina', type='Company'), target=Node(id='North Warehouse', type='Warehouse'), type='MANAGES'), Relationship(source=Node(id='Lumina', type='Company'), target=Node(id='Uptown Store', type='Store'), type='LOCATED_AT')], source=Document(page_content='impact both product availability and delivery times. To address this, Lumina has started shifting some inventory to the North Warehouse during hurricane season. The location of a store significantly impacts its performance. The Uptown Store, located in a busy urban area, consistently outperforms other stores in sales and inventory turnover. This has led Lumina to consider opening new stores in similar high-traffic locations. In strategic planning, Lumina has identified the Southeast Region as a')), GraphDocument(nodes=[Node(id='EcoBag', type='Product'), Node(id='Atlanta', type='Location'), Node(id='Lumina', type='Company'), Node(id='Company', type='Company'), Node(id='GreenBottle', type='Product'), Node(id='Southeast Region', type='Region'), Node(id='GreenTech', type='Supplier')], relationships=[Relationship(source=Node(id='Southeast Region', type='Region'), target=Node(id='Atlanta', type='Location'), type='LOCATED_AT'), Relationship(source=Node(id='Lumina', type='Company'), target=Node(id='GreenTech', type='Supplier'), type='HAS_CONTRACT_WITH')], source=Document(page_content='Southeast Region as a high-potential area for opening new stores. Based on customer purchase patterns, the company plans to launch a new store in Atlanta next year, focusing on sustainable products like GreenBottle and EcoBag, which are in high demand. Lumina’s strategic plans also include renegotiating contracts with GreenTech, focusing on improving delivery times and ensuring product availability. The new contract will include stricter penalties for delays, as well as incentives for on-time deliveries.')), GraphDocument(nodes=[Node(id='SolarLantern', type='Product'), Node(id='Anna', type='Person'), Node(id='EcoBag', type='Product'), Node(id='Lumina', type='Company'), Node(id='external factors', type='External Factor')], relationships=[Relationship(source=Node(id='Lumina', type='Company'), target=Node(id='SolarLantern', type='Product'), type='MANAGES'), Relationship(source=Node(id='Lumina', type='Company'), target=Node(id='EcoBag', type='Product'), type='MANAGES'), Relationship(source=Node(id='Lumina', type='Company'), target=Node(id='SolarLantern', type='Product'), type='HAS_INVENTORY'), Relationship(source=Node(id='Lumina', type='Company'), target=Node(id='EcoBag', type='Product'), type='HAS_INVENTORY')], source=Document(page_content='for on-time deliveries. Finally, Anna has begun analyzing the impact of various external factors, such as economic events and holidays, on overall sales trends. This analysis has revealed that Lumina should prioritize stocking products like SolarLantern and EcoBag during the holiday season, as these are the top sellers.\"\"\"'))]\n"
     ]
    }
   ],
   "source": [
    "# Extract graph data by converting a sequence of documents into graph documents.\n",
    "# https://api.python.langchain.com/en/latest/graph_transformers/langchain_experimental.graph_transformers.llm.LLMGraphTransformer.html#langchain_experimental.graph_transformers.llm.LLMGraphTransformer.convert_to_graph_documents\n",
    "\n",
    "graph_documents = llm_transformer.convert_to_graph_documents(documents)\n",
    "print(\"graph documents\", graph_documents)\n"
   ]
  },
  {
   "cell_type": "code",
   "execution_count": 9,
   "id": "6039c221-c7f6-4ae9-b5fd-00520566310a",
   "metadata": {},
   "outputs": [
    {
     "name": "stdout",
     "output_type": "stream",
     "text": [
      "Nodes:[Node(id='GreenTech', type='Supplier'), Node(id='Lumina', type='Company'), Node(id='Anna', type='Person'), Node(id='EcoSupplies', type='Supplier')]\n",
      "-----------------------------------------------------------------\n",
      "Relationships:[Relationship(source=Node(id='Lumina', type='Company'), target=Node(id='EcoSupplies', type='Supplier'), type='SUPPLIES'), Relationship(source=Node(id='Lumina', type='Company'), target=Node(id='GreenTech', type='Supplier'), type='SUPPLIES'), Relationship(source=Node(id='Anna', type='Person'), target=Node(id='Lumina', type='Company'), type='WORKS_FOR')]\n"
     ]
    }
   ],
   "source": [
    "# Print the nodes and relationships of the generated graph \n",
    "print(f\"Nodes:{graph_documents[0].nodes}\") \n",
    "print(\"-----------------------------------------------------------------\")\n",
    "print(f\"Relationships:{graph_documents[0].relationships}\")\n"
   ]
  },
  {
   "cell_type": "code",
   "execution_count": 10,
   "id": "b35bc40f-ec1d-4bf0-b83b-b1d521a5146f",
   "metadata": {
    "scrolled": true
   },
   "outputs": [
    {
     "name": "stdout",
     "output_type": "stream",
     "text": [
      "\n",
      "Nodes:\n",
      "Id: GreenTech, Type: Supplier\n",
      "Id: Lumina, Type: Company\n",
      "Id: Anna, Type: Person\n",
      "Id: EcoSupplies, Type: Supplier\n",
      "\n",
      "Relationships:\n",
      "Source: id='Lumina' type='Company', Target: id='EcoSupplies' type='Supplier', Type: SUPPLIES\n",
      "Source: id='Lumina' type='Company', Target: id='GreenTech' type='Supplier', Type: SUPPLIES\n",
      "Source: id='Anna' type='Person', Target: id='Lumina' type='Company', Type: WORKS_FOR\n",
      "\n",
      "Nodes:\n",
      "Id: Anna, Type: Person\n",
      "Id: GreenTech, Type: Supplier\n",
      "Id: Lumina, Type: Company\n",
      "Id: EcoSupplies, Type: Supplier\n",
      "\n",
      "Relationships:\n",
      "Source: id='Lumina' type='Company', Target: id='EcoSupplies' type='Supplier', Type: SUPPLIES\n",
      "Source: id='EcoSupplies' type='Supplier', Target: id='Lumina' type='Company', Type: DELIVERS_TO\n",
      "\n",
      "Nodes:\n",
      "Id: five warehouses, Type: Warehouse\n",
      "Id: Lumina, Type: Company\n",
      "Id: South Warehouse, Type: Warehouse\n",
      "Id: weather, Type: Weather Condition\n",
      "Id: Lumina's operations, Type: Supply Chain\n",
      "Id: North Warehouse, Type: Warehouse\n",
      "Id: products, Type: Product\n",
      "Id: different regions, Type: Region\n",
      "Id: EcoBag and GreenBottle, Type: Product\n",
      "\n",
      "Relationships:\n",
      "Source: id='Lumina' type='Company', Target: id='different regions' type='Region', Type: LOCATED_AT\n",
      "Source: id='North Warehouse' type='Warehouse', Target: id='products' type='Product', Type: STOCKS\n",
      "Source: id='weather' type='Weather Condition', Target: id=\"Lumina's operations\" type='Supply Chain', Type: AFFECTED_BY\n",
      "\n",
      "Nodes:\n",
      "Id: Anna, Type: Person\n",
      "Id: snowstorms, Type: Weather Condition\n",
      "Id: Lumina, Type: Company\n",
      "Id: stores in that region, Type: Region\n",
      "Id: Midwest Warehouse, Type: Warehouse\n",
      "Id: Downtown Store, Type: Store\n",
      "Id: Carlos, Type: Person\n",
      "Id: products stockpiling, Type: Supply Chain\n",
      "\n",
      "Relationships:\n",
      "Source: id='Lumina' type='Company', Target: id='Midwest Warehouse' type='Warehouse', Type: LOCATED_AT\n",
      "Source: id='Midwest Warehouse' type='Warehouse', Target: id='snowstorms' type='Weather Condition', Type: AFFECTED_BY\n",
      "Source: id='Midwest Warehouse' type='Warehouse', Target: id='stores in that region' type='Region', Type: DELIVERS_TO\n",
      "Source: id='Anna' type='Person', Target: id='products stockpiling' type='Supply Chain', Type: MANAGES\n",
      "Source: id='Lumina' type='Company', Target: id='Downtown Store' type='Store', Type: LOCATED_AT\n",
      "Source: id='Carlos' type='Person', Target: id='Downtown Store' type='Store', Type: MANAGES\n",
      "\n",
      "Nodes:\n",
      "Id: SolarLantern, Type: Product\n",
      "Id: Anna, Type: Person\n",
      "Id: West Coast Region, Type: Region\n",
      "Id: EcoBag, Type: Product\n",
      "Id: West Coast Warehouse, Type: Warehouse\n",
      "Id: Christmas, Type: Holiday\n",
      "Id: Lumina, Type: Company\n",
      "Id: Lumina's sales trends, Type: Sales Trend\n",
      "Id: Thanksgiving, Type: Holiday\n",
      "\n",
      "Relationships:\n",
      "Source: id='EcoBag' type='Product', Target: id='West Coast Warehouse' type='Warehouse', Type: STOCKS\n",
      "Source: id='SolarLantern' type='Product', Target: id='West Coast Warehouse' type='Warehouse', Type: STOCKS\n",
      "Source: id='Anna' type='Person', Target: id='Lumina' type='Company', Type: MANAGES\n",
      "Source: id='EcoBag' type='Product', Target: id='West Coast Region' type='Region', Type: DELIVERS_TO\n",
      "Source: id='SolarLantern' type='Product', Target: id='West Coast Region' type='Region', Type: DELIVERS_TO\n",
      "Source: id='Christmas' type='Holiday', Target: id=\"Lumina's sales trends\" type='Sales Trend', Type: AFFECTS\n",
      "Source: id='Thanksgiving' type='Holiday', Target: id=\"Lumina's sales trends\" type='Sales Trend', Type: AFFECTS\n",
      "\n",
      "Nodes:\n",
      "Id: SolarLantern, Type: Product\n",
      "Id: East Coast Region, Type: Region\n",
      "Id: double, Type: Product\n",
      "Id: Lumina, Type: Company\n",
      "Id: hurricanes, Type: External Factor\n",
      "Id: Downtown Store, Type: Store\n",
      "Id: Central Warehouse, Type: Warehouse\n",
      "Id: Carlos, Type: Person\n",
      "\n",
      "Relationships:\n",
      "Source: id='double' type='Product', Target: id='Downtown Store' type='Store', Type: LOCATED_AT\n",
      "Source: id='Carlos' type='Person', Target: id='Central Warehouse' type='Warehouse', Type: MANAGES\n",
      "Source: id='Central Warehouse' type='Warehouse', Target: id='East Coast Region' type='Region', Type: LOCATED_AT\n",
      "Source: id='Central Warehouse' type='Warehouse', Target: id='hurricanes' type='External Factor', Type: AFFECTED_BY\n",
      "\n",
      "Nodes:\n",
      "Id: Lumina, Type: Company\n",
      "Id: Uptown Store, Type: Store\n",
      "Id: Southeast Region, Type: Region\n",
      "Id: North Warehouse, Type: Warehouse\n",
      "Id: busy urban area, Type: Location\n",
      "\n",
      "Relationships:\n",
      "Source: id='Lumina' type='Company', Target: id='North Warehouse' type='Warehouse', Type: MANAGES\n",
      "Source: id='Lumina' type='Company', Target: id='Uptown Store' type='Store', Type: LOCATED_AT\n",
      "\n",
      "Nodes:\n",
      "Id: EcoBag, Type: Product\n",
      "Id: Atlanta, Type: Location\n",
      "Id: Lumina, Type: Company\n",
      "Id: Company, Type: Company\n",
      "Id: GreenBottle, Type: Product\n",
      "Id: Southeast Region, Type: Region\n",
      "Id: GreenTech, Type: Supplier\n",
      "\n",
      "Relationships:\n",
      "Source: id='Southeast Region' type='Region', Target: id='Atlanta' type='Location', Type: LOCATED_AT\n",
      "Source: id='Lumina' type='Company', Target: id='GreenTech' type='Supplier', Type: HAS_CONTRACT_WITH\n",
      "\n",
      "Nodes:\n",
      "Id: SolarLantern, Type: Product\n",
      "Id: Anna, Type: Person\n",
      "Id: EcoBag, Type: Product\n",
      "Id: Lumina, Type: Company\n",
      "Id: external factors, Type: External Factor\n",
      "\n",
      "Relationships:\n",
      "Source: id='Lumina' type='Company', Target: id='SolarLantern' type='Product', Type: MANAGES\n",
      "Source: id='Lumina' type='Company', Target: id='EcoBag' type='Product', Type: MANAGES\n",
      "Source: id='Lumina' type='Company', Target: id='SolarLantern' type='Product', Type: HAS_INVENTORY\n",
      "Source: id='Lumina' type='Company', Target: id='EcoBag' type='Product', Type: HAS_INVENTORY\n"
     ]
    }
   ],
   "source": [
    "# Print all the nodes and relationships of the generated graph \n",
    "for graph_doc in graph_documents:\n",
    "    print(\"\\nNodes:\")\n",
    "    for node in graph_doc.nodes:\n",
    "        print(f\"Id: {node.id}, Type: {node.type}\")\n",
    "    print(\"\\nRelationships:\")\n",
    "    for relationship in graph_doc.relationships:\n",
    "        print(f\"Source: {relationship.source}, Target: {relationship.target}, Type: {relationship.type}\")\n",
    "        "
   ]
  },
  {
   "cell_type": "code",
   "execution_count": 11,
   "id": "4b4ac9e8-911f-4af3-a670-be8c03f93774",
   "metadata": {},
   "outputs": [
    {
     "name": "stderr",
     "output_type": "stream",
     "text": [
      "Received notification from DBMS server: {severity: WARNING} {code: Neo.ClientNotification.Statement.UnknownRelationshipTypeWarning} {category: UNRECOGNIZED} {title: The provided relationship type is not in the database.} {description: One of the relationship types in your query is not available in the database, make sure you didn't misspell it or that the label is available when you run this statement in your application (the missing relationship type is: MENTIONS)} {position: line: 1, column: 15, offset: 14} for query: 'MATCH (s)-[r:!MENTIONS]->(t) RETURN s,r,t LIMIT 20'\n"
     ]
    },
    {
     "data": {
      "application/vnd.jupyter.widget-view+json": {
       "model_id": "7e604635d09644559a4cc24d61dd1ab3",
       "version_major": 2,
       "version_minor": 0
      },
      "text/plain": [
       "GraphWidget(layout=Layout(height='500px', width='100%'))"
      ]
     },
     "metadata": {},
     "output_type": "display_data"
    }
   ],
   "source": [
    "from neo4j import GraphDatabase\n",
    "from yfiles_jupyter_graphs import GraphWidget\n",
    "\n",
    "# directly show the graph resulting from the given Cypher query\n",
    "default_cypher = \"MATCH (s)-[r:!MENTIONS]->(t) RETURN s,r,t LIMIT 20\"\n",
    "\n",
    "def showGraph(cypher: str = default_cypher):\n",
    "    # create a neo4j session to run queries\n",
    "    driver = GraphDatabase.driver(\n",
    "        uri = os.environ[\"NEO4J_URI\"],\n",
    "        auth = (os.environ[\"NEO4J_USERNAME\"],\n",
    "                os.environ[\"NEO4J_PASSWORD\"]))\n",
    "    session = driver.session()\n",
    "    widget = GraphWidget(graph = session.run(cypher).graph())\n",
    "    widget.node_label_mapping = 'id'\n",
    "    # display(widget)\n",
    "    return widget\n",
    "\n",
    "# showGraph()"
   ]
  },
  {
   "cell_type": "code",
   "execution_count": 12,
   "id": "f5e7d918-14fe-42a6-a31a-b564b4ce1fef",
   "metadata": {},
   "outputs": [
    {
     "name": "stdout",
     "output_type": "stream",
     "text": [
      "Documents successfully added to Graph DataBase\n"
     ]
    }
   ],
   "source": [
    "# Store to neo4j\n",
    "# This method constructs nodes and relationships in the graph based on the provided GraphDocument objects.\n",
    "# https://api.python.langchain.com/en/latest/graphs/langchain_community.graphs.neo4j_graph.Neo4jGraph.html#langchain_community.graphs.neo4j_graph.Neo4jGraph.add_graph_documents\n",
    "graph.add_graph_documents(\n",
    "    graph_documents,\n",
    "    baseEntityLabel=True,\n",
    "    include_source=True\n",
    ")\n",
    "print(\"Documents successfully added to Graph DataBase\")\n"
   ]
  },
  {
   "cell_type": "code",
   "execution_count": 13,
   "id": "8868cf4b-da10-4094-8be4-96412f602495",
   "metadata": {},
   "outputs": [],
   "source": [
    "# Instantiate the Ollama embedding model and generate embeddings using the locally running LLaMA3.1-8b\n",
    "# https://python.langchain.com/api_reference/ollama/embeddings/langchain_ollama.embeddings.OllamaEmbeddings.html \n",
    "local_embeddings = OllamaEmbeddings(model=\"llama3.1:8b\")\n"
   ]
  },
  {
   "cell_type": "code",
   "execution_count": 15,
   "id": "61c77150-7eb1-4941-b161-1b2b2a9b0532",
   "metadata": {},
   "outputs": [],
   "source": [
    "# Initialize and return a Neo4jVector instance from existing graph.\n",
    "# This method initializes and returns a Neo4jVector instance using the provided parameters and the existing graph. \n",
    "# It validates the existence of the indices and creates new ones if they don’t exist.\n",
    "# https://api.python.langchain.com/en/latest/vectorstores/langchain_community.vectorstores.neo4j_vector.Neo4jVector.html#langchain_community.vectorstores.neo4j_vector.Neo4jVector.from_existing_graph\n",
    "vector_index = Neo4jVector.from_existing_graph(\n",
    "    embedding=local_embeddings,\n",
    "    search_type=\"hybrid\",\n",
    "    node_label=\"Document\",\n",
    "    text_node_properties=[\"text\"],\n",
    "    embedding_node_property=\"embedding\"\n",
    ")\n"
   ]
  },
  {
   "cell_type": "code",
   "execution_count": 16,
   "id": "73107dd9-a4b0-4a7c-840a-711d92875419",
   "metadata": {},
   "outputs": [],
   "source": [
    "# Create a RetrievalQA chain using the Neo4jVector as the retriever.\n",
    "qa_chain = RetrievalQA.from_chain_type(\n",
    "    llm, retriever=vector_index.as_retriever()\n",
    ")\n"
   ]
  },
  {
   "cell_type": "code",
   "execution_count": 18,
   "id": "c008e127-fbe1-4838-b641-45de8ff52aac",
   "metadata": {},
   "outputs": [],
   "source": [
    "# Creating custom prompt template\n",
    "# A prompt template consists of a string template.\n",
    "# It accepts a set of parameters that can be used to generate a prompt for a language model.\n",
    "\n",
    "template = \"\"\"Use the following pieces of context to answer the question at the end. \n",
    "If you don't know the answer, just say that you don't know, don't try to make up an answer. \n",
    "Use three sentences maximum and keep the answer as concise as possible. \n",
    "Always say \"Thanks for asking!\" at the end of the answer. \n",
    "\n",
    "{context}\n",
    "\n",
    "Question: {question}\n",
    "\n",
    "Helpful Answer:\"\"\"\n"
   ]
  },
  {
   "cell_type": "code",
   "execution_count": null,
   "id": "70c7e1e6-db6c-4ee2-85ff-3db26a702d60",
   "metadata": {},
   "outputs": [],
   "source": [
    "# Create a PromptTemplate instance with the custom prompt template for the language model.\n",
    "# https://api.python.langchain.com/en/latest/prompts/langchain_core.prompts.prompt.PromptTemplate.html\n",
    "QA_CHAIN_PROMPT = PromptTemplate(input_variables=[\"context\", \"question\"], template=template)\n"
   ]
  },
  {
   "cell_type": "code",
   "execution_count": 19,
   "id": "3413ceab-d3c7-4aee-ab6e-95a6c893795f",
   "metadata": {},
   "outputs": [],
   "source": [
    "# Create a RetrievalQA Chain for question-answering against an index using the Neo4jVector as the retriever. \n",
    "# https://api.python.langchain.com/en/latest/chains/langchain.chains.retrieval_qa.base.RetrievalQA.html#\n",
    "# Todo: Replace it with create_retrieval_chain()\n",
    "qa_chain = RetrievalQA.from_chain_type(\n",
    "    llm,\n",
    "    retriever=vector_index.as_retriever(),\n",
    "    chain_type_kwargs={\"prompt\": QA_CHAIN_PROMPT}\n",
    ")\n"
   ]
  },
  {
   "cell_type": "code",
   "execution_count": 20,
   "id": "3c586a75-1f57-4a90-81d7-89d24a6803a4",
   "metadata": {},
   "outputs": [],
   "source": [
    "# Define the function for querying document details\n",
    "def query_document_details(query):\n",
    "    if query is None:\n",
    "        return \"Error: Query cannot be None\"\n",
    "    try:\n",
    "        result = qa_chain({\"query\": query})\n",
    "        return result[\"result\"]\n",
    "    except Exception as e:\n",
    "        return f\"Error: {str(e)}\"\n"
   ]
  },
  {
   "cell_type": "code",
   "execution_count": 21,
   "id": "72461cf3-8e81-4f02-8297-5f471598cb8a",
   "metadata": {},
   "outputs": [],
   "source": [
    "# Create a Gradio interface\n",
    "# https://www.gradio.app/guides/the-interface-class\n",
    "interface = gr.Interface(\n",
    "    fn=query_document_details,        # Function to call\n",
    "    inputs=gr.Textbox(label=\"Enter your question\"),  # Input textbox as Gradio component to be used for the input\n",
    "    outputs=gr.Textbox(label=\"Answer\")   # Output textbox as Gradio component to be used for the output\n",
    ")\n"
   ]
  },
  {
   "cell_type": "code",
   "execution_count": 22,
   "id": "6faa3cf6-e87e-43a1-8413-1de8c01ad195",
   "metadata": {
    "scrolled": true
   },
   "outputs": [
    {
     "name": "stdout",
     "output_type": "stream",
     "text": [
      "Running on local URL:  http://127.0.0.1:7860\n",
      "\n",
      "To create a public link, set `share=True` in `launch()`.\n"
     ]
    },
    {
     "data": {
      "text/html": [
       "<div><iframe src=\"http://127.0.0.1:7860/\" width=\"100%\" height=\"500\" allow=\"autoplay; camera; microphone; clipboard-read; clipboard-write;\" frameborder=\"0\" allowfullscreen></iframe></div>"
      ],
      "text/plain": [
       "<IPython.core.display.HTML object>"
      ]
     },
     "metadata": {},
     "output_type": "display_data"
    },
    {
     "data": {
      "text/plain": []
     },
     "execution_count": 22,
     "metadata": {},
     "output_type": "execute_result"
    }
   ],
   "source": [
    "# Launch the interface\n",
    "interface.launch()\n"
   ]
  },
  {
   "cell_type": "code",
   "execution_count": null,
   "id": "c64064df-1332-4891-8b6b-33206b5b4ee9",
   "metadata": {},
   "outputs": [],
   "source": []
  }
 ],
 "metadata": {
  "kernelspec": {
   "display_name": "Python 3 (ipykernel)",
   "language": "python",
   "name": "python3"
  },
  "language_info": {
   "codemirror_mode": {
    "name": "ipython",
    "version": 3
   },
   "file_extension": ".py",
   "mimetype": "text/x-python",
   "name": "python",
   "nbconvert_exporter": "python",
   "pygments_lexer": "ipython3",
   "version": "3.11.7"
  }
 },
 "nbformat": 4,
 "nbformat_minor": 5
}
