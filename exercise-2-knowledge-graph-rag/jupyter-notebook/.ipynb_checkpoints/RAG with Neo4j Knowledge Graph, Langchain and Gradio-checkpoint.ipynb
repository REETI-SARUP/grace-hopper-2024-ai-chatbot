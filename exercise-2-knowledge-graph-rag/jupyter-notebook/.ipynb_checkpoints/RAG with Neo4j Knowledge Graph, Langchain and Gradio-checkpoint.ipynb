{
 "cells": [
  {
   "cell_type": "code",
   "execution_count": 1,
   "id": "a9e11268-87f2-4461-a3a7-95a3a7a2cdea",
   "metadata": {
    "scrolled": true
   },
   "outputs": [],
   "source": [
    "# !pip3 install langchain langchain_community langchain_experimental langchain_ollama langchain_core gradio\n"
   ]
  },
  {
   "cell_type": "code",
   "execution_count": 2,
   "id": "bf419bea-0031-4498-9e1a-3f9048c6a0b4",
   "metadata": {},
   "outputs": [],
   "source": [
    "from langchain_community.graphs import Neo4jGraph\n",
    "from langchain.docstore.document import Document\n",
    "from langchain_community.chat_models import ChatOllama\n",
    "from langchain_experimental.graph_transformers import LLMGraphTransformer\n",
    "from langchain.text_splitter import RecursiveCharacterTextSplitter\n",
    "from langchain_community.vectorstores import Neo4jVector\n",
    "from langchain.chains import RetrievalQA\n",
    "from langchain_ollama import OllamaEmbeddings\n",
    "from langchain_core.prompts import PromptTemplate\n",
    "import gradio as gr\n",
    "import os\n",
    "from IPython.display import display\n"
   ]
  },
  {
   "cell_type": "code",
   "execution_count": 3,
   "id": "903a3c4c-9cb5-4de5-b5da-00e5c87d7ba8",
   "metadata": {},
   "outputs": [],
   "source": [
    "# Refer to the Neo4j Desktop Installation & Setup Steps in the Readme. \n",
    "os.environ[\"NEO4J_URI\"] = \"bolt://localhost:7687\"\n",
    "os.environ[\"NEO4J_USERNAME\"] = \"neo4j\"\n",
    "os.environ[\"NEO4J_PASSWORD\"] = \"Password1!\" # replace with the password value here\n"
   ]
  },
  {
   "cell_type": "code",
   "execution_count": 4,
   "id": "3dbf9f36",
   "metadata": {},
   "outputs": [],
   "source": [
    "# Neo4j database wrapper for performing the graph operations.\n",
    "# Read more about it here: https://api.python.langchain.com/en/latest/graphs/langchain_community.graphs.neo4j_graph.Neo4jGraph.html\n",
    "graph = Neo4jGraph()\n"
   ]
  },
  {
   "cell_type": "code",
   "execution_count": 5,
   "id": "33f12d8d-dab0-4e8c-a3ce-87787e3b37ed",
   "metadata": {
    "scrolled": true
   },
   "outputs": [
    {
     "name": "stdout",
     "output_type": "stream",
     "text": [
      "Chunk 1:\n",
      "page_content='\"\"\"The Lumina Story Lumina is a rapidly growing startup focused on delivering sustainable, high-quality products to its customers across various regions. With a strong emphasis on efficient operations, supplier relationships, and customer satisfaction, Lumina has carved out a niche in the competitive market. Anna, a logistics manager at Lumina, plays a crucial role in overseeing the company’s supply chain. She collaborates closely with suppliers like EcoSupplies and GreenTech to ensure that Lumina’s'\n",
      "\n",
      "Chunk 2:\n",
      "page_content='to ensure that Lumina’s products are consistently in stock and delivered on time. Lumina maintains contracts with several suppliers, each playing a distinct role in the company’s operations. EcoSupplies is Lumina’s top supplier, known for its reliability and timely deliveries. Lumina’s contract with EcoSupplies is valued at $500,000 per year, making it the highest among all suppliers. In contrast, GreenTech frequently experiences delays due to adverse weather conditions, prompting Anna to renegotiate their'\n",
      "\n",
      "Chunk 3:\n",
      "page_content='to renegotiate their contract with stricter penalties for late deliveries. Lumina operates five warehouses strategically located across different regions. The North Warehouse stands out as the most efficient in stocking and delivering products, with minimal stockouts and delays. However, the South Warehouse often struggles with stockouts, particularly for products like EcoBag and GreenBottle, largely due to supply chain disruptions caused by weather. Weather plays a significant role in Lumina’s operations.'\n",
      "\n",
      "Chunk 4:\n",
      "page_content='in Lumina’s operations. For instance, the Midwest Warehouse frequently faces delays due to snowstorms, which impacts delivery times to stores in that region. To mitigate this, Anna has started stockpiling products in the Midwest before the winter season begins. Lumina’s stores are located in various urban and suburban areas. The Downtown Store consistently ranks highest in customer satisfaction, with a rating of 4.9 out of 5. This store is managed by Carlos, who excels at maintaining optimal inventory'\n",
      "\n",
      "Chunk 5:\n",
      "page_content='optimal inventory levels and ensuring popular products like EcoBag are always available. Sales at Lumina peak during the holiday season, especially in the West Coast Region. Products like SolarLantern and EcoBag are top sellers during this period. To prepare for the holiday rush, Anna prioritizes stocking these products in the West Coast warehouses. Major holidays like Christmas and Thanksgiving have a significant influence on Lumina’s sales trends. During these holidays, sales double, particularly in'\n",
      "\n",
      "Chunk 6:\n",
      "page_content='double, particularly in high-foot-traffic areas like the Downtown Store. The SolarLantern sees the highest sales during these periods, making it a key product for Lumina. Carlos’s excellent management extends beyond the Downtown Store; he also oversees the Central Warehouse, which, under his leadership, has maintained a 98% in-stock rate, even during peak seasons. However, not all warehouses are as efficient. The East Coast Warehouse often faces disruptions due to hurricanes, which impact both product'\n",
      "\n",
      "Chunk 7:\n",
      "page_content='impact both product availability and delivery times. To address this, Lumina has started shifting some inventory to the North Warehouse during hurricane season. The location of a store significantly impacts its performance. The Uptown Store, located in a busy urban area, consistently outperforms other stores in sales and inventory turnover. This has led Lumina to consider opening new stores in similar high-traffic locations. In strategic planning, Lumina has identified the Southeast Region as a'\n",
      "\n",
      "Chunk 8:\n",
      "page_content='Southeast Region as a high-potential area for opening new stores. Based on customer purchase patterns, the company plans to launch a new store in Atlanta next year, focusing on sustainable products like GreenBottle and EcoBag, which are in high demand. Lumina’s strategic plans also include renegotiating contracts with GreenTech, focusing on improving delivery times and ensuring product availability. The new contract will include stricter penalties for delays, as well as incentives for on-time deliveries.'\n",
      "\n",
      "Chunk 9:\n",
      "page_content='for on-time deliveries. Finally, Anna has begun analyzing the impact of various external factors, such as economic events and holidays, on overall sales trends. This analysis has revealed that Lumina should prioritize stocking products like SolarLantern and EcoBag during the holiday season, as these are the top sellers.\"\"\"'\n",
      "\n"
     ]
    }
   ],
   "source": [
    "# Specify the path to your text file\n",
    "file_path = \"../Lumina.txt\"\n",
    "\n",
    "try:\n",
    "    # Read the text from the file\n",
    "    with open(file_path, \"r\", encoding='utf-8') as file:\n",
    "        text = file.read()\n",
    "\n",
    "    # Initialize RecursiveCharacterTextSplitter with desired parameters\n",
    "    # Read more about it here: https://sj-langchain.readthedocs.io/en/latest/text_splitter/langchain.text_splitter.RecursiveCharacterTextSplitter.html \n",
    "    # RecursiveCharacterTextSplitter recursively breaks down text into smaller chunks for easier processing and retrieval.\n",
    "    # This is the recommended text splitter for generic text. \n",
    "    # It is parameterized by a list of characters, the default list is [\"\\n\\n\", \"\\n\", \" \", \"\"]. It tries to split on them in order until the chunks are small enough. \n",
    "    # This has the effect of trying to keep all paragraphs (and then sentences, and then words) together as long as possible, as those would generically seem to be the strongest semantically related pieces of text.\n",
    "    # Adjust chunk_size and chunk_overlap according to your needs.\n",
    "    # The chunk size should be at least as large as the average length of your queries.\n",
    "    # The chunk overlap should be smaller than the chunk size to maintain context.\n",
    "    \n",
    "    text_splitter = RecursiveCharacterTextSplitter(\n",
    "        chunk_size=512,  # Adjust chunk size as needed\n",
    "        chunk_overlap=24  # Adjust overlap to maintain context\n",
    "    )\n",
    "\n",
    "    # Convert the formatted text into a list of Document objects\n",
    "    texts = []\n",
    "\n",
    "    # Docstores are classes to store and load Documents.\n",
    "    # The Docstore is a simplified version of the Document Loader.\n",
    "    # https://python.langchain.com/v0.2/api_reference/community/docstore.html\n",
    "    document = Document(page_content=text)\n",
    "    texts.append(document)\n",
    "\n",
    "    # Split the text into chunks\n",
    "    documents = text_splitter.split_documents(texts)\n",
    "    # Print the split chunks\n",
    "    for i, chunk in enumerate(documents):\n",
    "        print(f\"Chunk {i+1}:\\n{chunk}\\n\")\n",
    "\n",
    "# Print an error message if the file is not found.\n",
    "except FileNotFoundError:\n",
    "    print(f\"Error: File '{file_path}' not found.\")\n",
    "    "
   ]
  },
  {
   "cell_type": "code",
   "execution_count": 6,
   "id": "f0633383",
   "metadata": {},
   "outputs": [],
   "source": [
    "# Instantiating our model object with relevant params for Chat Completion. \n",
    "# Running LLaMA3.1-8b LLM locally using Ollama.\n",
    "# https://api.python.langchain.com/en/latest/chat_models/langchain_community.chat_models.ollama.ChatOllama.html\n",
    "llm = ChatOllama(\n",
    "    model=\"llama3.1:8b\", # LLM Model running locally using Ollama\n",
    "    temperature=0.1, # Temperature parameter for LLM model, ranges from 0 to 1, controls the randomness of the output.\n",
    ")\n"
   ]
  },
  {
   "cell_type": "code",
   "execution_count": 7,
   "id": "6faa3cf6-e87e-43a1-8413-1de8c01ad195",
   "metadata": {
    "scrolled": true
   },
   "outputs": [],
   "source": [
    "# LLMGraphTransformer converts textual documents into graph-based documents using LLM.\n",
    "# https://api.python.langchain.com/en/latest/graph_transformers/langchain_experimental.graph_transformers.llm.LLMGraphTransformer.html\n",
    "llm_transformer = LLMGraphTransformer(\n",
    "    llm=llm,\n",
    "    allowed_nodes=[\"Company\", \"Person\", \"Product\", \"Supplier\", \"Warehouse\", \"Store\", \"Shipment\", \"Customer\", \"External Factor\", \"Supply Chain\", \"Location\", \"Weather Condition\", \"Holiday\", \"Region\", \"Sales Trend\"], # Specifies which node types are allowed in the graph. Defaults to an empty list, allowing all node types.\n",
    "    allowed_relationships=[\"WORKS_FOR\", \"CREATES\", \"SUPPLIES\", \"STOCKS\", \"DELIVERS_TO\", \"LOCATED_AT\", \"AFFECTED_BY\", \"AFFECTS\", \"MANAGES\", \"CONTAINS\", \"HAS_CONTRACT_WITH\", \"HAS_INVENTORY\", \"INFLUENCES\" ], # Specifies which relationship types are allowed in the graph. Defaults to an empty list, allowing all relationship types.\n",
    ")\n"
   ]
  },
  {
   "cell_type": "code",
   "execution_count": 8,
   "id": "7c306f30-4ebc-4c88-9647-1e2d40f544fa",
   "metadata": {
    "scrolled": true
   },
   "outputs": [
    {
     "name": "stdout",
     "output_type": "stream",
     "text": [
      "graph documents [GraphDocument(nodes=[Node(id='Anna', type='Person'), Node(id='Lumina', type='Company'), Node(id='EcoSupplies', type='Supplier'), Node(id='GreenTech', type='Supplier')], relationships=[Relationship(source=Node(id='Lumina', type='Company'), target=Node(id='EcoSupplies', type='Supplier'), type='SUPPLIES'), Relationship(source=Node(id='Lumina', type='Company'), target=Node(id='GreenTech', type='Supplier'), type='SUPPLIES'), Relationship(source=Node(id='Anna', type='Person'), target=Node(id='Lumina', type='Company'), type='WORKS_FOR')], source=Document(page_content='\"\"\"The Lumina Story Lumina is a rapidly growing startup focused on delivering sustainable, high-quality products to its customers across various regions. With a strong emphasis on efficient operations, supplier relationships, and customer satisfaction, Lumina has carved out a niche in the competitive market. Anna, a logistics manager at Lumina, plays a crucial role in overseeing the company’s supply chain. She collaborates closely with suppliers like EcoSupplies and GreenTech to ensure that Lumina’s')), GraphDocument(nodes=[Node(id='Lumina', type='Company'), Node(id='GreenTech', type='Supplier'), Node(id='EcoSupplies', type='Supplier'), Node(id='Anna', type='Person')], relationships=[Relationship(source=Node(id='Lumina', type='Company'), target=Node(id='EcoSupplies', type='Supplier'), type='SUPPLIES'), Relationship(source=Node(id='EcoSupplies', type='Supplier'), target=Node(id='Lumina', type='Company'), type='DELIVERS_TO')], source=Document(page_content='to ensure that Lumina’s products are consistently in stock and delivered on time. Lumina maintains contracts with several suppliers, each playing a distinct role in the company’s operations. EcoSupplies is Lumina’s top supplier, known for its reliability and timely deliveries. Lumina’s contract with EcoSupplies is valued at $500,000 per year, making it the highest among all suppliers. In contrast, GreenTech frequently experiences delays due to adverse weather conditions, prompting Anna to renegotiate their')), GraphDocument(nodes=[Node(id='Lumina', type='Company'), Node(id='North Warehouse', type='Warehouse'), Node(id='South Warehouse', type='Warehouse'), Node(id='GreenBottle', type='Product'), Node(id='weather', type='Weather Condition'), Node(id='EcoBag', type='Product')], relationships=[Relationship(source=Node(id='Lumina', type='Company'), target=Node(id='North Warehouse', type='Warehouse'), type='LOCATED_AT'), Relationship(source=Node(id='Lumina', type='Company'), target=Node(id='South Warehouse', type='Warehouse'), type='MANAGES')], source=Document(page_content='to renegotiate their contract with stricter penalties for late deliveries. Lumina operates five warehouses strategically located across different regions. The North Warehouse stands out as the most efficient in stocking and delivering products, with minimal stockouts and delays. However, the South Warehouse often struggles with stockouts, particularly for products like EcoBag and GreenBottle, largely due to supply chain disruptions caused by weather. Weather plays a significant role in Lumina’s operations.')), GraphDocument(nodes=[Node(id='Midwest', type='Region'), Node(id='Downtown Store', type='Store'), Node(id='various urban and suburban areas', type='Location'), Node(id='snowstorms', type='Weather Condition'), Node(id=\"Lumina's stores\", type='Store'), Node(id='products in the Midwest before the winter season begins', type='Supply Chain'), Node(id='delivery times to stores in that region', type='Sales Trend'), Node(id='Carlos', type='Person'), Node(id='Anna', type='Person'), Node(id='customer satisfaction', type='Sales Trend'), Node(id='Midwest Warehouse', type='Warehouse')], relationships=[Relationship(source=Node(id='Midwest Warehouse', type='Warehouse'), target=Node(id='Midwest', type='Region'), type='LOCATED_AT'), Relationship(source=Node(id='Midwest Warehouse', type='Warehouse'), target=Node(id='snowstorms', type='Weather Condition'), type='AFFECTED_BY'), Relationship(source=Node(id='Anna', type='Person'), target=Node(id='Midwest Warehouse', type='Warehouse'), type='MANAGES'), Relationship(source=Node(id='Anna', type='Person'), target=Node(id='products in the Midwest before the winter season begins', type='Supply Chain'), type='STOCKS')], source=Document(page_content='in Lumina’s operations. For instance, the Midwest Warehouse frequently faces delays due to snowstorms, which impacts delivery times to stores in that region. To mitigate this, Anna has started stockpiling products in the Midwest before the winter season begins. Lumina’s stores are located in various urban and suburban areas. The Downtown Store consistently ranks highest in customer satisfaction, with a rating of 4.9 out of 5. This store is managed by Carlos, who excels at maintaining optimal inventory')), GraphDocument(nodes=[Node(id='Lumina', type='Company'), Node(id='Christmas', type='Holiday'), Node(id='Sales trend', type='Sales Trend'), Node(id='Anna', type='Person'), Node(id='West Coast warehouses', type='Warehouse'), Node(id='EcoBag', type='Product'), Node(id='SolarLantern', type='Product'), Node(id='Thanksgiving', type='Holiday')], relationships=[Relationship(source=Node(id='EcoBag', type='Product'), target=Node(id='West Coast warehouses', type='Warehouse'), type='STOCKS'), Relationship(source=Node(id='SolarLantern', type='Product'), target=Node(id='West Coast warehouses', type='Warehouse'), type='STOCKS'), Relationship(source=Node(id='EcoBag', type='Product'), target=Node(id='Sales trend', type='Sales Trend'), type='INFLUENCES'), Relationship(source=Node(id='SolarLantern', type='Product'), target=Node(id='Sales trend', type='Sales Trend'), type='INFLUENCES'), Relationship(source=Node(id='Anna', type='Person'), target=Node(id='West Coast warehouses', type='Warehouse'), type='MANAGES'), Relationship(source=Node(id='Lumina', type='Company'), target=Node(id='Christmas', type='Holiday'), type='AFFECTED_BY'), Relationship(source=Node(id='Lumina', type='Company'), target=Node(id='Thanksgiving', type='Holiday'), type='AFFECTED_BY')], source=Document(page_content='optimal inventory levels and ensuring popular products like EcoBag are always available. Sales at Lumina peak during the holiday season, especially in the West Coast Region. Products like SolarLantern and EcoBag are top sellers during this period. To prepare for the holiday rush, Anna prioritizes stocking these products in the West Coast warehouses. Major holidays like Christmas and Thanksgiving have a significant influence on Lumina’s sales trends. During these holidays, sales double, particularly in')), GraphDocument(nodes=[Node(id='Downtown Store', type='Store'), Node(id='Lumina', type='Company'), Node(id='Carlos', type='Person'), Node(id='hurricanes', type='External Factor'), Node(id='Central Warehouse', type='Warehouse'), Node(id='SolarLantern', type='Product'), Node(id='double', type='Product'), Node(id='East Coast Region', type='Region')], relationships=[Relationship(source=Node(id='double', type='Product'), target=Node(id='Downtown Store', type='Store'), type='LOCATED_AT'), Relationship(source=Node(id='Carlos', type='Person'), target=Node(id='Central Warehouse', type='Warehouse'), type='MANAGES'), Relationship(source=Node(id='Central Warehouse', type='Warehouse'), target=Node(id='East Coast Region', type='Region'), type='LOCATED_AT'), Relationship(source=Node(id='Central Warehouse', type='Warehouse'), target=Node(id='hurricanes', type='External Factor'), type='AFFECTED_BY')], source=Document(page_content='double, particularly in high-foot-traffic areas like the Downtown Store. The SolarLantern sees the highest sales during these periods, making it a key product for Lumina. Carlos’s excellent management extends beyond the Downtown Store; he also oversees the Central Warehouse, which, under his leadership, has maintained a 98% in-stock rate, even during peak seasons. However, not all warehouses are as efficient. The East Coast Warehouse often faces disruptions due to hurricanes, which impact both product')), GraphDocument(nodes=[Node(id='Lumina', type='Company'), Node(id='Southeast Region', type='Region'), Node(id='busy urban area', type='Location'), Node(id='North Warehouse', type='Warehouse'), Node(id='new stores', type='Store'), Node(id='Uptown Store', type='Store'), Node(id='sales and inventory turnover', type='Sales Trend'), Node(id='customers', type='Customer'), Node(id='inventory', type='Product')], relationships=[Relationship(source=Node(id='Lumina', type='Company'), target=Node(id='North Warehouse', type='Warehouse'), type='MANAGES'), Relationship(source=Node(id='Lumina', type='Company'), target=Node(id='Uptown Store', type='Store'), type='LOCATED_AT'), Relationship(source=Node(id='Lumina', type='Company'), target=Node(id='sales and inventory turnover', type='Sales Trend'), type='INFLUENCES'), Relationship(source=Node(id='North Warehouse', type='Warehouse'), target=Node(id='inventory', type='Product'), type='STOCKS'), Relationship(source=Node(id='Uptown Store', type='Store'), target=Node(id='customers', type='Customer'), type='DELIVERS_TO')], source=Document(page_content='impact both product availability and delivery times. To address this, Lumina has started shifting some inventory to the North Warehouse during hurricane season. The location of a store significantly impacts its performance. The Uptown Store, located in a busy urban area, consistently outperforms other stores in sales and inventory turnover. This has led Lumina to consider opening new stores in similar high-traffic locations. In strategic planning, Lumina has identified the Southeast Region as a')), GraphDocument(nodes=[Node(id='Southeast Region', type='Region'), Node(id='Company', type='Company'), Node(id='GreenTech', type='Supplier'), Node(id='GreenBottle', type='Product'), Node(id='EcoBag', type='Product'), Node(id='Atlanta', type='Location')], relationships=[Relationship(source=Node(id='Southeast Region', type='Region'), target=Node(id='Atlanta', type='Location'), type='LOCATED_AT'), Relationship(source=Node(id='GreenTech', type='Supplier'), target=Node(id='Company', type='Company'), type='HAS_CONTRACT_WITH'), Relationship(source=Node(id='Company', type='Company'), target=Node(id='GreenTech', type='Supplier'), type='MANAGES')], source=Document(page_content='Southeast Region as a high-potential area for opening new stores. Based on customer purchase patterns, the company plans to launch a new store in Atlanta next year, focusing on sustainable products like GreenBottle and EcoBag, which are in high demand. Lumina’s strategic plans also include renegotiating contracts with GreenTech, focusing on improving delivery times and ensuring product availability. The new contract will include stricter penalties for delays, as well as incentives for on-time deliveries.')), GraphDocument(nodes=[Node(id='Lumina', type='Company'), Node(id='external factors', type='External Factor'), Node(id='Anna', type='Person'), Node(id='holiday season', type='Holiday'), Node(id='EcoBag', type='Product'), Node(id='SolarLantern', type='Product'), Node(id='stocking products', type='Supply Chain'), Node(id='overall sales trends', type='Sales Trend')], relationships=[Relationship(source=Node(id='Lumina', type='Company'), target=Node(id='stocking products', type='Supply Chain'), type='MANAGES'), Relationship(source=Node(id='holiday season', type='Holiday'), target=Node(id='overall sales trends', type='Sales Trend'), type='AFFECTS')], source=Document(page_content='for on-time deliveries. Finally, Anna has begun analyzing the impact of various external factors, such as economic events and holidays, on overall sales trends. This analysis has revealed that Lumina should prioritize stocking products like SolarLantern and EcoBag during the holiday season, as these are the top sellers.\"\"\"'))]\n"
     ]
    }
   ],
   "source": [
    "# Extract graph data by converting a sequence of documents into graph documents.\n",
    "# https://api.python.langchain.com/en/latest/graph_transformers/langchain_experimental.graph_transformers.llm.LLMGraphTransformer.html#langchain_experimental.graph_transformers.llm.LLMGraphTransformer.convert_to_graph_documents\n",
    "\n",
    "graph_documents = llm_transformer.convert_to_graph_documents(documents)\n",
    "print(\"graph documents\", graph_documents)\n"
   ]
  },
  {
   "cell_type": "code",
   "execution_count": 9,
   "id": "90a996bd-2f3e-4ef1-afc2-f78d9acc5b55",
   "metadata": {},
   "outputs": [
    {
     "name": "stdout",
     "output_type": "stream",
     "text": [
      "Nodes:[Node(id='Anna', type='Person'), Node(id='Lumina', type='Company'), Node(id='EcoSupplies', type='Supplier'), Node(id='GreenTech', type='Supplier')]\n",
      "-----------------------------------------------------------------\n",
      "Relationships:[Relationship(source=Node(id='Lumina', type='Company'), target=Node(id='EcoSupplies', type='Supplier'), type='SUPPLIES'), Relationship(source=Node(id='Lumina', type='Company'), target=Node(id='GreenTech', type='Supplier'), type='SUPPLIES'), Relationship(source=Node(id='Anna', type='Person'), target=Node(id='Lumina', type='Company'), type='WORKS_FOR')]\n"
     ]
    }
   ],
   "source": [
    "# Print the nodes and relationships of the generated graph \n",
    "print(f\"Nodes:{graph_documents[0].nodes}\") \n",
    "print(\"-----------------------------------------------------------------\")\n",
    "print(f\"Relationships:{graph_documents[0].relationships}\")\n"
   ]
  },
  {
   "cell_type": "code",
   "execution_count": 10,
   "id": "a8307e42",
   "metadata": {},
   "outputs": [
    {
     "name": "stdout",
     "output_type": "stream",
     "text": [
      "\n",
      "Nodes:\n",
      "Id: Anna, Type: Person\n",
      "Id: Lumina, Type: Company\n",
      "Id: EcoSupplies, Type: Supplier\n",
      "Id: GreenTech, Type: Supplier\n",
      "\n",
      "Relationships:\n",
      "Source: id='Lumina' type='Company', Target: id='EcoSupplies' type='Supplier', Type: SUPPLIES\n",
      "Source: id='Lumina' type='Company', Target: id='GreenTech' type='Supplier', Type: SUPPLIES\n",
      "Source: id='Anna' type='Person', Target: id='Lumina' type='Company', Type: WORKS_FOR\n",
      "\n",
      "Nodes:\n",
      "Id: Lumina, Type: Company\n",
      "Id: GreenTech, Type: Supplier\n",
      "Id: EcoSupplies, Type: Supplier\n",
      "Id: Anna, Type: Person\n",
      "\n",
      "Relationships:\n",
      "Source: id='Lumina' type='Company', Target: id='EcoSupplies' type='Supplier', Type: SUPPLIES\n",
      "Source: id='EcoSupplies' type='Supplier', Target: id='Lumina' type='Company', Type: DELIVERS_TO\n",
      "\n",
      "Nodes:\n",
      "Id: Lumina, Type: Company\n",
      "Id: North Warehouse, Type: Warehouse\n",
      "Id: South Warehouse, Type: Warehouse\n",
      "Id: GreenBottle, Type: Product\n",
      "Id: weather, Type: Weather Condition\n",
      "Id: EcoBag, Type: Product\n",
      "\n",
      "Relationships:\n",
      "Source: id='Lumina' type='Company', Target: id='North Warehouse' type='Warehouse', Type: LOCATED_AT\n",
      "Source: id='Lumina' type='Company', Target: id='South Warehouse' type='Warehouse', Type: MANAGES\n",
      "\n",
      "Nodes:\n",
      "Id: Midwest, Type: Region\n",
      "Id: Downtown Store, Type: Store\n",
      "Id: various urban and suburban areas, Type: Location\n",
      "Id: snowstorms, Type: Weather Condition\n",
      "Id: Lumina's stores, Type: Store\n",
      "Id: products in the Midwest before the winter season begins, Type: Supply Chain\n",
      "Id: delivery times to stores in that region, Type: Sales Trend\n",
      "Id: Carlos, Type: Person\n",
      "Id: Anna, Type: Person\n",
      "Id: customer satisfaction, Type: Sales Trend\n",
      "Id: Midwest Warehouse, Type: Warehouse\n",
      "\n",
      "Relationships:\n",
      "Source: id='Midwest Warehouse' type='Warehouse', Target: id='Midwest' type='Region', Type: LOCATED_AT\n",
      "Source: id='Midwest Warehouse' type='Warehouse', Target: id='snowstorms' type='Weather Condition', Type: AFFECTED_BY\n",
      "Source: id='Anna' type='Person', Target: id='Midwest Warehouse' type='Warehouse', Type: MANAGES\n",
      "Source: id='Anna' type='Person', Target: id='products in the Midwest before the winter season begins' type='Supply Chain', Type: STOCKS\n",
      "\n",
      "Nodes:\n",
      "Id: Lumina, Type: Company\n",
      "Id: Christmas, Type: Holiday\n",
      "Id: Sales trend, Type: Sales Trend\n",
      "Id: Anna, Type: Person\n",
      "Id: West Coast warehouses, Type: Warehouse\n",
      "Id: EcoBag, Type: Product\n",
      "Id: SolarLantern, Type: Product\n",
      "Id: Thanksgiving, Type: Holiday\n",
      "\n",
      "Relationships:\n",
      "Source: id='EcoBag' type='Product', Target: id='West Coast warehouses' type='Warehouse', Type: STOCKS\n",
      "Source: id='SolarLantern' type='Product', Target: id='West Coast warehouses' type='Warehouse', Type: STOCKS\n",
      "Source: id='EcoBag' type='Product', Target: id='Sales trend' type='Sales Trend', Type: INFLUENCES\n",
      "Source: id='SolarLantern' type='Product', Target: id='Sales trend' type='Sales Trend', Type: INFLUENCES\n",
      "Source: id='Anna' type='Person', Target: id='West Coast warehouses' type='Warehouse', Type: MANAGES\n",
      "Source: id='Lumina' type='Company', Target: id='Christmas' type='Holiday', Type: AFFECTED_BY\n",
      "Source: id='Lumina' type='Company', Target: id='Thanksgiving' type='Holiday', Type: AFFECTED_BY\n",
      "\n",
      "Nodes:\n",
      "Id: Downtown Store, Type: Store\n",
      "Id: Lumina, Type: Company\n",
      "Id: Carlos, Type: Person\n",
      "Id: hurricanes, Type: External Factor\n",
      "Id: Central Warehouse, Type: Warehouse\n",
      "Id: SolarLantern, Type: Product\n",
      "Id: double, Type: Product\n",
      "Id: East Coast Region, Type: Region\n",
      "\n",
      "Relationships:\n",
      "Source: id='double' type='Product', Target: id='Downtown Store' type='Store', Type: LOCATED_AT\n",
      "Source: id='Carlos' type='Person', Target: id='Central Warehouse' type='Warehouse', Type: MANAGES\n",
      "Source: id='Central Warehouse' type='Warehouse', Target: id='East Coast Region' type='Region', Type: LOCATED_AT\n",
      "Source: id='Central Warehouse' type='Warehouse', Target: id='hurricanes' type='External Factor', Type: AFFECTED_BY\n",
      "\n",
      "Nodes:\n",
      "Id: Lumina, Type: Company\n",
      "Id: Southeast Region, Type: Region\n",
      "Id: busy urban area, Type: Location\n",
      "Id: North Warehouse, Type: Warehouse\n",
      "Id: new stores, Type: Store\n",
      "Id: Uptown Store, Type: Store\n",
      "Id: sales and inventory turnover, Type: Sales Trend\n",
      "Id: customers, Type: Customer\n",
      "Id: inventory, Type: Product\n",
      "\n",
      "Relationships:\n",
      "Source: id='Lumina' type='Company', Target: id='North Warehouse' type='Warehouse', Type: MANAGES\n",
      "Source: id='Lumina' type='Company', Target: id='Uptown Store' type='Store', Type: LOCATED_AT\n",
      "Source: id='Lumina' type='Company', Target: id='sales and inventory turnover' type='Sales Trend', Type: INFLUENCES\n",
      "Source: id='North Warehouse' type='Warehouse', Target: id='inventory' type='Product', Type: STOCKS\n",
      "Source: id='Uptown Store' type='Store', Target: id='customers' type='Customer', Type: DELIVERS_TO\n",
      "\n",
      "Nodes:\n",
      "Id: Southeast Region, Type: Region\n",
      "Id: Company, Type: Company\n",
      "Id: GreenTech, Type: Supplier\n",
      "Id: GreenBottle, Type: Product\n",
      "Id: EcoBag, Type: Product\n",
      "Id: Atlanta, Type: Location\n",
      "\n",
      "Relationships:\n",
      "Source: id='Southeast Region' type='Region', Target: id='Atlanta' type='Location', Type: LOCATED_AT\n",
      "Source: id='GreenTech' type='Supplier', Target: id='Company' type='Company', Type: HAS_CONTRACT_WITH\n",
      "Source: id='Company' type='Company', Target: id='GreenTech' type='Supplier', Type: MANAGES\n",
      "\n",
      "Nodes:\n",
      "Id: Lumina, Type: Company\n",
      "Id: external factors, Type: External Factor\n",
      "Id: Anna, Type: Person\n",
      "Id: holiday season, Type: Holiday\n",
      "Id: EcoBag, Type: Product\n",
      "Id: SolarLantern, Type: Product\n",
      "Id: stocking products, Type: Supply Chain\n",
      "Id: overall sales trends, Type: Sales Trend\n",
      "\n",
      "Relationships:\n",
      "Source: id='Lumina' type='Company', Target: id='stocking products' type='Supply Chain', Type: MANAGES\n",
      "Source: id='holiday season' type='Holiday', Target: id='overall sales trends' type='Sales Trend', Type: AFFECTS\n"
     ]
    }
   ],
   "source": [
    "# Print all the nodes and relationships of the generated graph \n",
    "for graph_doc in graph_documents:\n",
    "    print(\"\\nNodes:\")\n",
    "    for node in graph_doc.nodes:\n",
    "        print(f\"Id: {node.id}, Type: {node.type}\")\n",
    "    print(\"\\nRelationships:\")\n",
    "    for relationship in graph_doc.relationships:\n",
    "        print(f\"Source: {relationship.source}, Target: {relationship.target}, Type: {relationship.type}\")\n",
    "        "
   ]
  },
  {
   "cell_type": "code",
   "execution_count": 11,
   "id": "7fd0dbb7-6c29-403b-87be-2a47222f6d9a",
   "metadata": {},
   "outputs": [],
   "source": [
    "# from neo4j import GraphDatabase\n",
    "# from yfiles_jupyter_graphs import GraphWidget\n",
    "\n",
    "# # directly show the graph resulting from the given Cypher query\n",
    "# default_cypher = \"MATCH (s)-[r:!MENTIONS]->(t) RETURN s,r,t LIMIT 20\"\n",
    "\n",
    "# def showGraph(cypher: str = default_cypher):\n",
    "#     # create a neo4j session to run queries\n",
    "#     driver = GraphDatabase.driver(\n",
    "#         uri = os.environ[\"NEO4J_URI\"],\n",
    "#         auth = (os.environ[\"NEO4J_USERNAME\"],\n",
    "#                 os.environ[\"NEO4J_PASSWORD\"]))\n",
    "#     session = driver.session()\n",
    "#     widget = GraphWidget(graph = session.run(cypher).graph())\n",
    "#     widget.node_label_mapping = 'id'\n",
    "#     # display(widget)\n",
    "#     return widget\n",
    "\n",
    "# showGraph()\n"
   ]
  },
  {
   "cell_type": "code",
   "execution_count": 12,
   "id": "c4c3c0de-c120-4207-b732-605a2817bde7",
   "metadata": {
    "scrolled": true
   },
   "outputs": [
    {
     "name": "stdout",
     "output_type": "stream",
     "text": [
      "Documents successfully added to Graph DataBase\n"
     ]
    }
   ],
   "source": [
    "# Store to neo4j\n",
    "# This method constructs nodes and relationships in the graph based on the provided GraphDocument objects.\n",
    "# https://api.python.langchain.com/en/latest/graphs/langchain_community.graphs.neo4j_graph.Neo4jGraph.html#langchain_community.graphs.neo4j_graph.Neo4jGraph.add_graph_documents\n",
    "graph.add_graph_documents(\n",
    "    graph_documents,\n",
    "    baseEntityLabel=True,\n",
    "    include_source=True\n",
    ")\n",
    "print(\"Documents successfully added to Graph DataBase\")\n"
   ]
  },
  {
   "cell_type": "code",
   "execution_count": 13,
   "id": "befd4e68-ee90-4561-a325-a13cc2abe9d1",
   "metadata": {},
   "outputs": [],
   "source": [
    "# Instantiate the Ollama embedding model and generate embeddings using the locally running LLaMA3.1-8b\n",
    "# https://python.langchain.com/api_reference/ollama/embeddings/langchain_ollama.embeddings.OllamaEmbeddings.html \n",
    "local_embeddings = OllamaEmbeddings(model=\"llama3.1:8b\")\n"
   ]
  },
  {
   "cell_type": "code",
   "execution_count": 14,
   "id": "0234bd8f-305f-4501-aaad-f31e8fdd21de",
   "metadata": {},
   "outputs": [],
   "source": [
    "# Initialize and return a Neo4jVector instance from existing graph.\n",
    "# This method initializes and returns a Neo4jVector instance using the provided parameters and the existing graph. \n",
    "# It validates the existence of the indices and creates new ones if they don’t exist.\n",
    "# https://api.python.langchain.com/en/latest/vectorstores/langchain_community.vectorstores.neo4j_vector.Neo4jVector.html#langchain_community.vectorstores.neo4j_vector.Neo4jVector.from_existing_graph\n",
    "vector_index = Neo4jVector.from_existing_graph(\n",
    "    embedding=local_embeddings,\n",
    "    search_type=\"hybrid\",\n",
    "    node_label=\"Document\",\n",
    "    text_node_properties=[\"text\"],\n",
    "    embedding_node_property=\"embedding\"\n",
    ")\n"
   ]
  },
  {
   "cell_type": "code",
   "execution_count": 15,
   "id": "e6c76560-3687-41d9-8321-e5b336bfe6e7",
   "metadata": {},
   "outputs": [],
   "source": [
    "# Create a RetrievalQA chain using the Neo4jVector as the retriever.\n",
    "qa_chain = RetrievalQA.from_chain_type(\n",
    "    llm, retriever=vector_index.as_retriever()\n",
    ")\n"
   ]
  },
  {
   "cell_type": "code",
   "execution_count": 16,
   "id": "0b77ca50-9c67-4861-b904-1db433892948",
   "metadata": {},
   "outputs": [],
   "source": [
    "# Creating custom prompt template\n",
    "# A prompt template consists of a string template.\n",
    "# It accepts a set of parameters that can be used to generate a prompt for a language model.\n",
    "\n",
    "template = \"\"\"Use the following pieces of context to answer the question at the end. \n",
    "If you don't know the answer, just say that you don't know, don't try to make up an answer. \n",
    "Use three sentences maximum and keep the answer as concise as possible. \n",
    "Always say \"Thanks for asking!\" at the end of the answer. \n",
    "\n",
    "{context}\n",
    "\n",
    "Question: {question}\n",
    "\n",
    "Helpful Answer:\"\"\"\n"
   ]
  },
  {
   "cell_type": "code",
   "execution_count": 17,
   "id": "485c4889-39c1-4aa6-bfe3-8e782f97842b",
   "metadata": {},
   "outputs": [],
   "source": [
    "# Create a PromptTemplate instance with the custom prompt template for the language model.\n",
    "# https://api.python.langchain.com/en/latest/prompts/langchain_core.prompts.prompt.PromptTemplate.html\n",
    "QA_CHAIN_PROMPT = PromptTemplate(input_variables=[\"context\", \"question\"], template=template)\n"
   ]
  },
  {
   "cell_type": "code",
   "execution_count": 18,
   "id": "a31002cb-a292-4192-b6ea-91da6c5e2406",
   "metadata": {},
   "outputs": [],
   "source": [
    "# Create a RetrievalQA Chain for question-answering against an index using the Neo4jVector as the retriever. \n",
    "# https://api.python.langchain.com/en/latest/chains/langchain.chains.retrieval_qa.base.RetrievalQA.html#\n",
    "# Todo: Replace it with create_retrieval_chain()\n",
    "qa_chain = RetrievalQA.from_chain_type(\n",
    "    llm,\n",
    "    retriever=vector_index.as_retriever(),\n",
    "    chain_type_kwargs={\"prompt\": QA_CHAIN_PROMPT}\n",
    ")\n",
    "\n"
   ]
  },
  {
   "cell_type": "code",
   "execution_count": 19,
   "id": "caa33504-23a4-42b0-880b-25bc7b2f6110",
   "metadata": {},
   "outputs": [],
   "source": [
    "# Define the function for querying document details\n",
    "def query_document_details(query):\n",
    "    if query is None:\n",
    "        return \"Error: Query cannot be None\"\n",
    "    try:\n",
    "        result = qa_chain({\"query\": query})\n",
    "        return result[\"result\"]\n",
    "    except Exception as e:\n",
    "        return f\"Error: {str(e)}\"\n",
    "    "
   ]
  },
  {
   "cell_type": "code",
   "execution_count": 20,
   "id": "72d2ab44-9fda-4c18-b1c8-177f7d5156cc",
   "metadata": {},
   "outputs": [],
   "source": [
    "# Create a Gradio interface\n",
    "# https://www.gradio.app/guides/the-interface-class\n",
    "interface = gr.Interface(\n",
    "    fn=query_document_details,        # Function to call\n",
    "    inputs=gr.Textbox(label=\"Enter your question\"),  # Input textbox as Gradio component to be used for the input\n",
    "    outputs=gr.Textbox(label=\"Answer\")   # Output textbox as Gradio component to be used for the output\n",
    ")\n"
   ]
  },
  {
   "cell_type": "code",
   "execution_count": 21,
   "id": "1cd0595a-2d01-4b48-bc79-2645dd5b2f94",
   "metadata": {},
   "outputs": [
    {
     "name": "stdout",
     "output_type": "stream",
     "text": [
      "Running on local URL:  http://127.0.0.1:7860\n",
      "\n",
      "To create a public link, set `share=True` in `launch()`.\n"
     ]
    },
    {
     "data": {
      "text/html": [
       "<div><iframe src=\"http://127.0.0.1:7860/\" width=\"100%\" height=\"500\" allow=\"autoplay; camera; microphone; clipboard-read; clipboard-write;\" frameborder=\"0\" allowfullscreen></iframe></div>"
      ],
      "text/plain": [
       "<IPython.core.display.HTML object>"
      ]
     },
     "metadata": {},
     "output_type": "display_data"
    },
    {
     "data": {
      "text/plain": []
     },
     "execution_count": 21,
     "metadata": {},
     "output_type": "execute_result"
    }
   ],
   "source": [
    "# Launch the interface\n",
    "interface.launch()\n"
   ]
  },
  {
   "cell_type": "code",
   "execution_count": null,
   "id": "66a19c19-1885-40c6-8ea6-5bb34ea3d33b",
   "metadata": {},
   "outputs": [],
   "source": []
  }
 ],
 "metadata": {
  "kernelspec": {
   "display_name": "Python 3 (ipykernel)",
   "language": "python",
   "name": "python3"
  },
  "language_info": {
   "codemirror_mode": {
    "name": "ipython",
    "version": 3
   },
   "file_extension": ".py",
   "mimetype": "text/x-python",
   "name": "python",
   "nbconvert_exporter": "python",
   "pygments_lexer": "ipython3",
   "version": "3.9.5"
  }
 },
 "nbformat": 4,
 "nbformat_minor": 5
}
