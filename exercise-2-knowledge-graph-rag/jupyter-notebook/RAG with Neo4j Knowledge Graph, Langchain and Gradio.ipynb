{
 "cells": [
  {
   "cell_type": "code",
   "execution_count": 1,
   "id": "a9e11268-87f2-4461-a3a7-95a3a7a2cdea",
   "metadata": {
    "scrolled": true
   },
   "outputs": [],
   "source": [
    "# !pip3 install langchain langchain_community langchain_experimental langchain_ollama langchain_core gradio neo4j json-repair\n"
   ]
  },
  {
   "cell_type": "code",
   "execution_count": 2,
   "id": "bf419bea-0031-4498-9e1a-3f9048c6a0b4",
   "metadata": {},
   "outputs": [],
   "source": [
    "from langchain_community.graphs import Neo4jGraph\n",
    "from langchain.docstore.document import Document\n",
    "from langchain_community.chat_models import ChatOllama\n",
    "from langchain_experimental.graph_transformers import LLMGraphTransformer\n",
    "from langchain.text_splitter import RecursiveCharacterTextSplitter\n",
    "from langchain_community.vectorstores import Neo4jVector\n",
    "from langchain.chains import RetrievalQA\n",
    "from langchain_ollama import OllamaEmbeddings\n",
    "from langchain_core.prompts import PromptTemplate\n",
    "import gradio as gr\n",
    "import os\n",
    "from IPython.display import display\n"
   ]
  },
  {
   "cell_type": "code",
   "execution_count": 3,
   "id": "903a3c4c-9cb5-4de5-b5da-00e5c87d7ba8",
   "metadata": {},
   "outputs": [],
   "source": [
    "# Refer to the Neo4j Desktop Installation & Setup Steps in the Readme. \n",
    "os.environ[\"NEO4J_URI\"] = \"bolt://localhost:7687\"\n",
    "os.environ[\"NEO4J_USERNAME\"] = \"neo4j\"\n",
    "os.environ[\"NEO4J_PASSWORD\"] = \"Password\" # replace with the password value here\n"
   ]
  },
  {
   "cell_type": "code",
   "execution_count": 4,
   "id": "33f12d8d-dab0-4e8c-a3ce-87787e3b37ed",
   "metadata": {
    "scrolled": true
   },
   "outputs": [],
   "source": [
    "# Neo4j database wrapper for performing the graph operations.\n",
    "# Read more about it here: https://api.python.langchain.com/en/latest/graphs/langchain_community.graphs.neo4j_graph.Neo4jGraph.html\n",
    "graph = Neo4jGraph()\n"
   ]
  },
  {
   "cell_type": "code",
   "execution_count": 5,
   "id": "1e09a0ee-93a9-409a-b626-8fb959afae2d",
   "metadata": {},
   "outputs": [
    {
     "name": "stdout",
     "output_type": "stream",
     "text": [
      "Chunk 1:\n",
      "page_content='\"\"\"The Lumina Story Lumina is a rapidly growing startup focused on delivering sustainable, high-quality products to its customers across various regions. With a strong emphasis on efficient operations, supplier relationships, and customer satisfaction, Lumina has carved out a niche in the competitive market. Anna, a logistics manager at Lumina, plays a crucial role in overseeing the company’s supply chain. She collaborates closely with suppliers like EcoSupplies and GreenTech to ensure that Lumina’s'\n",
      "\n",
      "Chunk 2:\n",
      "page_content='to ensure that Lumina’s products are consistently in stock and delivered on time. Lumina maintains contracts with several suppliers, each playing a distinct role in the company’s operations. EcoSupplies is Lumina’s top supplier, known for its reliability and timely deliveries. Lumina’s contract with EcoSupplies is valued at $500,000 per year, making it the highest among all suppliers. In contrast, GreenTech frequently experiences delays due to adverse weather conditions, prompting Anna to renegotiate their'\n",
      "\n",
      "Chunk 3:\n",
      "page_content='to renegotiate their contract with stricter penalties for late deliveries. Lumina operates five warehouses strategically located across different regions. The North Warehouse stands out as the most efficient in stocking and delivering products, with minimal stockouts and delays. However, the South Warehouse often struggles with stockouts, particularly for products like EcoBag and GreenBottle, largely due to supply chain disruptions caused by weather. Weather plays a significant role in Lumina’s operations.'\n",
      "\n",
      "Chunk 4:\n",
      "page_content='in Lumina’s operations. For instance, the Midwest Warehouse frequently faces delays due to snowstorms, which impacts delivery times to stores in that region. To mitigate this, Anna has started stockpiling products in the Midwest before the winter season begins. Lumina’s stores are located in various urban and suburban areas. The Downtown Store consistently ranks highest in customer satisfaction, with a rating of 4.9 out of 5. This store is managed by Carlos, who excels at maintaining optimal inventory'\n",
      "\n",
      "Chunk 5:\n",
      "page_content='optimal inventory levels and ensuring popular products like EcoBag are always available. Sales at Lumina peak during the holiday season, especially in the West Coast Region. Products like SolarLantern and EcoBag are top sellers during this period. To prepare for the holiday rush, Anna prioritizes stocking these products in the West Coast warehouses. Major holidays like Christmas and Thanksgiving have a significant influence on Lumina’s sales trends. During these holidays, sales double, particularly in'\n",
      "\n",
      "Chunk 6:\n",
      "page_content='double, particularly in high-foot-traffic areas like the Downtown Store. The SolarLantern sees the highest sales during these periods, making it a key product for Lumina. Carlos’s excellent management extends beyond the Downtown Store; he also oversees the Central Warehouse, which, under his leadership, has maintained a 98% in-stock rate, even during peak seasons. However, not all warehouses are as efficient. The East Coast Warehouse often faces disruptions due to hurricanes, which impact both product'\n",
      "\n",
      "Chunk 7:\n",
      "page_content='impact both product availability and delivery times. To address this, Lumina has started shifting some inventory to the North Warehouse during hurricane season. The location of a store significantly impacts its performance. The Uptown Store, located in a busy urban area, consistently outperforms other stores in sales and inventory turnover. This has led Lumina to consider opening new stores in similar high-traffic locations. In strategic planning, Lumina has identified the Southeast Region as a'\n",
      "\n",
      "Chunk 8:\n",
      "page_content='Southeast Region as a high-potential area for opening new stores. Based on customer purchase patterns, the company plans to launch a new store in Atlanta next year, focusing on sustainable products like GreenBottle and EcoBag, which are in high demand. Lumina’s strategic plans also include renegotiating contracts with GreenTech, focusing on improving delivery times and ensuring product availability. The new contract will include stricter penalties for delays, as well as incentives for on-time deliveries.'\n",
      "\n",
      "Chunk 9:\n",
      "page_content='for on-time deliveries. Finally, Anna has begun analyzing the impact of various external factors, such as economic events and holidays, on overall sales trends. This analysis has revealed that Lumina should prioritize stocking products like SolarLantern and EcoBag during the holiday season, as these are the top sellers.\"\"\"'\n",
      "\n"
     ]
    }
   ],
   "source": [
    "# Specify the path to your text file\n",
    "file_path = \"../Lumina.txt\"\n",
    "\n",
    "try:\n",
    "    # Read the text from the file\n",
    "    with open(file_path, \"r\", encoding='utf-8') as file:\n",
    "        text = file.read()\n",
    "\n",
    "    # Initialize RecursiveCharacterTextSplitter with desired parameters\n",
    "    # Read more about it here: https://sj-langchain.readthedocs.io/en/latest/text_splitter/langchain.text_splitter.RecursiveCharacterTextSplitter.html \n",
    "    # RecursiveCharacterTextSplitter recursively breaks down text into smaller chunks for easier processing and retrieval.\n",
    "    # This is the recommended text splitter for generic text. \n",
    "    # It is parameterized by a list of characters, the default list is [\"\\n\\n\", \"\\n\", \" \", \"\"]. It tries to split on them in order until the chunks are small enough. \n",
    "    # This has the effect of trying to keep all paragraphs (and then sentences, and then words) together as long as possible, as those would generically seem to be the strongest semantically related pieces of text.\n",
    "    # Adjust chunk_size and chunk_overlap according to your needs.\n",
    "    # The chunk size should be at least as large as the average length of your queries.\n",
    "    # The chunk overlap should be smaller than the chunk size to maintain context.\n",
    "    \n",
    "    text_splitter = RecursiveCharacterTextSplitter(\n",
    "        chunk_size=512,  # Adjust chunk size as needed\n",
    "        chunk_overlap=24  # Adjust overlap to maintain context\n",
    "    )\n",
    "\n",
    "    # Convert the formatted text into a list of Document objects\n",
    "    texts = []\n",
    "\n",
    "    # Docstores are classes to store and load Documents.\n",
    "    # The Docstore is a simplified version of the Document Loader.\n",
    "    # https://python.langchain.com/v0.2/api_reference/community/docstore.html\n",
    "    document = Document(page_content=text)\n",
    "    texts.append(document)\n",
    "\n",
    "    # Split the text into chunks\n",
    "    documents = text_splitter.split_documents(texts)\n",
    "    # Print the split chunks\n",
    "    for i, chunk in enumerate(documents):\n",
    "        print(f\"Chunk {i+1}:\\n{chunk}\\n\")\n",
    "\n",
    "# Print an error message if the file is not found.\n",
    "except FileNotFoundError:\n",
    "    print(f\"Error: File '{file_path}' not found.\")\n",
    "    "
   ]
  },
  {
   "cell_type": "code",
   "execution_count": 6,
   "id": "f731a6a2-7b02-493a-b022-e2c4914c3f41",
   "metadata": {},
   "outputs": [],
   "source": [
    "# Instantiating our model object with relevant params for Chat Completion. \n",
    "# Running LLaMA3.1-8b LLM locally using Ollama.\n",
    "# https://api.python.langchain.com/en/latest/chat_models/langchain_community.chat_models.ollama.ChatOllama.html\n",
    "llm = ChatOllama(\n",
    "    model=\"llama3.1:8b\", # LLM Model running locally using Ollama\n",
    "    temperature=0.1, # Temperature parameter for LLM model, ranges from 0 to 1, controls the randomness of the output.\n",
    ")\n"
   ]
  },
  {
   "cell_type": "code",
   "execution_count": 7,
   "id": "0ede8863-ec6a-40bd-ab91-fd7ef74bfd43",
   "metadata": {},
   "outputs": [],
   "source": [
    "# LLMGraphTransformer converts textual documents into graph-based documents using LLM.\n",
    "# https://api.python.langchain.com/en/latest/graph_transformers/langchain_experimental.graph_transformers.llm.LLMGraphTransformer.html\n",
    "llm_transformer = LLMGraphTransformer(\n",
    "    llm=llm,\n",
    "    allowed_nodes=[\"Company\", \"Person\", \"Product\", \"Supplier\", \"Warehouse\", \"Store\", \"Shipment\", \"Customer\", \"External Factor\", \"Supply Chain\", \"Location\", \"Weather Condition\", \"Holiday\", \"Region\", \"Sales Trend\"], # Specifies which node types are allowed in the graph. Defaults to an empty list, allowing all node types.\n",
    "    allowed_relationships=[\"WORKS_FOR\", \"CREATES\", \"SUPPLIES\", \"STOCKS\", \"DELIVERS_TO\", \"LOCATED_AT\", \"AFFECTED_BY\", \"AFFECTS\", \"MANAGES\", \"CONTAINS\", \"HAS_CONTRACT_WITH\", \"HAS_INVENTORY\", \"INFLUENCES\" ], # Specifies which relationship types are allowed in the graph. Defaults to an empty list, allowing all relationship types.\n",
    ")\n"
   ]
  },
  {
   "cell_type": "code",
   "execution_count": 8,
   "id": "9c40b0bb-246f-4985-8ae0-2edf9ab972e0",
   "metadata": {},
   "outputs": [
    {
     "name": "stdout",
     "output_type": "stream",
     "text": [
      "graph documents [GraphDocument(nodes=[Node(id='Lumina', type='Company'), Node(id='Anna', type='Person'), Node(id='supply chain', type='Supply Chain'), Node(id='GreenTech', type='Supplier'), Node(id='EcoSupplies', type='Supplier')], relationships=[Relationship(source=Node(id='Lumina', type='Company'), target=Node(id='EcoSupplies', type='Supplier'), type='SUPPLIES'), Relationship(source=Node(id='Lumina', type='Company'), target=Node(id='GreenTech', type='Supplier'), type='SUPPLIES'), Relationship(source=Node(id='Anna', type='Person'), target=Node(id='Lumina', type='Company'), type='WORKS_FOR'), Relationship(source=Node(id='Anna', type='Person'), target=Node(id='supply chain', type='Supply Chain'), type='MANAGES')], source=Document(page_content='\"\"\"The Lumina Story Lumina is a rapidly growing startup focused on delivering sustainable, high-quality products to its customers across various regions. With a strong emphasis on efficient operations, supplier relationships, and customer satisfaction, Lumina has carved out a niche in the competitive market. Anna, a logistics manager at Lumina, plays a crucial role in overseeing the company’s supply chain. She collaborates closely with suppliers like EcoSupplies and GreenTech to ensure that Lumina’s')), GraphDocument(nodes=[Node(id='EcoSupplies', type='Supplier'), Node(id='GreenTech', type='Supplier'), Node(id='Lumina', type='Company'), Node(id='Anna', type='Person')], relationships=[Relationship(source=Node(id='Lumina', type='Company'), target=Node(id='EcoSupplies', type='Supplier'), type='SUPPLIES'), Relationship(source=Node(id='EcoSupplies', type='Supplier'), target=Node(id='Lumina', type='Company'), type='DELIVERS_TO')], source=Document(page_content='to ensure that Lumina’s products are consistently in stock and delivered on time. Lumina maintains contracts with several suppliers, each playing a distinct role in the company’s operations. EcoSupplies is Lumina’s top supplier, known for its reliability and timely deliveries. Lumina’s contract with EcoSupplies is valued at $500,000 per year, making it the highest among all suppliers. In contrast, GreenTech frequently experiences delays due to adverse weather conditions, prompting Anna to renegotiate their')), GraphDocument(nodes=[Node(id='EcoBag', type='Product'), Node(id='South Warehouse', type='Warehouse'), Node(id='North Warehouse', type='Warehouse'), Node(id='Lumina', type='Company'), Node(id='GreenBottle', type='Product'), Node(id='Weather', type='External Factor')], relationships=[Relationship(source=Node(id='Lumina', type='Company'), target=Node(id='North Warehouse', type='Warehouse'), type='MANAGES'), Relationship(source=Node(id='Lumina', type='Company'), target=Node(id='South Warehouse', type='Warehouse'), type='MANAGES'), Relationship(source=Node(id='Lumina', type='Company'), target=Node(id='EcoBag', type='Product'), type='SUPPLIES'), Relationship(source=Node(id='Lumina', type='Company'), target=Node(id='GreenBottle', type='Product'), type='SUPPLIES'), Relationship(source=Node(id='North Warehouse', type='Warehouse'), target=Node(id='EcoBag', type='Product'), type='STOCKS'), Relationship(source=Node(id='North Warehouse', type='Warehouse'), target=Node(id='GreenBottle', type='Product'), type='STOCKS'), Relationship(source=Node(id='South Warehouse', type='Warehouse'), target=Node(id='Weather', type='External Factor'), type='AFFECTED_BY')], source=Document(page_content='to renegotiate their contract with stricter penalties for late deliveries. Lumina operates five warehouses strategically located across different regions. The North Warehouse stands out as the most efficient in stocking and delivering products, with minimal stockouts and delays. However, the South Warehouse often struggles with stockouts, particularly for products like EcoBag and GreenBottle, largely due to supply chain disruptions caused by weather. Weather plays a significant role in Lumina’s operations.')), GraphDocument(nodes=[Node(id='Anna', type='Person'), Node(id='products stockpiling', type='Supply Chain'), Node(id='snowstorms', type='Weather Condition'), Node(id='Downtown Store', type='Store'), Node(id='Midwest Warehouse', type='Warehouse'), Node(id='Carlos', type='Person'), Node(id='stores in that region', type='Region'), Node(id='Lumina', type='Company')], relationships=[Relationship(source=Node(id='Lumina', type='Company'), target=Node(id='Midwest Warehouse', type='Warehouse'), type='LOCATED_AT'), Relationship(source=Node(id='Midwest Warehouse', type='Warehouse'), target=Node(id='snowstorms', type='Weather Condition'), type='AFFECTED_BY'), Relationship(source=Node(id='Midwest Warehouse', type='Warehouse'), target=Node(id='stores in that region', type='Region'), type='DELIVERS_TO'), Relationship(source=Node(id='Anna', type='Person'), target=Node(id='products stockpiling', type='Supply Chain'), type='MANAGES'), Relationship(source=Node(id='Lumina', type='Company'), target=Node(id='Downtown Store', type='Store'), type='LOCATED_AT'), Relationship(source=Node(id='Carlos', type='Person'), target=Node(id='Downtown Store', type='Store'), type='MANAGES')], source=Document(page_content='in Lumina’s operations. For instance, the Midwest Warehouse frequently faces delays due to snowstorms, which impacts delivery times to stores in that region. To mitigate this, Anna has started stockpiling products in the Midwest before the winter season begins. Lumina’s stores are located in various urban and suburban areas. The Downtown Store consistently ranks highest in customer satisfaction, with a rating of 4.9 out of 5. This store is managed by Carlos, who excels at maintaining optimal inventory')), GraphDocument(nodes=[Node(id='SolarLantern', type='Product'), Node(id='EcoBag', type='Product'), Node(id='Christmas', type='Holiday'), Node(id=\"Lumina's sales trends\", type='Sales Trend'), Node(id='Anna', type='Person'), Node(id='West Coast Warehouse', type='Warehouse'), Node(id='Thanksgiving', type='Holiday'), Node(id='Lumina', type='Company')], relationships=[Relationship(source=Node(id='EcoBag', type='Product'), target=Node(id='West Coast Warehouse', type='Warehouse'), type='STOCKS'), Relationship(source=Node(id='SolarLantern', type='Product'), target=Node(id='West Coast Warehouse', type='Warehouse'), type='STOCKS'), Relationship(source=Node(id='Anna', type='Person'), target=Node(id='Lumina', type='Company'), type='MANAGES'), Relationship(source=Node(id='EcoBag', type='Product'), target=Node(id='West Coast Warehouse', type='Warehouse'), type='DELIVERS_TO'), Relationship(source=Node(id='SolarLantern', type='Product'), target=Node(id='West Coast Warehouse', type='Warehouse'), type='DELIVERS_TO'), Relationship(source=Node(id='Christmas', type='Holiday'), target=Node(id=\"Lumina's sales trends\", type='Sales Trend'), type='AFFECTS'), Relationship(source=Node(id='Thanksgiving', type='Holiday'), target=Node(id=\"Lumina's sales trends\", type='Sales Trend'), type='AFFECTS')], source=Document(page_content='optimal inventory levels and ensuring popular products like EcoBag are always available. Sales at Lumina peak during the holiday season, especially in the West Coast Region. Products like SolarLantern and EcoBag are top sellers during this period. To prepare for the holiday rush, Anna prioritizes stocking these products in the West Coast warehouses. Major holidays like Christmas and Thanksgiving have a significant influence on Lumina’s sales trends. During these holidays, sales double, particularly in')), GraphDocument(nodes=[Node(id='hurricanes', type='External Factor'), Node(id='SolarLantern', type='Product'), Node(id='Lumina', type='Company'), Node(id='double', type='Product'), Node(id='Central Warehouse', type='Warehouse'), Node(id='East Coast Region', type='Region'), Node(id='Downtown Store', type='Store'), Node(id='Carlos', type='Person')], relationships=[Relationship(source=Node(id='double', type='Product'), target=Node(id='Downtown Store', type='Store'), type='LOCATED_AT'), Relationship(source=Node(id='Carlos', type='Person'), target=Node(id='Central Warehouse', type='Warehouse'), type='MANAGES'), Relationship(source=Node(id='Central Warehouse', type='Warehouse'), target=Node(id='East Coast Region', type='Region'), type='LOCATED_AT'), Relationship(source=Node(id='Central Warehouse', type='Warehouse'), target=Node(id='hurricanes', type='External Factor'), type='AFFECTED_BY')], source=Document(page_content='double, particularly in high-foot-traffic areas like the Downtown Store. The SolarLantern sees the highest sales during these periods, making it a key product for Lumina. Carlos’s excellent management extends beyond the Downtown Store; he also oversees the Central Warehouse, which, under his leadership, has maintained a 98% in-stock rate, even during peak seasons. However, not all warehouses are as efficient. The East Coast Warehouse often faces disruptions due to hurricanes, which impact both product')), GraphDocument(nodes=[Node(id='sales and inventory turnover', type='Sales Trend'), Node(id='Southeast Region', type='Region'), Node(id='Uptown Store', type='Store'), Node(id='North Warehouse', type='Warehouse'), Node(id='Lumina', type='Company'), Node(id='new stores', type='Store')], relationships=[Relationship(source=Node(id='Lumina', type='Company'), target=Node(id='North Warehouse', type='Warehouse'), type='MANAGES'), Relationship(source=Node(id='Lumina', type='Company'), target=Node(id='Uptown Store', type='Store'), type='LOCATED_AT'), Relationship(source=Node(id='Lumina', type='Company'), target=Node(id='sales and inventory turnover', type='Sales Trend'), type='INFLUENCES')], source=Document(page_content='impact both product availability and delivery times. To address this, Lumina has started shifting some inventory to the North Warehouse during hurricane season. The location of a store significantly impacts its performance. The Uptown Store, located in a busy urban area, consistently outperforms other stores in sales and inventory turnover. This has led Lumina to consider opening new stores in similar high-traffic locations. In strategic planning, Lumina has identified the Southeast Region as a')), GraphDocument(nodes=[Node(id='Southeast Region', type='Region'), Node(id='EcoBag', type='Product'), Node(id='Company', type='Company'), Node(id='GreenTech', type='Supplier'), Node(id='Atlanta', type='Location'), Node(id='Lumina', type='Company'), Node(id='GreenBottle', type='Product')], relationships=[Relationship(source=Node(id='Southeast Region', type='Region'), target=Node(id='Atlanta', type='Location'), type='LOCATED_AT'), Relationship(source=Node(id='Lumina', type='Company'), target=Node(id='GreenTech', type='Supplier'), type='HAS_CONTRACT_WITH')], source=Document(page_content='Southeast Region as a high-potential area for opening new stores. Based on customer purchase patterns, the company plans to launch a new store in Atlanta next year, focusing on sustainable products like GreenBottle and EcoBag, which are in high demand. Lumina’s strategic plans also include renegotiating contracts with GreenTech, focusing on improving delivery times and ensuring product availability. The new contract will include stricter penalties for delays, as well as incentives for on-time deliveries.')), GraphDocument(nodes=[Node(id='SolarLantern', type='Product'), Node(id='external factors', type='External Factor'), Node(id='stocking products', type='Supply Chain'), Node(id='EcoBag', type='Product'), Node(id='overall sales trends', type='Sales Trend'), Node(id='Anna', type='Person'), Node(id='holiday season', type='Holiday'), Node(id='Lumina', type='Company')], relationships=[Relationship(source=Node(id='Lumina', type='Company'), target=Node(id='stocking products', type='Supply Chain'), type='MANAGES'), Relationship(source=Node(id='holiday season', type='Holiday'), target=Node(id='overall sales trends', type='Sales Trend'), type='AFFECTS')], source=Document(page_content='for on-time deliveries. Finally, Anna has begun analyzing the impact of various external factors, such as economic events and holidays, on overall sales trends. This analysis has revealed that Lumina should prioritize stocking products like SolarLantern and EcoBag during the holiday season, as these are the top sellers.\"\"\"'))]\n"
     ]
    }
   ],
   "source": [
    "# Extract graph data by converting a sequence of documents into graph documents.\n",
    "# https://api.python.langchain.com/en/latest/graph_transformers/langchain_experimental.graph_transformers.llm.LLMGraphTransformer.html#langchain_experimental.graph_transformers.llm.LLMGraphTransformer.convert_to_graph_documents\n",
    "\n",
    "graph_documents = llm_transformer.convert_to_graph_documents(documents)\n",
    "print(\"graph documents\", graph_documents)\n"
   ]
  },
  {
   "cell_type": "code",
   "execution_count": 9,
   "id": "6039c221-c7f6-4ae9-b5fd-00520566310a",
   "metadata": {},
   "outputs": [
    {
     "name": "stdout",
     "output_type": "stream",
     "text": [
      "Nodes:[Node(id='Lumina', type='Company'), Node(id='Anna', type='Person'), Node(id='supply chain', type='Supply Chain'), Node(id='GreenTech', type='Supplier'), Node(id='EcoSupplies', type='Supplier')]\n",
      "-----------------------------------------------------------------\n",
      "Relationships:[Relationship(source=Node(id='Lumina', type='Company'), target=Node(id='EcoSupplies', type='Supplier'), type='SUPPLIES'), Relationship(source=Node(id='Lumina', type='Company'), target=Node(id='GreenTech', type='Supplier'), type='SUPPLIES'), Relationship(source=Node(id='Anna', type='Person'), target=Node(id='Lumina', type='Company'), type='WORKS_FOR'), Relationship(source=Node(id='Anna', type='Person'), target=Node(id='supply chain', type='Supply Chain'), type='MANAGES')]\n"
     ]
    }
   ],
   "source": [
    "# Print the nodes and relationships of the generated graph \n",
    "print(f\"Nodes:{graph_documents[0].nodes}\") \n",
    "print(\"-----------------------------------------------------------------\")\n",
    "print(f\"Relationships:{graph_documents[0].relationships}\")\n"
   ]
  },
  {
   "cell_type": "code",
   "execution_count": 10,
   "id": "b35bc40f-ec1d-4bf0-b83b-b1d521a5146f",
   "metadata": {
    "scrolled": true
   },
   "outputs": [
    {
     "name": "stdout",
     "output_type": "stream",
     "text": [
      "\n",
      "Nodes:\n",
      "Id: Lumina, Type: Company\n",
      "Id: Anna, Type: Person\n",
      "Id: supply chain, Type: Supply Chain\n",
      "Id: GreenTech, Type: Supplier\n",
      "Id: EcoSupplies, Type: Supplier\n",
      "\n",
      "Relationships:\n",
      "Source: id='Lumina' type='Company', Target: id='EcoSupplies' type='Supplier', Type: SUPPLIES\n",
      "Source: id='Lumina' type='Company', Target: id='GreenTech' type='Supplier', Type: SUPPLIES\n",
      "Source: id='Anna' type='Person', Target: id='Lumina' type='Company', Type: WORKS_FOR\n",
      "Source: id='Anna' type='Person', Target: id='supply chain' type='Supply Chain', Type: MANAGES\n",
      "\n",
      "Nodes:\n",
      "Id: EcoSupplies, Type: Supplier\n",
      "Id: GreenTech, Type: Supplier\n",
      "Id: Lumina, Type: Company\n",
      "Id: Anna, Type: Person\n",
      "\n",
      "Relationships:\n",
      "Source: id='Lumina' type='Company', Target: id='EcoSupplies' type='Supplier', Type: SUPPLIES\n",
      "Source: id='EcoSupplies' type='Supplier', Target: id='Lumina' type='Company', Type: DELIVERS_TO\n",
      "\n",
      "Nodes:\n",
      "Id: EcoBag, Type: Product\n",
      "Id: South Warehouse, Type: Warehouse\n",
      "Id: North Warehouse, Type: Warehouse\n",
      "Id: Lumina, Type: Company\n",
      "Id: GreenBottle, Type: Product\n",
      "Id: Weather, Type: External Factor\n",
      "\n",
      "Relationships:\n",
      "Source: id='Lumina' type='Company', Target: id='North Warehouse' type='Warehouse', Type: MANAGES\n",
      "Source: id='Lumina' type='Company', Target: id='South Warehouse' type='Warehouse', Type: MANAGES\n",
      "Source: id='Lumina' type='Company', Target: id='EcoBag' type='Product', Type: SUPPLIES\n",
      "Source: id='Lumina' type='Company', Target: id='GreenBottle' type='Product', Type: SUPPLIES\n",
      "Source: id='North Warehouse' type='Warehouse', Target: id='EcoBag' type='Product', Type: STOCKS\n",
      "Source: id='North Warehouse' type='Warehouse', Target: id='GreenBottle' type='Product', Type: STOCKS\n",
      "Source: id='South Warehouse' type='Warehouse', Target: id='Weather' type='External Factor', Type: AFFECTED_BY\n",
      "\n",
      "Nodes:\n",
      "Id: Anna, Type: Person\n",
      "Id: products stockpiling, Type: Supply Chain\n",
      "Id: snowstorms, Type: Weather Condition\n",
      "Id: Downtown Store, Type: Store\n",
      "Id: Midwest Warehouse, Type: Warehouse\n",
      "Id: Carlos, Type: Person\n",
      "Id: stores in that region, Type: Region\n",
      "Id: Lumina, Type: Company\n",
      "\n",
      "Relationships:\n",
      "Source: id='Lumina' type='Company', Target: id='Midwest Warehouse' type='Warehouse', Type: LOCATED_AT\n",
      "Source: id='Midwest Warehouse' type='Warehouse', Target: id='snowstorms' type='Weather Condition', Type: AFFECTED_BY\n",
      "Source: id='Midwest Warehouse' type='Warehouse', Target: id='stores in that region' type='Region', Type: DELIVERS_TO\n",
      "Source: id='Anna' type='Person', Target: id='products stockpiling' type='Supply Chain', Type: MANAGES\n",
      "Source: id='Lumina' type='Company', Target: id='Downtown Store' type='Store', Type: LOCATED_AT\n",
      "Source: id='Carlos' type='Person', Target: id='Downtown Store' type='Store', Type: MANAGES\n",
      "\n",
      "Nodes:\n",
      "Id: SolarLantern, Type: Product\n",
      "Id: EcoBag, Type: Product\n",
      "Id: Christmas, Type: Holiday\n",
      "Id: Lumina's sales trends, Type: Sales Trend\n",
      "Id: Anna, Type: Person\n",
      "Id: West Coast Warehouse, Type: Warehouse\n",
      "Id: Thanksgiving, Type: Holiday\n",
      "Id: Lumina, Type: Company\n",
      "\n",
      "Relationships:\n",
      "Source: id='EcoBag' type='Product', Target: id='West Coast Warehouse' type='Warehouse', Type: STOCKS\n",
      "Source: id='SolarLantern' type='Product', Target: id='West Coast Warehouse' type='Warehouse', Type: STOCKS\n",
      "Source: id='Anna' type='Person', Target: id='Lumina' type='Company', Type: MANAGES\n",
      "Source: id='EcoBag' type='Product', Target: id='West Coast Warehouse' type='Warehouse', Type: DELIVERS_TO\n",
      "Source: id='SolarLantern' type='Product', Target: id='West Coast Warehouse' type='Warehouse', Type: DELIVERS_TO\n",
      "Source: id='Christmas' type='Holiday', Target: id=\"Lumina's sales trends\" type='Sales Trend', Type: AFFECTS\n",
      "Source: id='Thanksgiving' type='Holiday', Target: id=\"Lumina's sales trends\" type='Sales Trend', Type: AFFECTS\n",
      "\n",
      "Nodes:\n",
      "Id: hurricanes, Type: External Factor\n",
      "Id: SolarLantern, Type: Product\n",
      "Id: Lumina, Type: Company\n",
      "Id: double, Type: Product\n",
      "Id: Central Warehouse, Type: Warehouse\n",
      "Id: East Coast Region, Type: Region\n",
      "Id: Downtown Store, Type: Store\n",
      "Id: Carlos, Type: Person\n",
      "\n",
      "Relationships:\n",
      "Source: id='double' type='Product', Target: id='Downtown Store' type='Store', Type: LOCATED_AT\n",
      "Source: id='Carlos' type='Person', Target: id='Central Warehouse' type='Warehouse', Type: MANAGES\n",
      "Source: id='Central Warehouse' type='Warehouse', Target: id='East Coast Region' type='Region', Type: LOCATED_AT\n",
      "Source: id='Central Warehouse' type='Warehouse', Target: id='hurricanes' type='External Factor', Type: AFFECTED_BY\n",
      "\n",
      "Nodes:\n",
      "Id: sales and inventory turnover, Type: Sales Trend\n",
      "Id: Southeast Region, Type: Region\n",
      "Id: Uptown Store, Type: Store\n",
      "Id: North Warehouse, Type: Warehouse\n",
      "Id: Lumina, Type: Company\n",
      "Id: new stores, Type: Store\n",
      "\n",
      "Relationships:\n",
      "Source: id='Lumina' type='Company', Target: id='North Warehouse' type='Warehouse', Type: MANAGES\n",
      "Source: id='Lumina' type='Company', Target: id='Uptown Store' type='Store', Type: LOCATED_AT\n",
      "Source: id='Lumina' type='Company', Target: id='sales and inventory turnover' type='Sales Trend', Type: INFLUENCES\n",
      "\n",
      "Nodes:\n",
      "Id: Southeast Region, Type: Region\n",
      "Id: EcoBag, Type: Product\n",
      "Id: Company, Type: Company\n",
      "Id: GreenTech, Type: Supplier\n",
      "Id: Atlanta, Type: Location\n",
      "Id: Lumina, Type: Company\n",
      "Id: GreenBottle, Type: Product\n",
      "\n",
      "Relationships:\n",
      "Source: id='Southeast Region' type='Region', Target: id='Atlanta' type='Location', Type: LOCATED_AT\n",
      "Source: id='Lumina' type='Company', Target: id='GreenTech' type='Supplier', Type: HAS_CONTRACT_WITH\n",
      "\n",
      "Nodes:\n",
      "Id: SolarLantern, Type: Product\n",
      "Id: external factors, Type: External Factor\n",
      "Id: stocking products, Type: Supply Chain\n",
      "Id: EcoBag, Type: Product\n",
      "Id: overall sales trends, Type: Sales Trend\n",
      "Id: Anna, Type: Person\n",
      "Id: holiday season, Type: Holiday\n",
      "Id: Lumina, Type: Company\n",
      "\n",
      "Relationships:\n",
      "Source: id='Lumina' type='Company', Target: id='stocking products' type='Supply Chain', Type: MANAGES\n",
      "Source: id='holiday season' type='Holiday', Target: id='overall sales trends' type='Sales Trend', Type: AFFECTS\n"
     ]
    }
   ],
   "source": [
    "# Print all the nodes and relationships of the generated graph \n",
    "for graph_doc in graph_documents:\n",
    "    print(\"\\nNodes:\")\n",
    "    for node in graph_doc.nodes:\n",
    "        print(f\"Id: {node.id}, Type: {node.type}\")\n",
    "    print(\"\\nRelationships:\")\n",
    "    for relationship in graph_doc.relationships:\n",
    "        print(f\"Source: {relationship.source}, Target: {relationship.target}, Type: {relationship.type}\")\n"
   ]
  },
  {
   "cell_type": "code",
   "execution_count": 11,
   "id": "4b4ac9e8-911f-4af3-a670-be8c03f93774",
   "metadata": {},
   "outputs": [],
   "source": [
    "# # Use this Cypher Query for visualizing the graph \n",
    "# default_cypher = \"MATCH (s)-[r:!MENTIONS]->(t) RETURN s,r,t LIMIT 20\""
   ]
  },
  {
   "cell_type": "code",
   "execution_count": 12,
   "id": "f5e7d918-14fe-42a6-a31a-b564b4ce1fef",
   "metadata": {},
   "outputs": [
    {
     "name": "stdout",
     "output_type": "stream",
     "text": [
      "Documents successfully added to Graph DataBase\n"
     ]
    }
   ],
   "source": [
    "# Store to neo4j\n",
    "# This method constructs nodes and relationships in the graph based on the provided GraphDocument objects.\n",
    "# https://api.python.langchain.com/en/latest/graphs/langchain_community.graphs.neo4j_graph.Neo4jGraph.html#langchain_community.graphs.neo4j_graph.Neo4jGraph.add_graph_documents\n",
    "graph.add_graph_documents(\n",
    "    graph_documents,\n",
    "    baseEntityLabel=True,\n",
    "    include_source=True\n",
    ")\n",
    "print(\"Documents successfully added to Graph DataBase\")\n"
   ]
  },
  {
   "cell_type": "code",
   "execution_count": 13,
   "id": "8868cf4b-da10-4094-8be4-96412f602495",
   "metadata": {},
   "outputs": [],
   "source": [
    "# Instantiate the Ollama embedding model and generate embeddings using the locally running LLaMA3.1-8b\n",
    "# https://python.langchain.com/api_reference/ollama/embeddings/langchain_ollama.embeddings.OllamaEmbeddings.html \n",
    "local_embeddings = OllamaEmbeddings(model=\"llama3.1:8b\")\n"
   ]
  },
  {
   "cell_type": "code",
   "execution_count": 14,
   "id": "61c77150-7eb1-4941-b161-1b2b2a9b0532",
   "metadata": {},
   "outputs": [],
   "source": [
    "# Initialize and return a Neo4jVector instance from existing graph.\n",
    "# This method initializes and returns a Neo4jVector instance using the provided parameters and the existing graph. \n",
    "# It validates the existence of the indices and creates new ones if they don’t exist.\n",
    "# https://api.python.langchain.com/en/latest/vectorstores/langchain_community.vectorstores.neo4j_vector.Neo4jVector.html#langchain_community.vectorstores.neo4j_vector.Neo4jVector.from_existing_graph\n",
    "vector_index = Neo4jVector.from_existing_graph(\n",
    "    embedding=local_embeddings,\n",
    "    search_type=\"hybrid\",\n",
    "    node_label=\"Document\",\n",
    "    text_node_properties=[\"text\"],\n",
    "    embedding_node_property=\"embedding\"\n",
    ")\n"
   ]
  },
  {
   "cell_type": "code",
   "execution_count": 15,
   "id": "c008e127-fbe1-4838-b641-45de8ff52aac",
   "metadata": {},
   "outputs": [],
   "source": [
    "# Creating custom prompt template\n",
    "# A prompt template consists of a string template.\n",
    "# It accepts a set of parameters that can be used to generate a prompt for a language model.\n",
    "\n",
    "template = \"\"\"Use the following pieces of context to answer the question at the end. \n",
    "If you don't know the answer, just say that you don't know, don't try to make up an answer. \n",
    "Use three sentences maximum and keep the answer as concise as possible. \n",
    "Always say \"Thanks for asking!\" at the end of the answer. \n",
    "\n",
    "{context}\n",
    "\n",
    "Question: {question}\n",
    "\n",
    "Helpful Answer:\"\"\"\n"
   ]
  },
  {
   "cell_type": "code",
   "execution_count": 16,
   "id": "70c7e1e6-db6c-4ee2-85ff-3db26a702d60",
   "metadata": {},
   "outputs": [],
   "source": [
    "# Create a PromptTemplate instance with the custom prompt template for the language model.\n",
    "# https://api.python.langchain.com/en/latest/prompts/langchain_core.prompts.prompt.PromptTemplate.html\n",
    "QA_CHAIN_PROMPT = PromptTemplate(input_variables=[\"context\", \"question\"], template=template)\n"
   ]
  },
  {
   "cell_type": "code",
   "execution_count": 17,
   "id": "3413ceab-d3c7-4aee-ab6e-95a6c893795f",
   "metadata": {},
   "outputs": [],
   "source": [
    "# Create a RetrievalQA Chain for question-answering against an index using the Neo4jVector as the retriever. \n",
    "# https://api.python.langchain.com/en/latest/chains/langchain.chains.retrieval_qa.base.RetrievalQA.html#\n",
    "# Todo: Replace it with create_retrieval_chain()\n",
    "qa_chain = RetrievalQA.from_chain_type(\n",
    "    llm,\n",
    "    retriever=vector_index.as_retriever(),\n",
    "    chain_type_kwargs={\"prompt\": QA_CHAIN_PROMPT}\n",
    ")\n"
   ]
  },
  {
   "cell_type": "code",
   "execution_count": 18,
   "id": "3c586a75-1f57-4a90-81d7-89d24a6803a4",
   "metadata": {},
   "outputs": [],
   "source": [
    "# Define the function for querying document details\n",
    "def query_document_details(query):\n",
    "    if query is None:\n",
    "        return \"Error: Query cannot be None\"\n",
    "    try:\n",
    "        result = qa_chain({\"query\": query})\n",
    "        return result[\"result\"]\n",
    "    except Exception as e:\n",
    "        return f\"Error: {str(e)}\"\n",
    "    "
   ]
  },
  {
   "cell_type": "code",
   "execution_count": 19,
   "id": "72461cf3-8e81-4f02-8297-5f471598cb8a",
   "metadata": {},
   "outputs": [],
   "source": [
    "# Create a Gradio interface\n",
    "# https://www.gradio.app/guides/the-interface-class\n",
    "interface = gr.Interface(\n",
    "    fn=query_document_details,        # Function to call\n",
    "    inputs=gr.Textbox(label=\"Enter your question\"),  # Input textbox as Gradio component to be used for the input\n",
    "    outputs=gr.Textbox(label=\"Answer\")   # Output textbox as Gradio component to be used for the output\n",
    ")\n"
   ]
  },
  {
   "cell_type": "code",
   "execution_count": 20,
   "id": "6faa3cf6-e87e-43a1-8413-1de8c01ad195",
   "metadata": {
    "scrolled": true
   },
   "outputs": [
    {
     "name": "stdout",
     "output_type": "stream",
     "text": [
      "Running on local URL:  http://127.0.0.1:7860\n",
      "\n",
      "To create a public link, set `share=True` in `launch()`.\n"
     ]
    },
    {
     "data": {
      "text/html": [
       "<div><iframe src=\"http://127.0.0.1:7860/\" width=\"100%\" height=\"500\" allow=\"autoplay; camera; microphone; clipboard-read; clipboard-write;\" frameborder=\"0\" allowfullscreen></iframe></div>"
      ],
      "text/plain": [
       "<IPython.core.display.HTML object>"
      ]
     },
     "metadata": {},
     "output_type": "display_data"
    },
    {
     "data": {
      "text/plain": []
     },
     "execution_count": 20,
     "metadata": {},
     "output_type": "execute_result"
    }
   ],
   "source": [
    "# Launch the interface\n",
    "interface.launch()\n"
   ]
  },
  {
   "cell_type": "code",
   "execution_count": null,
   "id": "c64064df-1332-4891-8b6b-33206b5b4ee9",
   "metadata": {},
   "outputs": [],
   "source": []
  }
 ],
 "metadata": {
  "kernelspec": {
   "display_name": "Python 3 (ipykernel)",
   "language": "python",
   "name": "python3"
  },
  "language_info": {
   "codemirror_mode": {
    "name": "ipython",
    "version": 3
   },
   "file_extension": ".py",
   "mimetype": "text/x-python",
   "name": "python",
   "nbconvert_exporter": "python",
   "pygments_lexer": "ipython3",
   "version": "3.11.7"
  }
 },
 "nbformat": 4,
 "nbformat_minor": 5
}
