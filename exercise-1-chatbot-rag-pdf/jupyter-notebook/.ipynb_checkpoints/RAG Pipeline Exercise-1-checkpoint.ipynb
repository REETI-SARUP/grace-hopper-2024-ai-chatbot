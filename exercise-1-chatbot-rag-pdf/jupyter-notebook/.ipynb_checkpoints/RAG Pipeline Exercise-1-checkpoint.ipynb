{
 "cells": [
  {
   "cell_type": "code",
   "execution_count": 1,
   "id": "5fb2f272-95c1-4ac2-ab37-a093f40c3d1f",
   "metadata": {
    "scrolled": true
   },
   "outputs": [],
   "source": [
    "# !pip3 install langchain langchain_community streamlit streamlit_chat chromadb pypdf fastembed gradio"
   ]
  },
  {
   "cell_type": "code",
   "execution_count": 2,
   "id": "3a5efbff-4113-458b-8f56-c985834d39ca",
   "metadata": {},
   "outputs": [],
   "source": [
    "from langchain_community.vectorstores import Chroma\n",
    "from langchain_community.chat_models import ChatOllama\n",
    "from langchain_community.embeddings import FastEmbedEmbeddings\n",
    "from langchain.schema.output_parser import StrOutputParser\n",
    "from langchain_community.document_loaders import PyPDFLoader\n",
    "from langchain.text_splitter import RecursiveCharacterTextSplitter\n",
    "from langchain.schema.runnable import RunnablePassthrough\n",
    "from langchain.prompts import PromptTemplate\n",
    "from langchain_community.vectorstores.utils import filter_complex_metadata\n",
    "import os\n",
    "import tempfile\n",
    "import gradio as gr\n"
   ]
  },
  {
   "cell_type": "code",
   "execution_count": 3,
   "id": "213dfb2d-9ae0-4eb4-97fa-bfecb823115b",
   "metadata": {},
   "outputs": [],
   "source": [
    "class ChatDocument:\n",
    "    vector_store = None\n",
    "    retriever = None\n",
    "    chain = None\n",
    "\n",
    "    def __init__(self):\n",
    "\n",
    "        ## Instantiating our model object with relevant params for Chat Completion. \n",
    "        ## Running Mistral LLM locally using Ollama.\n",
    "        ## https://api.python.langchain.com/en/latest/chat_models/langchain_community.chat_models.ollama.ChatOllama.html\n",
    "        self.model = ChatOllama(model=\"mistral\")\n",
    "\n",
    "        ## Different text splitters available - https://python.langchain.com/v0.1/docs/modules/data_connection/document_transformers/\n",
    "        self.text_splitter = RecursiveCharacterTextSplitter(chunk_size=200, chunk_overlap=20)\n",
    "\n",
    "        ## Prompt template for a language model.\n",
    "        ## It consists of a string template, which can contain system prompt, human prompt and context.\n",
    "        ## https://api.python.langchain.com/en/latest/prompts/langchain_core.prompts.prompt.PromptTemplate.html\n",
    "        self.prompt_from_template = PromptTemplate.from_template(\n",
    "            \"\"\"\n",
    "            <s> [INST] You are an assistant for question-answering tasks. Use the following pieces of retrieved context \n",
    "            to answer the question. If you don't know the answer, just say that you don't know. Answer only as per what is mentioned in the document. \n",
    "            Use three sentences\n",
    "             maximum and keep the answer concise. [/INST] </s> \n",
    "            [INST] Question: {question} \n",
    "            Context: {context} \n",
    "            Answer: [/INST]\n",
    "            \"\"\"\n",
    "        )\n",
    "\n",
    "    ## processDocument() method called from chat_ui.py\n",
    "    def processDocument(self, pdf_file_path: str):\n",
    "        ## Accepts a filepath\n",
    "        docs = PyPDFLoader(file_path=pdf_file_path).load()\n",
    "\n",
    "        ## Splits the document into smaller chunks\n",
    "        ## https://python.langchain.com/v0.1/docs/modules/data_connection/document_transformers/\n",
    "        document_chunks = self.text_splitter.split_documents(docs)\n",
    "\n",
    "        ## Filter out any complex data not supported by Chroma DB, before we pass it for vertorization\n",
    "        document_chunks = filter_complex_metadata(document_chunks)\n",
    "        print(document_chunks)\n",
    "\n",
    "        ## Vectorize the document chunks using FastEmeddings and store in Chroma\n",
    "        chroma_vector_store = Chroma.from_documents(documents=document_chunks, embedding=FastEmbedEmbeddings())\n",
    "\n",
    "        ## Langchain retrievers: https://python.langchain.com/v0.1/docs/modules/data_connection/retrievers/vectorstore/\n",
    "        ## Configures the Vector store Retriever class for the type of search\n",
    "        self.retriever = chroma_vector_store.as_retriever(\n",
    "            search_type=\"similarity_score_threshold\",\n",
    "            search_kwargs={\n",
    "                \"k\": 10, ## return top 5 chunks\n",
    "                \"score_threshold\": 0.50, ## with scores above this value\n",
    "            },\n",
    "        )\n",
    "\n",
    "        ## Construct langchain conversion chain using LCEL (LangChain Expression Language)\n",
    "        ## https://python.langchain.com/v0.1/docs/expression_language/get_started/\n",
    "        ## Build a chain using prompt + model + output parser using LCEL\n",
    "        self.chain = ({\"context\": self.retriever, \"question\": RunnablePassthrough()}\n",
    "                      | self.prompt_from_template\n",
    "                      | self.model\n",
    "                      | StrOutputParser())\n",
    "\n",
    "    def chatQuestion(self, query: str):\n",
    "        if not self.chain:\n",
    "            return \"Please, add a PDF document first.\"\n",
    "\n",
    "        print(query)\n",
    "\n",
    "        return self.chain.invoke(query)\n",
    "\n",
    "    def clear(self):\n",
    "        self.vector_store = None\n",
    "        self.retriever = None\n",
    "        self.chain = None"
   ]
  },
  {
   "cell_type": "code",
   "execution_count": 4,
   "id": "0f17278e-7e7e-42df-b291-6081558939dd",
   "metadata": {},
   "outputs": [
    {
     "name": "stdout",
     "output_type": "stream",
     "text": [
      "Running on local URL:  http://127.0.0.1:7862\n",
      "\n",
      "To create a public link, set `share=True` in `launch()`.\n"
     ]
    },
    {
     "data": {
      "text/html": [
       "<div><iframe src=\"http://127.0.0.1:7862/\" width=\"100%\" height=\"500\" allow=\"autoplay; camera; microphone; clipboard-read; clipboard-write;\" frameborder=\"0\" allowfullscreen></iframe></div>"
      ],
      "text/plain": [
       "<IPython.core.display.HTML object>"
      ]
     },
     "metadata": {},
     "output_type": "display_data"
    },
    {
     "data": {
      "text/plain": []
     },
     "execution_count": 4,
     "metadata": {},
     "output_type": "execute_result"
    }
   ],
   "source": [
    "# Instantiate the ChatDocument class\n",
    "chat_doc = ChatDocument()\n",
    "\n",
    "# Define the Gradio interface functions\n",
    "def process_document(file):\n",
    "    if file is None:\n",
    "        return \"Please upload a PDF file.\"\n",
    "    file_path = file.name\n",
    "    chat_doc.processDocument(file_path)\n",
    "    return \"Document processed successfully.\"\n",
    "\n",
    "def chat_question(query):\n",
    "    return chat_doc.chatQuestion(query)\n",
    "\n",
    "# Create the Gradio interface\n",
    "with gr.Blocks() as demo:\n",
    "    with gr.Row():\n",
    "        with gr.Column():\n",
    "            pdf_input = gr.File(label=\"Upload PDF\", type=\"filepath\")\n",
    "            process_button = gr.Button(\"Process Document\")\n",
    "            process_output = gr.Textbox(label=\"Processing Output\")\n",
    "        with gr.Column():\n",
    "            query_input = gr.Textbox(label=\"Enter your question\")\n",
    "            query_button = gr.Button(\"Ask Question\")\n",
    "            query_output = gr.Textbox(label=\"Answer\")\n",
    "\n",
    "    process_button.click(process_document, inputs=pdf_input, outputs=process_output)\n",
    "    query_button.click(chat_question, inputs=query_input, outputs=query_output)\n",
    "\n",
    "# Launch the Gradio interface\n",
    "demo.launch()\n"
   ]
  },
  {
   "cell_type": "code",
   "execution_count": null,
   "id": "035258cd-6fdc-4099-9c4b-bdb44860eaeb",
   "metadata": {},
   "outputs": [],
   "source": []
  }
 ],
 "metadata": {
  "kernelspec": {
   "display_name": "Python 3 (ipykernel)",
   "language": "python",
   "name": "python3"
  },
  "language_info": {
   "codemirror_mode": {
    "name": "ipython",
    "version": 3
   },
   "file_extension": ".py",
   "mimetype": "text/x-python",
   "name": "python",
   "nbconvert_exporter": "python",
   "pygments_lexer": "ipython3",
   "version": "3.11.7"
  }
 },
 "nbformat": 4,
 "nbformat_minor": 5
}
