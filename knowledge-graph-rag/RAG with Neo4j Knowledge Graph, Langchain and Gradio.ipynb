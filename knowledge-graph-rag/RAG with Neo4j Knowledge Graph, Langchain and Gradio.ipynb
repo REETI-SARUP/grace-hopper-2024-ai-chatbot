{
 "cells": [
  {
   "cell_type": "code",
   "execution_count": 22,
   "id": "a9e11268-87f2-4461-a3a7-95a3a7a2cdea",
   "metadata": {
    "scrolled": true
   },
   "outputs": [
    {
     "name": "stderr",
     "output_type": "stream",
     "text": [
      "huggingface/tokenizers: The current process just got forked, after parallelism has already been used. Disabling parallelism to avoid deadlocks...\n",
      "To disable this warning, you can either:\n",
      "\t- Avoid using `tokenizers` before the fork if possible\n",
      "\t- Explicitly set the environment variable TOKENIZERS_PARALLELISM=(true | false)\n"
     ]
    },
    {
     "name": "stdout",
     "output_type": "stream",
     "text": [
      "Requirement already satisfied: langchain_huggingface in /Users/rsarup/.pyenv/versions/3.11.7/lib/python3.11/site-packages (0.0.3)\n",
      "Requirement already satisfied: huggingface-hub>=0.23.0 in /Users/rsarup/.pyenv/versions/3.11.7/lib/python3.11/site-packages (from langchain_huggingface) (0.23.4)\n",
      "Requirement already satisfied: langchain-core<0.3,>=0.1.52 in /Users/rsarup/.pyenv/versions/3.11.7/lib/python3.11/site-packages (from langchain_huggingface) (0.2.27)\n",
      "Requirement already satisfied: sentence-transformers>=2.6.0 in /Users/rsarup/.pyenv/versions/3.11.7/lib/python3.11/site-packages (from langchain_huggingface) (3.0.1)\n",
      "Requirement already satisfied: tokenizers>=0.19.1 in /Users/rsarup/.pyenv/versions/3.11.7/lib/python3.11/site-packages (from langchain_huggingface) (0.19.1)\n",
      "Requirement already satisfied: transformers>=4.39.0 in /Users/rsarup/.pyenv/versions/3.11.7/lib/python3.11/site-packages (from langchain_huggingface) (4.42.3)\n",
      "Requirement already satisfied: filelock in /Users/rsarup/.pyenv/versions/3.11.7/lib/python3.11/site-packages (from huggingface-hub>=0.23.0->langchain_huggingface) (3.13.1)\n",
      "Requirement already satisfied: fsspec>=2023.5.0 in /Users/rsarup/.pyenv/versions/3.11.7/lib/python3.11/site-packages (from huggingface-hub>=0.23.0->langchain_huggingface) (2024.2.0)\n",
      "Requirement already satisfied: packaging>=20.9 in /Users/rsarup/.pyenv/versions/3.11.7/lib/python3.11/site-packages (from huggingface-hub>=0.23.0->langchain_huggingface) (23.2)\n",
      "Requirement already satisfied: pyyaml>=5.1 in /Users/rsarup/.pyenv/versions/3.11.7/lib/python3.11/site-packages (from huggingface-hub>=0.23.0->langchain_huggingface) (6.0.1)\n",
      "Requirement already satisfied: requests in /Users/rsarup/.pyenv/versions/3.11.7/lib/python3.11/site-packages (from huggingface-hub>=0.23.0->langchain_huggingface) (2.32.3)\n",
      "Requirement already satisfied: tqdm>=4.42.1 in /Users/rsarup/.pyenv/versions/3.11.7/lib/python3.11/site-packages (from huggingface-hub>=0.23.0->langchain_huggingface) (4.66.5)\n",
      "Requirement already satisfied: typing-extensions>=3.7.4.3 in /Users/rsarup/.pyenv/versions/3.11.7/lib/python3.11/site-packages (from huggingface-hub>=0.23.0->langchain_huggingface) (4.9.0)\n",
      "Requirement already satisfied: jsonpatch<2.0,>=1.33 in /Users/rsarup/.pyenv/versions/3.11.7/lib/python3.11/site-packages (from langchain-core<0.3,>=0.1.52->langchain_huggingface) (1.33)\n",
      "Requirement already satisfied: langsmith<0.2.0,>=0.1.75 in /Users/rsarup/.pyenv/versions/3.11.7/lib/python3.11/site-packages (from langchain-core<0.3,>=0.1.52->langchain_huggingface) (0.1.96)\n",
      "Requirement already satisfied: pydantic<3,>=1 in /Users/rsarup/.pyenv/versions/3.11.7/lib/python3.11/site-packages (from langchain-core<0.3,>=0.1.52->langchain_huggingface) (2.6.1)\n",
      "Requirement already satisfied: tenacity!=8.4.0,<9.0.0,>=8.1.0 in /Users/rsarup/.pyenv/versions/3.11.7/lib/python3.11/site-packages (from langchain-core<0.3,>=0.1.52->langchain_huggingface) (8.2.3)\n",
      "Requirement already satisfied: torch>=1.11.0 in /Users/rsarup/.pyenv/versions/3.11.7/lib/python3.11/site-packages (from sentence-transformers>=2.6.0->langchain_huggingface) (2.4.0)\n",
      "Requirement already satisfied: numpy in /Users/rsarup/.pyenv/versions/3.11.7/lib/python3.11/site-packages (from sentence-transformers>=2.6.0->langchain_huggingface) (1.26.4)\n",
      "Requirement already satisfied: scikit-learn in /Users/rsarup/.pyenv/versions/3.11.7/lib/python3.11/site-packages (from sentence-transformers>=2.6.0->langchain_huggingface) (1.5.0)\n",
      "Requirement already satisfied: scipy in /Users/rsarup/.pyenv/versions/3.11.7/lib/python3.11/site-packages (from sentence-transformers>=2.6.0->langchain_huggingface) (1.12.0)\n",
      "Requirement already satisfied: Pillow in /Users/rsarup/.pyenv/versions/3.11.7/lib/python3.11/site-packages (from sentence-transformers>=2.6.0->langchain_huggingface) (10.3.0)\n",
      "Requirement already satisfied: regex!=2019.12.17 in /Users/rsarup/.pyenv/versions/3.11.7/lib/python3.11/site-packages (from transformers>=4.39.0->langchain_huggingface) (2024.5.15)\n",
      "Requirement already satisfied: safetensors>=0.4.1 in /Users/rsarup/.pyenv/versions/3.11.7/lib/python3.11/site-packages (from transformers>=4.39.0->langchain_huggingface) (0.4.3)\n",
      "Requirement already satisfied: jsonpointer>=1.9 in /Users/rsarup/.pyenv/versions/3.11.7/lib/python3.11/site-packages (from jsonpatch<2.0,>=1.33->langchain-core<0.3,>=0.1.52->langchain_huggingface) (2.4)\n",
      "Requirement already satisfied: orjson<4.0.0,>=3.9.14 in /Users/rsarup/.pyenv/versions/3.11.7/lib/python3.11/site-packages (from langsmith<0.2.0,>=0.1.75->langchain-core<0.3,>=0.1.52->langchain_huggingface) (3.10.6)\n",
      "Requirement already satisfied: annotated-types>=0.4.0 in /Users/rsarup/.pyenv/versions/3.11.7/lib/python3.11/site-packages (from pydantic<3,>=1->langchain-core<0.3,>=0.1.52->langchain_huggingface) (0.6.0)\n",
      "Requirement already satisfied: pydantic-core==2.16.2 in /Users/rsarup/.pyenv/versions/3.11.7/lib/python3.11/site-packages (from pydantic<3,>=1->langchain-core<0.3,>=0.1.52->langchain_huggingface) (2.16.2)\n",
      "Requirement already satisfied: charset-normalizer<4,>=2 in /Users/rsarup/.pyenv/versions/3.11.7/lib/python3.11/site-packages (from requests->huggingface-hub>=0.23.0->langchain_huggingface) (3.3.2)\n",
      "Requirement already satisfied: idna<4,>=2.5 in /Users/rsarup/.pyenv/versions/3.11.7/lib/python3.11/site-packages (from requests->huggingface-hub>=0.23.0->langchain_huggingface) (3.6)\n",
      "Requirement already satisfied: urllib3<3,>=1.21.1 in /Users/rsarup/.pyenv/versions/3.11.7/lib/python3.11/site-packages (from requests->huggingface-hub>=0.23.0->langchain_huggingface) (2.2.0)\n",
      "Requirement already satisfied: certifi>=2017.4.17 in /Users/rsarup/.pyenv/versions/3.11.7/lib/python3.11/site-packages (from requests->huggingface-hub>=0.23.0->langchain_huggingface) (2024.2.2)\n",
      "Requirement already satisfied: sympy in /Users/rsarup/.pyenv/versions/3.11.7/lib/python3.11/site-packages (from torch>=1.11.0->sentence-transformers>=2.6.0->langchain_huggingface) (1.12)\n",
      "Requirement already satisfied: networkx in /Users/rsarup/.pyenv/versions/3.11.7/lib/python3.11/site-packages (from torch>=1.11.0->sentence-transformers>=2.6.0->langchain_huggingface) (3.3)\n",
      "Requirement already satisfied: jinja2 in /Users/rsarup/.pyenv/versions/3.11.7/lib/python3.11/site-packages (from torch>=1.11.0->sentence-transformers>=2.6.0->langchain_huggingface) (3.1.3)\n",
      "Requirement already satisfied: joblib>=1.2.0 in /Users/rsarup/.pyenv/versions/3.11.7/lib/python3.11/site-packages (from scikit-learn->sentence-transformers>=2.6.0->langchain_huggingface) (1.4.2)\n",
      "Requirement already satisfied: threadpoolctl>=3.1.0 in /Users/rsarup/.pyenv/versions/3.11.7/lib/python3.11/site-packages (from scikit-learn->sentence-transformers>=2.6.0->langchain_huggingface) (3.5.0)\n",
      "Requirement already satisfied: MarkupSafe>=2.0 in /Users/rsarup/.pyenv/versions/3.11.7/lib/python3.11/site-packages (from jinja2->torch>=1.11.0->sentence-transformers>=2.6.0->langchain_huggingface) (2.1.5)\n",
      "Requirement already satisfied: mpmath>=0.19 in /Users/rsarup/.pyenv/versions/3.11.7/lib/python3.11/site-packages (from sympy->torch>=1.11.0->sentence-transformers>=2.6.0->langchain_huggingface) (1.3.0)\n"
     ]
    },
    {
     "name": "stderr",
     "output_type": "stream",
     "text": [
      "huggingface/tokenizers: The current process just got forked, after parallelism has already been used. Disabling parallelism to avoid deadlocks...\n",
      "To disable this warning, you can either:\n",
      "\t- Avoid using `tokenizers` before the fork if possible\n",
      "\t- Explicitly set the environment variable TOKENIZERS_PARALLELISM=(true | false)\n"
     ]
    },
    {
     "name": "stdout",
     "output_type": "stream",
     "text": [
      "Requirement already satisfied: yfiles_jupyter_graphs in /Users/rsarup/.pyenv/versions/3.11.7/lib/python3.11/site-packages (1.8.1)\n",
      "Requirement already satisfied: ipywidgets>=8.0.0 in /Users/rsarup/.pyenv/versions/3.11.7/lib/python3.11/site-packages (from yfiles_jupyter_graphs) (8.1.2)\n",
      "Requirement already satisfied: comm>=0.1.3 in /Users/rsarup/.pyenv/versions/3.11.7/lib/python3.11/site-packages (from ipywidgets>=8.0.0->yfiles_jupyter_graphs) (0.2.1)\n",
      "Requirement already satisfied: ipython>=6.1.0 in /Users/rsarup/.pyenv/versions/3.11.7/lib/python3.11/site-packages (from ipywidgets>=8.0.0->yfiles_jupyter_graphs) (8.21.0)\n",
      "Requirement already satisfied: traitlets>=4.3.1 in /Users/rsarup/.pyenv/versions/3.11.7/lib/python3.11/site-packages (from ipywidgets>=8.0.0->yfiles_jupyter_graphs) (5.14.1)\n",
      "Requirement already satisfied: widgetsnbextension~=4.0.10 in /Users/rsarup/.pyenv/versions/3.11.7/lib/python3.11/site-packages (from ipywidgets>=8.0.0->yfiles_jupyter_graphs) (4.0.10)\n",
      "Requirement already satisfied: jupyterlab-widgets~=3.0.10 in /Users/rsarup/.pyenv/versions/3.11.7/lib/python3.11/site-packages (from ipywidgets>=8.0.0->yfiles_jupyter_graphs) (3.0.10)\n",
      "Requirement already satisfied: decorator in /Users/rsarup/.pyenv/versions/3.11.7/lib/python3.11/site-packages (from ipython>=6.1.0->ipywidgets>=8.0.0->yfiles_jupyter_graphs) (5.1.1)\n",
      "Requirement already satisfied: jedi>=0.16 in /Users/rsarup/.pyenv/versions/3.11.7/lib/python3.11/site-packages (from ipython>=6.1.0->ipywidgets>=8.0.0->yfiles_jupyter_graphs) (0.19.1)\n",
      "Requirement already satisfied: matplotlib-inline in /Users/rsarup/.pyenv/versions/3.11.7/lib/python3.11/site-packages (from ipython>=6.1.0->ipywidgets>=8.0.0->yfiles_jupyter_graphs) (0.1.6)\n",
      "Requirement already satisfied: prompt-toolkit<3.1.0,>=3.0.41 in /Users/rsarup/.pyenv/versions/3.11.7/lib/python3.11/site-packages (from ipython>=6.1.0->ipywidgets>=8.0.0->yfiles_jupyter_graphs) (3.0.43)\n",
      "Requirement already satisfied: pygments>=2.4.0 in /Users/rsarup/.pyenv/versions/3.11.7/lib/python3.11/site-packages (from ipython>=6.1.0->ipywidgets>=8.0.0->yfiles_jupyter_graphs) (2.17.2)\n",
      "Requirement already satisfied: stack-data in /Users/rsarup/.pyenv/versions/3.11.7/lib/python3.11/site-packages (from ipython>=6.1.0->ipywidgets>=8.0.0->yfiles_jupyter_graphs) (0.6.3)\n",
      "Requirement already satisfied: pexpect>4.3 in /Users/rsarup/.pyenv/versions/3.11.7/lib/python3.11/site-packages (from ipython>=6.1.0->ipywidgets>=8.0.0->yfiles_jupyter_graphs) (4.9.0)\n",
      "Requirement already satisfied: parso<0.9.0,>=0.8.3 in /Users/rsarup/.pyenv/versions/3.11.7/lib/python3.11/site-packages (from jedi>=0.16->ipython>=6.1.0->ipywidgets>=8.0.0->yfiles_jupyter_graphs) (0.8.3)\n",
      "Requirement already satisfied: ptyprocess>=0.5 in /Users/rsarup/.pyenv/versions/3.11.7/lib/python3.11/site-packages (from pexpect>4.3->ipython>=6.1.0->ipywidgets>=8.0.0->yfiles_jupyter_graphs) (0.7.0)\n",
      "Requirement already satisfied: wcwidth in /Users/rsarup/.pyenv/versions/3.11.7/lib/python3.11/site-packages (from prompt-toolkit<3.1.0,>=3.0.41->ipython>=6.1.0->ipywidgets>=8.0.0->yfiles_jupyter_graphs) (0.2.13)\n",
      "Requirement already satisfied: executing>=1.2.0 in /Users/rsarup/.pyenv/versions/3.11.7/lib/python3.11/site-packages (from stack-data->ipython>=6.1.0->ipywidgets>=8.0.0->yfiles_jupyter_graphs) (2.0.1)\n",
      "Requirement already satisfied: asttokens>=2.1.0 in /Users/rsarup/.pyenv/versions/3.11.7/lib/python3.11/site-packages (from stack-data->ipython>=6.1.0->ipywidgets>=8.0.0->yfiles_jupyter_graphs) (2.4.1)\n",
      "Requirement already satisfied: pure-eval in /Users/rsarup/.pyenv/versions/3.11.7/lib/python3.11/site-packages (from stack-data->ipython>=6.1.0->ipywidgets>=8.0.0->yfiles_jupyter_graphs) (0.2.2)\n",
      "Requirement already satisfied: six>=1.12.0 in /Users/rsarup/.pyenv/versions/3.11.7/lib/python3.11/site-packages (from asttokens>=2.1.0->stack-data->ipython>=6.1.0->ipywidgets>=8.0.0->yfiles_jupyter_graphs) (1.16.0)\n"
     ]
    },
    {
     "name": "stderr",
     "output_type": "stream",
     "text": [
      "huggingface/tokenizers: The current process just got forked, after parallelism has already been used. Disabling parallelism to avoid deadlocks...\n",
      "To disable this warning, you can either:\n",
      "\t- Avoid using `tokenizers` before the fork if possible\n",
      "\t- Explicitly set the environment variable TOKENIZERS_PARALLELISM=(true | false)\n"
     ]
    },
    {
     "name": "stdout",
     "output_type": "stream",
     "text": [
      "Requirement already satisfied: neo4j in /Users/rsarup/.pyenv/versions/3.11.7/lib/python3.11/site-packages (5.23.0)\n",
      "Requirement already satisfied: pytz in /Users/rsarup/.pyenv/versions/3.11.7/lib/python3.11/site-packages (from neo4j) (2024.1)\n"
     ]
    },
    {
     "name": "stderr",
     "output_type": "stream",
     "text": [
      "huggingface/tokenizers: The current process just got forked, after parallelism has already been used. Disabling parallelism to avoid deadlocks...\n",
      "To disable this warning, you can either:\n",
      "\t- Avoid using `tokenizers` before the fork if possible\n",
      "\t- Explicitly set the environment variable TOKENIZERS_PARALLELISM=(true | false)\n"
     ]
    },
    {
     "name": "stdout",
     "output_type": "stream",
     "text": [
      "Requirement already satisfied: langchain_experimental in /Users/rsarup/.pyenv/versions/3.11.7/lib/python3.11/site-packages (0.0.64)\n",
      "Requirement already satisfied: langchain-community<0.3.0,>=0.2.10 in /Users/rsarup/.pyenv/versions/3.11.7/lib/python3.11/site-packages (from langchain_experimental) (0.2.11)\n",
      "Requirement already satisfied: langchain-core<0.3.0,>=0.2.27 in /Users/rsarup/.pyenv/versions/3.11.7/lib/python3.11/site-packages (from langchain_experimental) (0.2.27)\n",
      "Requirement already satisfied: PyYAML>=5.3 in /Users/rsarup/.pyenv/versions/3.11.7/lib/python3.11/site-packages (from langchain-community<0.3.0,>=0.2.10->langchain_experimental) (6.0.1)\n",
      "Requirement already satisfied: SQLAlchemy<3,>=1.4 in /Users/rsarup/.pyenv/versions/3.11.7/lib/python3.11/site-packages (from langchain-community<0.3.0,>=0.2.10->langchain_experimental) (2.0.27)\n",
      "Requirement already satisfied: aiohttp<4.0.0,>=3.8.3 in /Users/rsarup/.pyenv/versions/3.11.7/lib/python3.11/site-packages (from langchain-community<0.3.0,>=0.2.10->langchain_experimental) (3.9.3)\n",
      "Requirement already satisfied: dataclasses-json<0.7,>=0.5.7 in /Users/rsarup/.pyenv/versions/3.11.7/lib/python3.11/site-packages (from langchain-community<0.3.0,>=0.2.10->langchain_experimental) (0.6.4)\n",
      "Requirement already satisfied: langchain<0.3.0,>=0.2.12 in /Users/rsarup/.pyenv/versions/3.11.7/lib/python3.11/site-packages (from langchain-community<0.3.0,>=0.2.10->langchain_experimental) (0.2.12)\n",
      "Requirement already satisfied: langsmith<0.2.0,>=0.1.0 in /Users/rsarup/.pyenv/versions/3.11.7/lib/python3.11/site-packages (from langchain-community<0.3.0,>=0.2.10->langchain_experimental) (0.1.96)\n",
      "Requirement already satisfied: numpy<2,>=1 in /Users/rsarup/.pyenv/versions/3.11.7/lib/python3.11/site-packages (from langchain-community<0.3.0,>=0.2.10->langchain_experimental) (1.26.4)\n",
      "Requirement already satisfied: requests<3,>=2 in /Users/rsarup/.pyenv/versions/3.11.7/lib/python3.11/site-packages (from langchain-community<0.3.0,>=0.2.10->langchain_experimental) (2.32.3)\n",
      "Requirement already satisfied: tenacity!=8.4.0,<9.0.0,>=8.1.0 in /Users/rsarup/.pyenv/versions/3.11.7/lib/python3.11/site-packages (from langchain-community<0.3.0,>=0.2.10->langchain_experimental) (8.2.3)\n",
      "Requirement already satisfied: jsonpatch<2.0,>=1.33 in /Users/rsarup/.pyenv/versions/3.11.7/lib/python3.11/site-packages (from langchain-core<0.3.0,>=0.2.27->langchain_experimental) (1.33)\n",
      "Requirement already satisfied: packaging<25,>=23.2 in /Users/rsarup/.pyenv/versions/3.11.7/lib/python3.11/site-packages (from langchain-core<0.3.0,>=0.2.27->langchain_experimental) (23.2)\n",
      "Requirement already satisfied: pydantic<3,>=1 in /Users/rsarup/.pyenv/versions/3.11.7/lib/python3.11/site-packages (from langchain-core<0.3.0,>=0.2.27->langchain_experimental) (2.6.1)\n",
      "Requirement already satisfied: typing-extensions>=4.7 in /Users/rsarup/.pyenv/versions/3.11.7/lib/python3.11/site-packages (from langchain-core<0.3.0,>=0.2.27->langchain_experimental) (4.9.0)\n",
      "Requirement already satisfied: aiosignal>=1.1.2 in /Users/rsarup/.pyenv/versions/3.11.7/lib/python3.11/site-packages (from aiohttp<4.0.0,>=3.8.3->langchain-community<0.3.0,>=0.2.10->langchain_experimental) (1.3.1)\n",
      "Requirement already satisfied: attrs>=17.3.0 in /Users/rsarup/.pyenv/versions/3.11.7/lib/python3.11/site-packages (from aiohttp<4.0.0,>=3.8.3->langchain-community<0.3.0,>=0.2.10->langchain_experimental) (23.2.0)\n",
      "Requirement already satisfied: frozenlist>=1.1.1 in /Users/rsarup/.pyenv/versions/3.11.7/lib/python3.11/site-packages (from aiohttp<4.0.0,>=3.8.3->langchain-community<0.3.0,>=0.2.10->langchain_experimental) (1.4.1)\n",
      "Requirement already satisfied: multidict<7.0,>=4.5 in /Users/rsarup/.pyenv/versions/3.11.7/lib/python3.11/site-packages (from aiohttp<4.0.0,>=3.8.3->langchain-community<0.3.0,>=0.2.10->langchain_experimental) (6.0.5)\n",
      "Requirement already satisfied: yarl<2.0,>=1.0 in /Users/rsarup/.pyenv/versions/3.11.7/lib/python3.11/site-packages (from aiohttp<4.0.0,>=3.8.3->langchain-community<0.3.0,>=0.2.10->langchain_experimental) (1.9.4)\n",
      "Requirement already satisfied: marshmallow<4.0.0,>=3.18.0 in /Users/rsarup/.pyenv/versions/3.11.7/lib/python3.11/site-packages (from dataclasses-json<0.7,>=0.5.7->langchain-community<0.3.0,>=0.2.10->langchain_experimental) (3.20.2)\n",
      "Requirement already satisfied: typing-inspect<1,>=0.4.0 in /Users/rsarup/.pyenv/versions/3.11.7/lib/python3.11/site-packages (from dataclasses-json<0.7,>=0.5.7->langchain-community<0.3.0,>=0.2.10->langchain_experimental) (0.9.0)\n",
      "Requirement already satisfied: jsonpointer>=1.9 in /Users/rsarup/.pyenv/versions/3.11.7/lib/python3.11/site-packages (from jsonpatch<2.0,>=1.33->langchain-core<0.3.0,>=0.2.27->langchain_experimental) (2.4)\n",
      "Requirement already satisfied: langchain-text-splitters<0.3.0,>=0.2.0 in /Users/rsarup/.pyenv/versions/3.11.7/lib/python3.11/site-packages (from langchain<0.3.0,>=0.2.12->langchain-community<0.3.0,>=0.2.10->langchain_experimental) (0.2.2)\n",
      "Requirement already satisfied: orjson<4.0.0,>=3.9.14 in /Users/rsarup/.pyenv/versions/3.11.7/lib/python3.11/site-packages (from langsmith<0.2.0,>=0.1.0->langchain-community<0.3.0,>=0.2.10->langchain_experimental) (3.10.6)\n",
      "Requirement already satisfied: annotated-types>=0.4.0 in /Users/rsarup/.pyenv/versions/3.11.7/lib/python3.11/site-packages (from pydantic<3,>=1->langchain-core<0.3.0,>=0.2.27->langchain_experimental) (0.6.0)\n",
      "Requirement already satisfied: pydantic-core==2.16.2 in /Users/rsarup/.pyenv/versions/3.11.7/lib/python3.11/site-packages (from pydantic<3,>=1->langchain-core<0.3.0,>=0.2.27->langchain_experimental) (2.16.2)\n",
      "Requirement already satisfied: charset-normalizer<4,>=2 in /Users/rsarup/.pyenv/versions/3.11.7/lib/python3.11/site-packages (from requests<3,>=2->langchain-community<0.3.0,>=0.2.10->langchain_experimental) (3.3.2)\n",
      "Requirement already satisfied: idna<4,>=2.5 in /Users/rsarup/.pyenv/versions/3.11.7/lib/python3.11/site-packages (from requests<3,>=2->langchain-community<0.3.0,>=0.2.10->langchain_experimental) (3.6)\n",
      "Requirement already satisfied: urllib3<3,>=1.21.1 in /Users/rsarup/.pyenv/versions/3.11.7/lib/python3.11/site-packages (from requests<3,>=2->langchain-community<0.3.0,>=0.2.10->langchain_experimental) (2.2.0)\n",
      "Requirement already satisfied: certifi>=2017.4.17 in /Users/rsarup/.pyenv/versions/3.11.7/lib/python3.11/site-packages (from requests<3,>=2->langchain-community<0.3.0,>=0.2.10->langchain_experimental) (2024.2.2)\n",
      "Requirement already satisfied: mypy-extensions>=0.3.0 in /Users/rsarup/.pyenv/versions/3.11.7/lib/python3.11/site-packages (from typing-inspect<1,>=0.4.0->dataclasses-json<0.7,>=0.5.7->langchain-community<0.3.0,>=0.2.10->langchain_experimental) (1.0.0)\n"
     ]
    },
    {
     "name": "stderr",
     "output_type": "stream",
     "text": [
      "huggingface/tokenizers: The current process just got forked, after parallelism has already been used. Disabling parallelism to avoid deadlocks...\n",
      "To disable this warning, you can either:\n",
      "\t- Avoid using `tokenizers` before the fork if possible\n",
      "\t- Explicitly set the environment variable TOKENIZERS_PARALLELISM=(true | false)\n"
     ]
    },
    {
     "name": "stdout",
     "output_type": "stream",
     "text": [
      "Requirement already satisfied: langchain_core in /Users/rsarup/.pyenv/versions/3.11.7/lib/python3.11/site-packages (0.2.27)\n",
      "Requirement already satisfied: PyYAML>=5.3 in /Users/rsarup/.pyenv/versions/3.11.7/lib/python3.11/site-packages (from langchain_core) (6.0.1)\n",
      "Requirement already satisfied: jsonpatch<2.0,>=1.33 in /Users/rsarup/.pyenv/versions/3.11.7/lib/python3.11/site-packages (from langchain_core) (1.33)\n",
      "Requirement already satisfied: langsmith<0.2.0,>=0.1.75 in /Users/rsarup/.pyenv/versions/3.11.7/lib/python3.11/site-packages (from langchain_core) (0.1.96)\n",
      "Requirement already satisfied: packaging<25,>=23.2 in /Users/rsarup/.pyenv/versions/3.11.7/lib/python3.11/site-packages (from langchain_core) (23.2)\n",
      "Requirement already satisfied: pydantic<3,>=1 in /Users/rsarup/.pyenv/versions/3.11.7/lib/python3.11/site-packages (from langchain_core) (2.6.1)\n",
      "Requirement already satisfied: tenacity!=8.4.0,<9.0.0,>=8.1.0 in /Users/rsarup/.pyenv/versions/3.11.7/lib/python3.11/site-packages (from langchain_core) (8.2.3)\n",
      "Requirement already satisfied: typing-extensions>=4.7 in /Users/rsarup/.pyenv/versions/3.11.7/lib/python3.11/site-packages (from langchain_core) (4.9.0)\n",
      "Requirement already satisfied: jsonpointer>=1.9 in /Users/rsarup/.pyenv/versions/3.11.7/lib/python3.11/site-packages (from jsonpatch<2.0,>=1.33->langchain_core) (2.4)\n",
      "Requirement already satisfied: orjson<4.0.0,>=3.9.14 in /Users/rsarup/.pyenv/versions/3.11.7/lib/python3.11/site-packages (from langsmith<0.2.0,>=0.1.75->langchain_core) (3.10.6)\n",
      "Requirement already satisfied: requests<3,>=2 in /Users/rsarup/.pyenv/versions/3.11.7/lib/python3.11/site-packages (from langsmith<0.2.0,>=0.1.75->langchain_core) (2.32.3)\n",
      "Requirement already satisfied: annotated-types>=0.4.0 in /Users/rsarup/.pyenv/versions/3.11.7/lib/python3.11/site-packages (from pydantic<3,>=1->langchain_core) (0.6.0)\n",
      "Requirement already satisfied: pydantic-core==2.16.2 in /Users/rsarup/.pyenv/versions/3.11.7/lib/python3.11/site-packages (from pydantic<3,>=1->langchain_core) (2.16.2)\n",
      "Requirement already satisfied: charset-normalizer<4,>=2 in /Users/rsarup/.pyenv/versions/3.11.7/lib/python3.11/site-packages (from requests<3,>=2->langsmith<0.2.0,>=0.1.75->langchain_core) (3.3.2)\n",
      "Requirement already satisfied: idna<4,>=2.5 in /Users/rsarup/.pyenv/versions/3.11.7/lib/python3.11/site-packages (from requests<3,>=2->langsmith<0.2.0,>=0.1.75->langchain_core) (3.6)\n",
      "Requirement already satisfied: urllib3<3,>=1.21.1 in /Users/rsarup/.pyenv/versions/3.11.7/lib/python3.11/site-packages (from requests<3,>=2->langsmith<0.2.0,>=0.1.75->langchain_core) (2.2.0)\n",
      "Requirement already satisfied: certifi>=2017.4.17 in /Users/rsarup/.pyenv/versions/3.11.7/lib/python3.11/site-packages (from requests<3,>=2->langsmith<0.2.0,>=0.1.75->langchain_core) (2024.2.2)\n"
     ]
    }
   ],
   "source": [
    "!pip3 install langchain_huggingface\n",
    "!pip3 install yfiles_jupyter_graphs\n",
    "!pip3 install neo4j\n",
    "!pip3 install langchain_experimental\n",
    "!pip3 install langchain_core"
   ]
  },
  {
   "cell_type": "code",
   "execution_count": 23,
   "id": "bf419bea-0031-4498-9e1a-3f9048c6a0b4",
   "metadata": {},
   "outputs": [],
   "source": [
    "from typing import List\n",
    "from langchain_community.graphs import Neo4jGraph\n",
    "from langchain.docstore.document import Document\n",
    "from langchain_community.llms import Ollama\n",
    "from langchain_core.messages import HumanMessage\n",
    "from langchain_core.output_parsers import StrOutputParser\n",
    "from langchain_experimental.graph_transformers import LLMGraphTransformer\n",
    "from langchain.text_splitter import TokenTextSplitter\n",
    "from langchain_community.vectorstores import Neo4jVector\n",
    "from langchain.chains import RetrievalQA\n",
    "import gradio as gr\n",
    "import os\n",
    "\n"
   ]
  },
  {
   "cell_type": "code",
   "execution_count": 24,
   "id": "903a3c4c-9cb5-4de5-b5da-00e5c87d7ba8",
   "metadata": {},
   "outputs": [],
   "source": [
    "os.environ[\"NEO4J_URI\"] = \"bolt://localhost:7687\"\n",
    "os.environ[\"NEO4J_USERNAME\"] = \"neo4j\"\n",
    "os.environ[\"NEO4J_PASSWORD\"] = \"Password1!\"\n",
    "\n",
    "graph = Neo4jGraph()\n"
   ]
  },
  {
   "cell_type": "code",
   "execution_count": 25,
   "id": "33f12d8d-dab0-4e8c-a3ce-87787e3b37ed",
   "metadata": {
    "scrolled": true
   },
   "outputs": [
    {
     "name": "stdout",
     "output_type": "stream",
     "text": [
      "Chunk 1:\n",
      "page_content='Emily is an employee at TechNova, a leading technology company based in Silicon Heights. She has been working there for the past four years as a software developer. James is also an employee at TechNova, where he works as a data analyst. He joined the company three years ago after completing his undergraduate studies. TechNova is a renowned technology company that specializes in developing innovative software solutions and advanced artificial intelligence systems. The company boasts a diverse team of talented professionals from various fields. Both Emily and James are highly skilled experts who contribute significantly to TechNova's achievements. They collaborate closely with their respective teams to create cutting-edge products and services that cater to the dynamic needs of the company's clients.'\n",
      "\n"
     ]
    }
   ],
   "source": [
    "text = \"\"\"Emily is an employee at TechNova, a leading technology company based in Silicon Heights. She has been working there for the past four years as a software developer. James is also an employee at TechNova, where he works as a data analyst. He joined the company three years ago after completing his undergraduate studies. TechNova is a renowned technology company that specializes in developing innovative software solutions and advanced artificial intelligence systems. The company boasts a diverse team of talented professionals from various fields. Both Emily and James are highly skilled experts who contribute significantly to TechNova's achievements. They collaborate closely with their respective teams to create cutting-edge products and services that cater to the dynamic needs of the company's clients.\"\"\"\n",
    "\n",
    "# Initialize TokenTextSplitter with desired parameters\n",
    "text_splitter = TokenTextSplitter(\n",
    "    chunk_size=200,  # Adjust chunk size as needed\n",
    "    chunk_overlap=20  # Adjust overlap to maintain context\n",
    ")\n",
    "\n",
    "# Convert the formatted text into a list of Document objects\n",
    "documents = [Document(page_content=text)]\n",
    "\n",
    "# Split the text into chunks\n",
    "texts = text_splitter.split_documents(documents)\n",
    "\n",
    "# Print the split chunks\n",
    "for i, chunk in enumerate(texts):\n",
    "    print(f\"Chunk {i+1}:\\n{chunk}\\n\")\n",
    "\n"
   ]
  },
  {
   "cell_type": "code",
   "execution_count": 26,
   "id": "6faa3cf6-e87e-43a1-8413-1de8c01ad195",
   "metadata": {
    "scrolled": true
   },
   "outputs": [],
   "source": [
    "\n",
    "llm = Ollama(model=\"llama3\")\n",
    "\n",
    "llm_transformer = LLMGraphTransformer(\n",
    "    llm=llm, \n",
    "    allowed_nodes=[\"Author\", \"Book\", \"Publisher\"],\n",
    "    allowed_relationships=[\"WRITTEN_BY\", \"PUBLISHED_BY\"],\n",
    ")\n",
    "\n"
   ]
  },
  {
   "cell_type": "code",
   "execution_count": 27,
   "id": "7c306f30-4ebc-4c88-9647-1e2d40f544fa",
   "metadata": {
    "scrolled": true
   },
   "outputs": [
    {
     "name": "stdout",
     "output_type": "stream",
     "text": [
      "graph documents [GraphDocument(nodes=[Node(id='software developer', type='Book'), Node(id='Emily', type='Author'), Node(id='TechNova', type='Publisher'), Node(id='data analyst', type='Book'), Node(id='James', type='Author')], relationships=[Relationship(source=Node(id='Emily', type='Author'), target=Node(id='software developer', type='Book'), type='WRITTEN_BY'), Relationship(source=Node(id='James', type='Author'), target=Node(id='data analyst', type='Book'), type='WRITTEN_BY')], source=Document(page_content=\"Emily is an employee at TechNova, a leading technology company based in Silicon Heights. She has been working there for the past four years as a software developer. James is also an employee at TechNova, where he works as a data analyst. He joined the company three years ago after completing his undergraduate studies. TechNova is a renowned technology company that specializes in developing innovative software solutions and advanced artificial intelligence systems. The company boasts a diverse team of talented professionals from various fields. Both Emily and James are highly skilled experts who contribute significantly to TechNova's achievements. They collaborate closely with their respective teams to create cutting-edge products and services that cater to the dynamic needs of the company's clients.\"))]\n"
     ]
    }
   ],
   "source": [
    "# Extract graph data\n",
    "graph_documents = llm_transformer.convert_to_graph_documents(texts)\n",
    "print(\"graph documents\", graph_documents)\n"
   ]
  },
  {
   "cell_type": "code",
   "execution_count": 28,
   "id": "90a996bd-2f3e-4ef1-afc2-f78d9acc5b55",
   "metadata": {},
   "outputs": [
    {
     "name": "stdout",
     "output_type": "stream",
     "text": [
      "Nodes:[Node(id='software developer', type='Book'), Node(id='Emily', type='Author'), Node(id='TechNova', type='Publisher'), Node(id='data analyst', type='Book'), Node(id='James', type='Author')]\n",
      "-----------------------------------------------------------------\n",
      "Relationships:[Relationship(source=Node(id='Emily', type='Author'), target=Node(id='software developer', type='Book'), type='WRITTEN_BY'), Relationship(source=Node(id='James', type='Author'), target=Node(id='data analyst', type='Book'), type='WRITTEN_BY')]\n"
     ]
    }
   ],
   "source": [
    "print(f\"Nodes:{graph_documents[0].nodes}\") # this is to see Nodes of generated graph\n",
    "print(\"-----------------------------------------------------------------\")\n",
    "print(f\"Relationships:{graph_documents[0].relationships}\") \n"
   ]
  },
  {
   "cell_type": "code",
   "execution_count": 29,
   "id": "7fd0dbb7-6c29-403b-87be-2a47222f6d9a",
   "metadata": {
    "scrolled": true
   },
   "outputs": [
    {
     "data": {
      "application/vnd.jupyter.widget-view+json": {
       "model_id": "9500344fac58463f807e857e1e4194a8",
       "version_major": 2,
       "version_minor": 0
      },
      "text/plain": [
       "GraphWidget(layout=Layout(height='800px', width='100%'))"
      ]
     },
     "metadata": {},
     "output_type": "display_data"
    }
   ],
   "source": [
    "from neo4j import GraphDatabase\n",
    "from yfiles_jupyter_graphs import GraphWidget\n",
    "\n",
    "# directly show the graph resulting from the given Cypher query\n",
    "default_cypher = \"MATCH (s)-[r:!MENTIONS]->(t) RETURN s,r,t LIMIT 50\"\n",
    "\n",
    "def showGraph(cypher: str = default_cypher):\n",
    "    # create a neo4j session to run queries\n",
    "    driver = GraphDatabase.driver(\n",
    "        uri = os.environ[\"NEO4J_URI\"],\n",
    "        auth = (os.environ[\"NEO4J_USERNAME\"],\n",
    "                os.environ[\"NEO4J_PASSWORD\"]))\n",
    "    session = driver.session()\n",
    "    widget = GraphWidget(graph = session.run(cypher).graph())\n",
    "    widget.node_label_mapping = 'id'\n",
    "    #display(widget)\n",
    "    return widget\n",
    "\n",
    "showGraph()\n"
   ]
  },
  {
   "cell_type": "code",
   "execution_count": 30,
   "id": "c4c3c0de-c120-4207-b732-605a2817bde7",
   "metadata": {
    "scrolled": true
   },
   "outputs": [
    {
     "name": "stdout",
     "output_type": "stream",
     "text": [
      "Documents successfully added to Graph DataBase\n"
     ]
    }
   ],
   "source": [
    "graph.add_graph_documents(graph_documents)\n",
    "print(\"Documents successfully added to Graph DataBase\")"
   ]
  },
  {
   "cell_type": "code",
   "execution_count": 33,
   "id": "befd4e68-ee90-4561-a325-a13cc2abe9d1",
   "metadata": {},
   "outputs": [
    {
     "name": "stdout",
     "output_type": "stream",
     "text": [
      "Documents successfully added to Graph DataBase\n"
     ]
    }
   ],
   "source": [
    "# # Ensure valid labels for graph documents\n",
    "# for doc in graph_documents:\n",
    "#     print(doc.nodes)\n",
    "#     if not doc.nodes:\n",
    "#         doc.nodes = ['Document']  # Assign a default label if none exists\n",
    "\n",
    "\n",
    "# Store to neo4j\n",
    "graph.add_graph_documents(\n",
    "    graph_documents,\n",
    "    baseEntityLabel=True,\n",
    "    include_source=True\n",
    ")\n",
    "print(\"Documents successfully added to Graph DataBase\")\n"
   ]
  },
  {
   "cell_type": "code",
   "execution_count": 34,
   "id": "0234bd8f-305f-4501-aaad-f31e8fdd21de",
   "metadata": {},
   "outputs": [],
   "source": [
    "#load the embedding model\n",
    "\n",
    "from langchain_huggingface import HuggingFaceEmbeddings\n",
    "embeddings = HuggingFaceEmbeddings(model_name  = \"BAAI/bge-base-en-v1.5\")"
   ]
  },
  {
   "cell_type": "code",
   "execution_count": 35,
   "id": "d21cda30-eed3-4c5f-8f3f-9406e6ebad7e",
   "metadata": {},
   "outputs": [],
   "source": [
    "vector_index = Neo4jVector.from_existing_graph(\n",
    "    embeddings,\n",
    "    search_type=\"hybrid\",\n",
    "    node_label=\"Document\",\n",
    "    text_node_properties=[\"text\"],\n",
    "    embedding_node_property=\"embedding\"\n",
    ")"
   ]
  },
  {
   "cell_type": "code",
   "execution_count": 36,
   "id": "e6c76560-3687-41d9-8321-e5b336bfe6e7",
   "metadata": {},
   "outputs": [],
   "source": [
    "qa_chain = RetrievalQA.from_chain_type(\n",
    "    llm, retriever=vector_index.as_retriever()\n",
    ")\n"
   ]
  },
  {
   "cell_type": "code",
   "execution_count": 37,
   "id": "0b77ca50-9c67-4861-b904-1db433892948",
   "metadata": {},
   "outputs": [
    {
     "name": "stdout",
     "output_type": "stream",
     "text": [
      "Use the following pieces of context to answer the question at the end. If you don't know the answer, just say that you don't know, don't try to make up an answer.\n",
      "\n",
      "{context}\n",
      "\n",
      "Question: {question}\n",
      "Helpful Answer:\n"
     ]
    }
   ],
   "source": [
    "print(qa_chain.combine_documents_chain.llm_chain.prompt.template)"
   ]
  },
  {
   "cell_type": "code",
   "execution_count": null,
   "id": "485c4889-39c1-4aa6-bfe3-8e782f97842b",
   "metadata": {},
   "outputs": [],
   "source": []
  },
  {
   "cell_type": "code",
   "execution_count": 38,
   "id": "a31002cb-a292-4192-b6ea-91da6c5e2406",
   "metadata": {},
   "outputs": [],
   "source": [
    "from langchain_core.prompts import PromptTemplate\n",
    "\n",
    "template = \"\"\"Use the following pieces of context to answer the question at the end. \n",
    "If you don't know the answer, just say that you don't know, don't try to make up an answer. \n",
    "Use three sentences maximum and keep the answer as concise as possible. \n",
    "Always say \"thanks for asking!\" at the end of the answer. \n",
    "{context}\n",
    "Question: {question}\n",
    "Helpful Answer:\"\"\"\n",
    "\n",
    "QA_CHAIN_PROMPT = PromptTemplate(input_variables=[\"context\", \"question\"], template=template)\n",
    "\n",
    "qa_chain = RetrievalQA.from_chain_type(\n",
    "    llm, \n",
    "    retriever=vector_index.as_retriever(),\n",
    "    chain_type_kwargs={\"prompt\": QA_CHAIN_PROMPT}\n",
    ")\n",
    "\n"
   ]
  },
  {
   "cell_type": "code",
   "execution_count": 39,
   "id": "caa33504-23a4-42b0-880b-25bc7b2f6110",
   "metadata": {},
   "outputs": [],
   "source": [
    "# Define the function for querying patient details\n",
    "def query_patient_details(query):\n",
    "    if query is None:\n",
    "        return \"Error: Query cannot be None\"\n",
    "    try:\n",
    "        result = qa_chain({\"query\": query})\n",
    "        return result[\"result\"]\n",
    "    except Exception as e:\n",
    "        return f\"Error: {str(e)}\""
   ]
  },
  {
   "cell_type": "code",
   "execution_count": 40,
   "id": "72d2ab44-9fda-4c18-b1c8-177f7d5156cc",
   "metadata": {},
   "outputs": [
    {
     "name": "stdout",
     "output_type": "stream",
     "text": [
      "Running on local URL:  http://127.0.0.1:7860\n",
      "\n",
      "To create a public link, set `share=True` in `launch()`.\n"
     ]
    },
    {
     "data": {
      "text/html": [
       "<div><iframe src=\"http://127.0.0.1:7860/\" width=\"100%\" height=\"500\" allow=\"autoplay; camera; microphone; clipboard-read; clipboard-write;\" frameborder=\"0\" allowfullscreen></iframe></div>"
      ],
      "text/plain": [
       "<IPython.core.display.HTML object>"
      ]
     },
     "metadata": {},
     "output_type": "display_data"
    },
    {
     "data": {
      "text/plain": []
     },
     "execution_count": 40,
     "metadata": {},
     "output_type": "execute_result"
    }
   ],
   "source": [
    "# Create a Gradio interface\n",
    "interface = gr.Interface(\n",
    "    fn=query_patient_details,        # Function to call\n",
    "    inputs=gr.Textbox(label=\"Enter your question\"),  # Input textbox\n",
    "    outputs=gr.Textbox(label=\"Answer\")   # Output textbox\n",
    ")\n",
    "\n",
    "# Launch the interface\n",
    "interface.launch()"
   ]
  },
  {
   "cell_type": "code",
   "execution_count": null,
   "id": "1cd0595a-2d01-4b48-bc79-2645dd5b2f94",
   "metadata": {},
   "outputs": [],
   "source": []
  }
 ],
 "metadata": {
  "kernelspec": {
   "display_name": "Python 3 (ipykernel)",
   "language": "python",
   "name": "python3"
  },
  "language_info": {
   "codemirror_mode": {
    "name": "ipython",
    "version": 3
   },
   "file_extension": ".py",
   "mimetype": "text/x-python",
   "name": "python",
   "nbconvert_exporter": "python",
   "pygments_lexer": "ipython3",
   "version": "3.11.7"
  }
 },
 "nbformat": 4,
 "nbformat_minor": 5
}
